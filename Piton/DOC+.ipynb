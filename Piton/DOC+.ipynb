{
 "cells": [
  {
   "cell_type": "code",
   "execution_count": 2,
   "metadata": {
    "collapsed": false
   },
   "outputs": [],
   "source": [
    "import pandas as pd\n",
    "import numpy as np\n",
    "from sklearn.preprocessing import StandardScaler\n",
    "from sklearn.preprocessing import LabelEncoder\n",
    "import matplotlib.pyplot as plt\n",
    "from pandas import ExcelWriter\n",
    "from sklearn.grid_search import GridSearchCV\n",
    "from sklearn.cross_validation import KFold\n",
    "from sklearn.cross_validation import cross_val_score\n",
    "from sklearn.cross_validation import train_test_split\n",
    "from sklearn.cross_validation import KFold\n",
    "from sklearn.metrics import roc_auc_score, roc_curve, log_loss, confusion_matrix, precision_score, recall_score, classification_report, accuracy_score\n",
    "#classificators\n",
    "from sklearn.linear_model import LogisticRegression\n",
    "from sklearn.ensemble import GradientBoostingClassifier\n",
    "from sklearn.ensemble import RandomForestClassifier\n",
    "from sklearn.ensemble import ExtraTreesClassifier\n",
    "import collections\n",
    "import warnings\n",
    "warnings.filterwarnings('ignore')\n",
    "%matplotlib inline"
   ]
  },
  {
   "cell_type": "code",
   "execution_count": 3,
   "metadata": {
    "collapsed": true
   },
   "outputs": [],
   "source": [
    "scaler = StandardScaler()\n",
    "label = LabelEncoder()"
   ]
  },
  {
   "cell_type": "code",
   "execution_count": 16,
   "metadata": {
    "collapsed": false
   },
   "outputs": [],
   "source": [
    "df=pd.read_csv('data.csv',index_col=False)"
   ]
  },
  {
   "cell_type": "markdown",
   "metadata": {},
   "source": [
    "Генерим немного фич"
   ]
  },
  {
   "cell_type": "code",
   "execution_count": 18,
   "metadata": {
    "collapsed": false,
    "scrolled": true
   },
   "outputs": [
    {
     "data": {
      "text/html": [
       "<div>\n",
       "<style>\n",
       "    .dataframe thead tr:only-child th {\n",
       "        text-align: right;\n",
       "    }\n",
       "\n",
       "    .dataframe thead th {\n",
       "        text-align: left;\n",
       "    }\n",
       "\n",
       "    .dataframe tbody tr th {\n",
       "        vertical-align: top;\n",
       "    }\n",
       "</style>\n",
       "<table border=\"1\" class=\"dataframe\">\n",
       "  <thead>\n",
       "    <tr style=\"text-align: right;\">\n",
       "      <th></th>\n",
       "      <th>symboling</th>\n",
       "      <th>normalized-losses</th>\n",
       "      <th>make</th>\n",
       "      <th>fuel-type</th>\n",
       "      <th>aspiration</th>\n",
       "      <th>num-of-doors</th>\n",
       "      <th>body-style</th>\n",
       "      <th>drive-wheels</th>\n",
       "      <th>engine-location</th>\n",
       "      <th>wheel-base</th>\n",
       "      <th>...</th>\n",
       "      <th>num-of-cylinders</th>\n",
       "      <th>engine-size</th>\n",
       "      <th>fuel-system</th>\n",
       "      <th>bore</th>\n",
       "      <th>stroke</th>\n",
       "      <th>compression-ratio</th>\n",
       "      <th>horsepower</th>\n",
       "      <th>peak-rpm</th>\n",
       "      <th>city-mpg</th>\n",
       "      <th>price</th>\n",
       "    </tr>\n",
       "  </thead>\n",
       "  <tbody>\n",
       "    <tr>\n",
       "      <th>0</th>\n",
       "      <td>3</td>\n",
       "      <td>?</td>\n",
       "      <td>alfa-romero</td>\n",
       "      <td>gas</td>\n",
       "      <td>std</td>\n",
       "      <td>two</td>\n",
       "      <td>convertible</td>\n",
       "      <td>rwd</td>\n",
       "      <td>front</td>\n",
       "      <td>88.6</td>\n",
       "      <td>...</td>\n",
       "      <td>four</td>\n",
       "      <td>130</td>\n",
       "      <td>mpfi</td>\n",
       "      <td>3.47</td>\n",
       "      <td>2.68</td>\n",
       "      <td>9.0</td>\n",
       "      <td>111</td>\n",
       "      <td>5000</td>\n",
       "      <td>21</td>\n",
       "      <td>27</td>\n",
       "    </tr>\n",
       "    <tr>\n",
       "      <th>1</th>\n",
       "      <td>3</td>\n",
       "      <td>?</td>\n",
       "      <td>alfa-romero</td>\n",
       "      <td>gas</td>\n",
       "      <td>std</td>\n",
       "      <td>two</td>\n",
       "      <td>convertible</td>\n",
       "      <td>rwd</td>\n",
       "      <td>front</td>\n",
       "      <td>88.6</td>\n",
       "      <td>...</td>\n",
       "      <td>four</td>\n",
       "      <td>130</td>\n",
       "      <td>mpfi</td>\n",
       "      <td>3.47</td>\n",
       "      <td>2.68</td>\n",
       "      <td>9.0</td>\n",
       "      <td>111</td>\n",
       "      <td>5000</td>\n",
       "      <td>21</td>\n",
       "      <td>27</td>\n",
       "    </tr>\n",
       "    <tr>\n",
       "      <th>2</th>\n",
       "      <td>1</td>\n",
       "      <td>?</td>\n",
       "      <td>alfa-romero</td>\n",
       "      <td>gas</td>\n",
       "      <td>std</td>\n",
       "      <td>two</td>\n",
       "      <td>hatchback</td>\n",
       "      <td>rwd</td>\n",
       "      <td>front</td>\n",
       "      <td>94.5</td>\n",
       "      <td>...</td>\n",
       "      <td>six</td>\n",
       "      <td>152</td>\n",
       "      <td>mpfi</td>\n",
       "      <td>2.68</td>\n",
       "      <td>3.47</td>\n",
       "      <td>9.0</td>\n",
       "      <td>154</td>\n",
       "      <td>5000</td>\n",
       "      <td>19</td>\n",
       "      <td>26</td>\n",
       "    </tr>\n",
       "    <tr>\n",
       "      <th>3</th>\n",
       "      <td>2</td>\n",
       "      <td>164</td>\n",
       "      <td>audi</td>\n",
       "      <td>gas</td>\n",
       "      <td>std</td>\n",
       "      <td>four</td>\n",
       "      <td>sedan</td>\n",
       "      <td>fwd</td>\n",
       "      <td>front</td>\n",
       "      <td>99.8</td>\n",
       "      <td>...</td>\n",
       "      <td>four</td>\n",
       "      <td>109</td>\n",
       "      <td>mpfi</td>\n",
       "      <td>3.19</td>\n",
       "      <td>3.40</td>\n",
       "      <td>10.0</td>\n",
       "      <td>102</td>\n",
       "      <td>5500</td>\n",
       "      <td>24</td>\n",
       "      <td>30</td>\n",
       "    </tr>\n",
       "    <tr>\n",
       "      <th>4</th>\n",
       "      <td>2</td>\n",
       "      <td>164</td>\n",
       "      <td>audi</td>\n",
       "      <td>gas</td>\n",
       "      <td>std</td>\n",
       "      <td>four</td>\n",
       "      <td>sedan</td>\n",
       "      <td>4wd</td>\n",
       "      <td>front</td>\n",
       "      <td>99.4</td>\n",
       "      <td>...</td>\n",
       "      <td>five</td>\n",
       "      <td>136</td>\n",
       "      <td>mpfi</td>\n",
       "      <td>3.19</td>\n",
       "      <td>3.40</td>\n",
       "      <td>8.0</td>\n",
       "      <td>115</td>\n",
       "      <td>5500</td>\n",
       "      <td>18</td>\n",
       "      <td>22</td>\n",
       "    </tr>\n",
       "  </tbody>\n",
       "</table>\n",
       "<p>5 rows × 25 columns</p>\n",
       "</div>"
      ],
      "text/plain": [
       "   symboling normalized-losses         make fuel-type aspiration num-of-doors  \\\n",
       "0          3                 ?  alfa-romero       gas        std          two   \n",
       "1          3                 ?  alfa-romero       gas        std          two   \n",
       "2          1                 ?  alfa-romero       gas        std          two   \n",
       "3          2               164         audi       gas        std         four   \n",
       "4          2               164         audi       gas        std         four   \n",
       "\n",
       "    body-style drive-wheels engine-location  wheel-base  ...   \\\n",
       "0  convertible          rwd           front        88.6  ...    \n",
       "1  convertible          rwd           front        88.6  ...    \n",
       "2    hatchback          rwd           front        94.5  ...    \n",
       "3        sedan          fwd           front        99.8  ...    \n",
       "4        sedan          4wd           front        99.4  ...    \n",
       "\n",
       "   num-of-cylinders  engine-size  fuel-system  bore stroke compression-ratio  \\\n",
       "0              four          130         mpfi  3.47   2.68               9.0   \n",
       "1              four          130         mpfi  3.47   2.68               9.0   \n",
       "2               six          152         mpfi  2.68   3.47               9.0   \n",
       "3              four          109         mpfi  3.19   3.40              10.0   \n",
       "4              five          136         mpfi  3.19   3.40               8.0   \n",
       "\n",
       "   horsepower peak-rpm city-mpg price  \n",
       "0         111     5000       21    27  \n",
       "1         111     5000       21    27  \n",
       "2         154     5000       19    26  \n",
       "3         102     5500       24    30  \n",
       "4         115     5500       18    22  \n",
       "\n",
       "[5 rows x 25 columns]"
      ]
     },
     "execution_count": 18,
     "metadata": {},
     "output_type": "execute_result"
    }
   ],
   "source": [
    "df.head()"
   ]
  },
  {
   "cell_type": "code",
   "execution_count": 19,
   "metadata": {
    "collapsed": false
   },
   "outputs": [
    {
     "data": {
      "text/plain": [
       "Index([u'symboling', u'normalized-losses', u'make', u'fuel-type',\n",
       "       u'aspiration', u'num-of-doors', u'body-style', u'drive-wheels',\n",
       "       u'engine-location', u'wheel-base', u'length', u'width', u'height',\n",
       "       u'curb-weight', u'engine-type', u'num-of-cylinders', u'engine-size',\n",
       "       u'fuel-system', u'bore', u'stroke', u'compression-ratio', u'horsepower',\n",
       "       u'peak-rpm', u'city-mpg', u'price'],\n",
       "      dtype='object')"
      ]
     },
     "execution_count": 19,
     "metadata": {},
     "output_type": "execute_result"
    }
   ],
   "source": [
    "df.columns"
   ]
  },
  {
   "cell_type": "code",
   "execution_count": 20,
   "metadata": {
    "collapsed": false
   },
   "outputs": [
    {
     "data": {
      "text/plain": [
       "symboling              int64\n",
       "normalized-losses     object\n",
       "make                  object\n",
       "fuel-type             object\n",
       "aspiration            object\n",
       "num-of-doors          object\n",
       "body-style            object\n",
       "drive-wheels          object\n",
       "engine-location       object\n",
       "wheel-base           float64\n",
       "length               float64\n",
       "width                float64\n",
       "height               float64\n",
       "curb-weight            int64\n",
       "engine-type           object\n",
       "num-of-cylinders      object\n",
       "engine-size            int64\n",
       "fuel-system           object\n",
       "bore                  object\n",
       "stroke                object\n",
       "compression-ratio    float64\n",
       "horsepower            object\n",
       "peak-rpm              object\n",
       "city-mpg               int64\n",
       "price                  int64\n",
       "dtype: object"
      ]
     },
     "execution_count": 20,
     "metadata": {},
     "output_type": "execute_result"
    }
   ],
   "source": [
    "df.dtypes"
   ]
  },
  {
   "cell_type": "code",
   "execution_count": null,
   "metadata": {
    "collapsed": false
   },
   "outputs": [],
   "source": [
    "df.isnull().values.any()"
   ]
  },
  {
   "cell_type": "code",
   "execution_count": null,
   "metadata": {
    "collapsed": false
   },
   "outputs": [],
   "source": [
    "df=df2.copy()"
   ]
  },
  {
   "cell_type": "code",
   "execution_count": null,
   "metadata": {
    "collapsed": false,
    "scrolled": false
   },
   "outputs": [],
   "source": [
    "label.fit_transform(df['POLICY_CLM_N'])"
   ]
  },
  {
   "cell_type": "code",
   "execution_count": null,
   "metadata": {
    "collapsed": true
   },
   "outputs": [],
   "source": [
    "cnt=collections.Counter(df['POLICY_CLM_GLT_N'])\n",
    "for i in range(len(cnt)):\n",
    "    df['POLICY_CLM_GLT_N'][df['POLICY_CLM_GLT_N']==list(cnt.keys())[i]]=list(cnt.values())[i]"
   ]
  },
  {
   "cell_type": "code",
   "execution_count": null,
   "metadata": {
    "collapsed": false
   },
   "outputs": [],
   "source": [
    "df['POLICY_CLM_N']"
   ]
  },
  {
   "cell_type": "markdown",
   "metadata": {},
   "source": [
    "Предобработка: категориальное и частотное кодирование, скалер, новые фичи, замена пропусков"
   ]
  },
  {
   "cell_type": "code",
   "execution_count": 163,
   "metadata": {
    "collapsed": false
   },
   "outputs": [],
   "source": [
    "def preproc(data):\n",
    "    data['POLICY_YEARS_RENEWED_N']=data['POLICY_YEARS_RENEWED_N'].replace('N', 0)\n",
    "    data=data.drop('POLICY_ID', axis=1)\n",
    "    data.Polis=data.POLICY_END_MONTH-data.POLICY_BEGIN_MONTH\n",
    "    cat_val=['VEHICLE_MAKE',   'INSURER_GENDER']\n",
    "    for i in cat_val:\n",
    "        data[i]=label.fit_transform(data[i])\n",
    "    freq_val=['VEHICLE_MODEL', 'POLICY_CLM_N',  'POLICY_INTERMEDIARY', 'CLIENT_REGISTRATION_REGION','POLICY_BRANCH','POLICY_PRV_CLM_GLT_N','POLICY_PRV_CLM_N','POLICY_CLM_GLT_N']\n",
    "    for j in freq_val:\n",
    "        cnt=collections.Counter(data[j])\n",
    "        for i in range(len(cnt)):\n",
    "            data[j][data[j]==list(cnt.keys())[i]]=list(cnt.values())[i]\n",
    "    X=scaler.fit_transform(data)\n",
    "    X=pd.DataFrame(X)\n",
    "    X.columns=data.columns\n",
    "    return X"
   ]
  },
  {
   "cell_type": "code",
   "execution_count": null,
   "metadata": {
    "collapsed": false
   },
   "outputs": [],
   "source": [
    "Y=df.POLICY_IS_RENEWED\n",
    "df=df.drop('POLICY_IS_RENEWED',axis=1)\n",
    "X=preproc(df)"
   ]
  },
  {
   "cell_type": "code",
   "execution_count": null,
   "metadata": {
    "collapsed": false
   },
   "outputs": [],
   "source": [
    "X=X.drop('POLICY_ID', axis=1)"
   ]
  },
  {
   "cell_type": "code",
   "execution_count": null,
   "metadata": {
    "collapsed": false
   },
   "outputs": [],
   "source": [
    "X_train, X_test, y_train, y_test = train_test_split(X, Y, test_size=0.33, random_state=0)"
   ]
  },
  {
   "cell_type": "code",
   "execution_count": null,
   "metadata": {
    "collapsed": false
   },
   "outputs": [],
   "source": [
    "clf = RandomForestClassifier(random_state=0,class_weight=\"balanced\")\n",
    "tuned_parameters = [{'min_samples_split':np.arange(1, 4, 1)},\n",
    "                     {'n_estimators':np.arange(5, 50, 5)},\n",
    "                      {'max_depth':np.arange(1, 6, 1)}]\n",
    "gs = GridSearchCV(clf, tuned_parameters, cv=7, verbose=True)"
   ]
  },
  {
   "cell_type": "code",
   "execution_count": null,
   "metadata": {
    "collapsed": false
   },
   "outputs": [],
   "source": [
    "gs.fit(X_train, y_train)"
   ]
  },
  {
   "cell_type": "code",
   "execution_count": null,
   "metadata": {
    "collapsed": false
   },
   "outputs": [],
   "source": [
    "clf = GradientBoostingClassifier(random_state=0).fit(X_train, y_train)\n",
    "tuned_parameters = [{'learning_rate':np.arange(0.2, 1, 0.1)},\n",
    "                     {'n_estimators':np.arange(60, 200, 20)},\n",
    "                      {'max_depth':np.arange(2, 6, 1)}]\n",
    "gs = GridSearchCV(clf, tuned_parameters, cv=5, verbose=True)\n",
    "gs.fit(X_train, y_train)      \n",
    "preds_gb=gs.predict_proba(X_test)"
   ]
  },
  {
   "cell_type": "code",
   "execution_count": null,
   "metadata": {
    "collapsed": false
   },
   "outputs": [],
   "source": [
    "print ('ROC_AUC: ', roc_auc_score(gs.predict(X_train), y_train))   \n",
    "print ('ROC_AUC: ', roc_auc_score(gs.predict(X_test), y_test))   "
   ]
  },
  {
   "cell_type": "code",
   "execution_count": null,
   "metadata": {
    "collapsed": false
   },
   "outputs": [],
   "source": [
    "preds_train=pd.Series(gs.predict(X_train))\n",
    "preds_train.value_counts()[:15]\n",
    "preds_gb=gs.predict_proba(X_test)"
   ]
  },
  {
   "cell_type": "code",
   "execution_count": null,
   "metadata": {
    "collapsed": false
   },
   "outputs": [],
   "source": [
    "imp = pd.DataFrame(list(zip(df.columns, clf.feature_importances_)))\n",
    "imp=imp[:30]\n",
    "imp = imp.reindex(imp[1].abs().sort_values().index).set_index(0)\n",
    "#график_фич\n",
    "ax = imp.plot.barh(width = .6, legend = \"\", figsize = (12, 9))\n",
    "ax.set_title(\"Gradient Boosting coefs\", y = 1.03, fontsize = 16.)\n",
    "_ = ax.set(frame_on = False, xlabel = \"\", xticklabels = \"\", ylabel = \"\")\n",
    "for i, label in enumerate(list(imp.index)):\n",
    "    score = imp.loc[label][1]\n",
    "    ax.annotate('%.2f' % score, (score + (-.12 if score < 0 else .02), i - .2), fontsize = 10.5)"
   ]
  },
  {
   "cell_type": "markdown",
   "metadata": {},
   "source": [
    "Пробуем ХГБ"
   ]
  },
  {
   "cell_type": "code",
   "execution_count": 146,
   "metadata": {
    "collapsed": false,
    "scrolled": true
   },
   "outputs": [
    {
     "name": "stdout",
     "output_type": "stream",
     "text": [
      "[0]\ttrain-auc:0.71006\tvalid-auc:0.704069\n",
      "Multiple eval metrics have been passed: 'valid-auc' will be used for early stopping.\n",
      "\n",
      "Will train until valid-auc hasn't improved in 50 rounds.\n",
      "[10]\ttrain-auc:0.717536\tvalid-auc:0.711743\n",
      "[20]\ttrain-auc:0.720197\tvalid-auc:0.71354\n",
      "[30]\ttrain-auc:0.724739\tvalid-auc:0.717264\n",
      "[40]\ttrain-auc:0.728711\tvalid-auc:0.719639\n",
      "[50]\ttrain-auc:0.731554\tvalid-auc:0.72155\n",
      "[60]\ttrain-auc:0.734805\tvalid-auc:0.723619\n",
      "[70]\ttrain-auc:0.738738\tvalid-auc:0.726108\n",
      "[80]\ttrain-auc:0.742167\tvalid-auc:0.728069\n",
      "[90]\ttrain-auc:0.744873\tvalid-auc:0.729756\n",
      "[100]\ttrain-auc:0.747533\tvalid-auc:0.731072\n",
      "[110]\ttrain-auc:0.749909\tvalid-auc:0.732165\n",
      "[120]\ttrain-auc:0.752308\tvalid-auc:0.733327\n",
      "[130]\ttrain-auc:0.75452\tvalid-auc:0.73432\n",
      "[140]\ttrain-auc:0.756548\tvalid-auc:0.734913\n",
      "[150]\ttrain-auc:0.758471\tvalid-auc:0.735421\n",
      "[160]\ttrain-auc:0.760368\tvalid-auc:0.73601\n",
      "[170]\ttrain-auc:0.76235\tvalid-auc:0.736735\n",
      "[180]\ttrain-auc:0.764157\tvalid-auc:0.73756\n",
      "[190]\ttrain-auc:0.765506\tvalid-auc:0.738185\n",
      "[200]\ttrain-auc:0.767073\tvalid-auc:0.738818\n",
      "[210]\ttrain-auc:0.768505\tvalid-auc:0.739272\n",
      "[220]\ttrain-auc:0.770261\tvalid-auc:0.739992\n",
      "[230]\ttrain-auc:0.77175\tvalid-auc:0.740388\n",
      "[240]\ttrain-auc:0.772978\tvalid-auc:0.740807\n",
      "[250]\ttrain-auc:0.774001\tvalid-auc:0.741095\n",
      "[260]\ttrain-auc:0.775385\tvalid-auc:0.741674\n",
      "[270]\ttrain-auc:0.776472\tvalid-auc:0.742052\n",
      "[280]\ttrain-auc:0.777679\tvalid-auc:0.742345\n",
      "[290]\ttrain-auc:0.778796\tvalid-auc:0.742657\n",
      "[300]\ttrain-auc:0.779862\tvalid-auc:0.742989\n",
      "[310]\ttrain-auc:0.78093\tvalid-auc:0.743258\n",
      "[320]\ttrain-auc:0.781846\tvalid-auc:0.743475\n",
      "[330]\ttrain-auc:0.782911\tvalid-auc:0.743807\n",
      "[340]\ttrain-auc:0.783908\tvalid-auc:0.744031\n",
      "[350]\ttrain-auc:0.785033\tvalid-auc:0.744388\n",
      "[360]\ttrain-auc:0.785896\tvalid-auc:0.744541\n",
      "[370]\ttrain-auc:0.786855\tvalid-auc:0.744721\n",
      "[380]\ttrain-auc:0.787816\tvalid-auc:0.744937\n",
      "[390]\ttrain-auc:0.788817\tvalid-auc:0.745091\n",
      "[400]\ttrain-auc:0.789607\tvalid-auc:0.745265\n",
      "[410]\ttrain-auc:0.790384\tvalid-auc:0.745483\n",
      "[420]\ttrain-auc:0.791191\tvalid-auc:0.745659\n",
      "[430]\ttrain-auc:0.791939\tvalid-auc:0.745818\n",
      "[440]\ttrain-auc:0.792785\tvalid-auc:0.745946\n",
      "[450]\ttrain-auc:0.793384\tvalid-auc:0.745993\n",
      "[460]\ttrain-auc:0.794317\tvalid-auc:0.74615\n",
      "[470]\ttrain-auc:0.795217\tvalid-auc:0.746307\n",
      "[480]\ttrain-auc:0.795831\tvalid-auc:0.746442\n",
      "[490]\ttrain-auc:0.79667\tvalid-auc:0.746488\n",
      "[500]\ttrain-auc:0.79724\tvalid-auc:0.746551\n",
      "[510]\ttrain-auc:0.797903\tvalid-auc:0.74663\n",
      "[520]\ttrain-auc:0.798388\tvalid-auc:0.74673\n",
      "[530]\ttrain-auc:0.798954\tvalid-auc:0.746843\n",
      "[540]\ttrain-auc:0.799467\tvalid-auc:0.746938\n",
      "[550]\ttrain-auc:0.80046\tvalid-auc:0.74721\n",
      "[560]\ttrain-auc:0.800966\tvalid-auc:0.747208\n",
      "[570]\ttrain-auc:0.801724\tvalid-auc:0.747309\n",
      "[580]\ttrain-auc:0.802514\tvalid-auc:0.747422\n",
      "[590]\ttrain-auc:0.802906\tvalid-auc:0.747395\n",
      "[600]\ttrain-auc:0.803483\tvalid-auc:0.747446\n",
      "[610]\ttrain-auc:0.803929\tvalid-auc:0.747493\n",
      "[620]\ttrain-auc:0.804503\tvalid-auc:0.747593\n",
      "[630]\ttrain-auc:0.805027\tvalid-auc:0.747561\n",
      "[640]\ttrain-auc:0.805401\tvalid-auc:0.747575\n",
      "[650]\ttrain-auc:0.805813\tvalid-auc:0.747601\n",
      "[660]\ttrain-auc:0.806245\tvalid-auc:0.747642\n",
      "[670]\ttrain-auc:0.806712\tvalid-auc:0.747699\n",
      "[680]\ttrain-auc:0.807088\tvalid-auc:0.747719\n",
      "[690]\ttrain-auc:0.807785\tvalid-auc:0.747839\n",
      "[700]\ttrain-auc:0.80816\tvalid-auc:0.747833\n",
      "[710]\ttrain-auc:0.808467\tvalid-auc:0.747845\n",
      "[720]\ttrain-auc:0.809026\tvalid-auc:0.747905\n",
      "[730]\ttrain-auc:0.809422\tvalid-auc:0.747911\n",
      "[740]\ttrain-auc:0.809836\tvalid-auc:0.747942\n",
      "[750]\ttrain-auc:0.81014\tvalid-auc:0.747946\n",
      "[760]\ttrain-auc:0.810612\tvalid-auc:0.747923\n",
      "[770]\ttrain-auc:0.810851\tvalid-auc:0.747926\n",
      "[780]\ttrain-auc:0.81123\tvalid-auc:0.747954\n",
      "[790]\ttrain-auc:0.811497\tvalid-auc:0.747973\n",
      "[800]\ttrain-auc:0.811859\tvalid-auc:0.747953\n",
      "[810]\ttrain-auc:0.812183\tvalid-auc:0.747995\n",
      "[820]\ttrain-auc:0.81271\tvalid-auc:0.748004\n",
      "[830]\ttrain-auc:0.812942\tvalid-auc:0.748029\n",
      "[840]\ttrain-auc:0.813243\tvalid-auc:0.748035\n",
      "[850]\ttrain-auc:0.813723\tvalid-auc:0.748023\n",
      "[860]\ttrain-auc:0.814302\tvalid-auc:0.748028\n",
      "[870]\ttrain-auc:0.814793\tvalid-auc:0.748011\n",
      "[880]\ttrain-auc:0.815117\tvalid-auc:0.748028\n",
      "[890]\ttrain-auc:0.815452\tvalid-auc:0.748006\n",
      "Stopping. Best iteration:\n",
      "[845]\ttrain-auc:0.813468\tvalid-auc:0.748057\n",
      "\n"
     ]
    }
   ],
   "source": [
    "import xgboost as xgb\n",
    "\n",
    "# Set our parameters for xgboost\n",
    "params = {}\n",
    "params['objective'] = 'binary:logistic'\n",
    "params['eval_metric'] = 'auc'\n",
    "params['eta'] = 0.02\n",
    "params['max_depth'] = 6\n",
    "\n",
    "d_train = xgb.DMatrix(X_train, label=y_train)\n",
    "d_test = xgb.DMatrix(X_test, label=y_test)\n",
    "\n",
    "watchlist = [(d_train, 'train'), (d_test, 'valid')]\n",
    "\n",
    "bst = xgb.train(params, d_train, 1000, watchlist, early_stopping_rounds=50, verbose_eval=10)"
   ]
  },
  {
   "cell_type": "code",
   "execution_count": 160,
   "metadata": {
    "collapsed": false
   },
   "outputs": [
    {
     "data": {
      "text/plain": [
       "array([ 0.27196217,  0.16868275,  0.88601112, ...,  0.47607931,\n",
       "        0.67035526,  0.78050154], dtype=float32)"
      ]
     },
     "execution_count": 160,
     "metadata": {},
     "output_type": "execute_result"
    }
   ],
   "source": [
    "preds=bst.predict(d_train)\n",
    "preds"
   ]
  },
  {
   "cell_type": "code",
   "execution_count": null,
   "metadata": {
    "collapsed": false
   },
   "outputs": [],
   "source": [
    "print ('ROC_AUC: ', roc_auc_score(bst.predict(X_train), y_train))  "
   ]
  },
  {
   "cell_type": "code",
   "execution_count": 157,
   "metadata": {
    "collapsed": false
   },
   "outputs": [
    {
     "data": {
      "text/plain": [
       "<matplotlib.axes._subplots.AxesSubplot at 0x7f0de5d5b438>"
      ]
     },
     "execution_count": 157,
     "metadata": {},
     "output_type": "execute_result"
    },
    {
     "data": {
      "image/png": "[encoded data removed]",
      "text/plain": [
       "<matplotlib.figure.Figure at 0x7f0de5c7f860>"
      ]
     },
     "metadata": {},
     "output_type": "display_data"
    }
   ],
   "source": [
    "xgb.plot_importance(bst)"
   ]
  },
  {
   "cell_type": "code",
   "execution_count": null,
   "metadata": {
    "collapsed": false
   },
   "outputs": [],
   "source": [
    "#ROC_Curve \n",
    "plt.figure(figsize = (8, 8))\n",
    "plt.plot(*roc_curve(y_test, preds_gb[:, 1])[:2])\n",
    "plt.legend([\"GB Classifier\"], loc = \"upper left\")\n",
    "plt.plot((0., 1.), (0., 1.), \"--k\", alpha = .7)\n",
    "plt.xlabel(\"False Positive Rate\"), plt.ylabel(\"True Positive Rate\")\n",
    "plt.title(\"ROC Curves\", fontsize = 16.)"
   ]
  },
  {
   "cell_type": "markdown",
   "metadata": {},
   "source": [
    "# TEST"
   ]
  },
  {
   "cell_type": "code",
   "execution_count": 181,
   "metadata": {
    "collapsed": true
   },
   "outputs": [],
   "source": [
    "def preproc(data):\n",
    "    data['POLICY_YEARS_RENEWED_N']=data['POLICY_YEARS_RENEWED_N'].replace('N', 0)\n",
    "    data=data.drop('POLICY_ID', axis=1)\n",
    "    data.Polis=data.POLICY_END_MONTH-data.POLICY_BEGIN_MONTH\n",
    "    cat_val=['VEHICLE_MAKE',   'INSURER_GENDER']\n",
    "    for i in cat_val:\n",
    "        data[i]=label.fit_transform(data[i])\n",
    "    freq_val=['VEHICLE_MODEL', 'POLICY_CLM_N',  'POLICY_INTERMEDIARY', 'CLIENT_REGISTRATION_REGION','POLICY_BRANCH','POLICY_PRV_CLM_GLT_N','POLICY_PRV_CLM_N','POLICY_CLM_GLT_N']\n",
    "    for j in freq_val:\n",
    "        cnt=collections.Counter(data[j])\n",
    "        for i in range(len(cnt)):\n",
    "            data[j][data[j]==list(cnt.keys())[i]]=list(cnt.values())[i]\n",
    "    X=scaler.fit_transform(data)\n",
    "    X=pd.DataFrame(X)\n",
    "    X.columns=data.columns\n",
    "    return X"
   ]
  },
  {
   "cell_type": "code",
   "execution_count": 182,
   "metadata": {
    "collapsed": false
   },
   "outputs": [],
   "source": [
    "test2=preproc(test)"
   ]
  },
  {
   "cell_type": "code",
   "execution_count": 183,
   "metadata": {
    "collapsed": true
   },
   "outputs": [],
   "source": [
    "test2=test2.drop('POLICY_IS_RENEWED',axis=1)"
   ]
  },
  {
   "cell_type": "code",
   "execution_count": 187,
   "metadata": {
    "collapsed": false
   },
   "outputs": [
    {
     "data": {
      "text/plain": [
       "array([ 0.60760218,  0.40577602,  0.39062798, ...,  0.60896689,\n",
       "        0.49212492,  0.43574387], dtype=float32)"
      ]
     },
     "execution_count": 187,
     "metadata": {},
     "output_type": "execute_result"
    }
   ],
   "source": [
    "ans=bst.predict(xgb.DMatrix(test2))\n",
    "ans"
   ]
  },
  {
   "cell_type": "code",
   "execution_count": 190,
   "metadata": {
    "collapsed": false
   },
   "outputs": [],
   "source": [
    "ans=pd.concat([test[\"POLICY_IS_RENEWED\"],pd.DataFrame(ans)], axis=1)\n",
    "ans.to_csv(\"ren1.csv\")"
   ]
  }
 ],
 "metadata": {
  "anaconda-cloud": {},
  "kernelspec": {
   "display_name": "Python 3",
   "language": "python",
   "name": "python3"
  },
  "language_info": {
   "codemirror_mode": {
    "name": "ipython",
    "version": 2
   },
   "file_extension": ".py",
   "mimetype": "text/x-python",
   "name": "python",
   "nbconvert_exporter": "python",
   "pygments_lexer": "ipython2",
   "version": "2.7.5"
  }
 },
 "nbformat": 4,
 "nbformat_minor": 1
}
