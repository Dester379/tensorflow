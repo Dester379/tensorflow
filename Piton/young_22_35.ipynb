{
 "cells": [
  {
   "cell_type": "markdown",
   "metadata": {},
   "source": [
    "<div id=\"toc\"></div>"
   ]
  },
  {
   "cell_type": "code",
   "execution_count": 1,
   "metadata": {
    "collapsed": true
   },
   "outputs": [],
   "source": [
    "import pandas as pd\n",
    "import numpy as np\n",
    "import scipy as sc\n",
    "import matplotlib.pyplot as plt\n",
    "import seaborn as sns\n",
    "import warnings as warn\n",
    "from sklearn import preprocessing, metrics, neighbors, cluster, pipeline, decomposition, feature_extraction\n",
    "%matplotlib inline"
   ]
  },
  {
   "cell_type": "markdown",
   "metadata": {},
   "source": [
    "# В качестве признаков - не абсолютное значение, а доля среднемесячных трат в категории к среднемесячному доходу"
   ]
  },
  {
   "cell_type": "code",
   "execution_count": 22,
   "metadata": {
    "collapsed": true
   },
   "outputs": [],
   "source": [
    "young_ordinary=pd.read_csv('young_ordinary.csv')\n",
    "cif=pd.read_csv('cif_ordinary.csv')"
   ]
  },
  {
   "cell_type": "code",
   "execution_count": null,
   "metadata": {
    "collapsed": false
   },
   "outputs": [],
   "source": [
    "cif.head()"
   ]
  },
  {
   "cell_type": "code",
   "execution_count": 5,
   "metadata": {
    "collapsed": false
   },
   "outputs": [
    {
     "data": {
      "text/html": [
       "<div>\n",
       "<table border=\"1\" class=\"dataframe\">\n",
       "  <thead>\n",
       "    <tr style=\"text-align: right;\">\n",
       "      <th></th>\n",
       "      <th>Unnamed: 0</th>\n",
       "      <th>CU_MOB</th>\n",
       "      <th>parent_segment</th>\n",
       "      <th>parent_type</th>\n",
       "      <th>avg_salary</th>\n",
       "      <th>dc_c</th>\n",
       "      <th>dc_v</th>\n",
       "      <th>cc_c</th>\n",
       "      <th>cc_v</th>\n",
       "      <th>cashback_f</th>\n",
       "      <th>...</th>\n",
       "      <th>L.AUTO</th>\n",
       "      <th>L.MORT</th>\n",
       "      <th>L.PLOAN_rep</th>\n",
       "      <th>L.AURO_rep</th>\n",
       "      <th>L.MORT_rep</th>\n",
       "      <th>ip_f</th>\n",
       "      <th>active_months</th>\n",
       "      <th>trx_in_v</th>\n",
       "      <th>trx_in_month_num</th>\n",
       "      <th>salary</th>\n",
       "    </tr>\n",
       "  </thead>\n",
       "  <tbody>\n",
       "    <tr>\n",
       "      <th>0</th>\n",
       "      <td>46</td>\n",
       "      <td>68</td>\n",
       "      <td>15874</td>\n",
       "      <td>49633</td>\n",
       "      <td>37539.664167</td>\n",
       "      <td>174</td>\n",
       "      <td>179015.49</td>\n",
       "      <td>0</td>\n",
       "      <td>0.0</td>\n",
       "      <td>0.0</td>\n",
       "      <td>...</td>\n",
       "      <td>0.0</td>\n",
       "      <td>0.0</td>\n",
       "      <td>5391.42</td>\n",
       "      <td>0.0</td>\n",
       "      <td>0.0</td>\n",
       "      <td>100739</td>\n",
       "      <td>12</td>\n",
       "      <td>605110.91</td>\n",
       "      <td>12</td>\n",
       "      <td>40249.231</td>\n",
       "    </tr>\n",
       "    <tr>\n",
       "      <th>1</th>\n",
       "      <td>94</td>\n",
       "      <td>66</td>\n",
       "      <td>27143</td>\n",
       "      <td>49633</td>\n",
       "      <td>89452.317917</td>\n",
       "      <td>569</td>\n",
       "      <td>371237.93</td>\n",
       "      <td>0</td>\n",
       "      <td>0.0</td>\n",
       "      <td>0.0</td>\n",
       "      <td>...</td>\n",
       "      <td>0.0</td>\n",
       "      <td>0.0</td>\n",
       "      <td>0.00</td>\n",
       "      <td>0.0</td>\n",
       "      <td>0.0</td>\n",
       "      <td>100739</td>\n",
       "      <td>12</td>\n",
       "      <td>1709380.93</td>\n",
       "      <td>12</td>\n",
       "      <td>66738.256</td>\n",
       "    </tr>\n",
       "    <tr>\n",
       "      <th>2</th>\n",
       "      <td>104</td>\n",
       "      <td>68</td>\n",
       "      <td>32380</td>\n",
       "      <td>32380</td>\n",
       "      <td>25971.230000</td>\n",
       "      <td>138</td>\n",
       "      <td>69612.80</td>\n",
       "      <td>0</td>\n",
       "      <td>0.0</td>\n",
       "      <td>0.0</td>\n",
       "      <td>...</td>\n",
       "      <td>0.0</td>\n",
       "      <td>0.0</td>\n",
       "      <td>0.00</td>\n",
       "      <td>0.0</td>\n",
       "      <td>0.0</td>\n",
       "      <td>100739</td>\n",
       "      <td>12</td>\n",
       "      <td>74223.59</td>\n",
       "      <td>12</td>\n",
       "      <td>0.000</td>\n",
       "    </tr>\n",
       "    <tr>\n",
       "      <th>3</th>\n",
       "      <td>162</td>\n",
       "      <td>68</td>\n",
       "      <td>32380</td>\n",
       "      <td>32380</td>\n",
       "      <td>32300.743333</td>\n",
       "      <td>42</td>\n",
       "      <td>33462.31</td>\n",
       "      <td>0</td>\n",
       "      <td>0.0</td>\n",
       "      <td>0.0</td>\n",
       "      <td>...</td>\n",
       "      <td>0.0</td>\n",
       "      <td>0.0</td>\n",
       "      <td>0.00</td>\n",
       "      <td>0.0</td>\n",
       "      <td>0.0</td>\n",
       "      <td>100739</td>\n",
       "      <td>5</td>\n",
       "      <td>222971.78</td>\n",
       "      <td>12</td>\n",
       "      <td>0.000</td>\n",
       "    </tr>\n",
       "    <tr>\n",
       "      <th>4</th>\n",
       "      <td>236</td>\n",
       "      <td>67</td>\n",
       "      <td>32380</td>\n",
       "      <td>32380</td>\n",
       "      <td>18313.060000</td>\n",
       "      <td>544</td>\n",
       "      <td>313305.98</td>\n",
       "      <td>0</td>\n",
       "      <td>0.0</td>\n",
       "      <td>0.0</td>\n",
       "      <td>...</td>\n",
       "      <td>0.0</td>\n",
       "      <td>0.0</td>\n",
       "      <td>0.00</td>\n",
       "      <td>0.0</td>\n",
       "      <td>0.0</td>\n",
       "      <td>100739</td>\n",
       "      <td>12</td>\n",
       "      <td>426070.00</td>\n",
       "      <td>12</td>\n",
       "      <td>0.000</td>\n",
       "    </tr>\n",
       "  </tbody>\n",
       "</table>\n",
       "<p>5 rows × 164 columns</p>\n",
       "</div>"
      ],
      "text/plain": [
       "   Unnamed: 0  CU_MOB  parent_segment  parent_type    avg_salary  dc_c  \\\n",
       "0          46      68           15874        49633  37539.664167   174   \n",
       "1          94      66           27143        49633  89452.317917   569   \n",
       "2         104      68           32380        32380  25971.230000   138   \n",
       "3         162      68           32380        32380  32300.743333    42   \n",
       "4         236      67           32380        32380  18313.060000   544   \n",
       "\n",
       "        dc_v  cc_c  cc_v  cashback_f    ...      L.AUTO  L.MORT  L.PLOAN_rep  \\\n",
       "0  179015.49     0   0.0         0.0    ...         0.0     0.0      5391.42   \n",
       "1  371237.93     0   0.0         0.0    ...         0.0     0.0         0.00   \n",
       "2   69612.80     0   0.0         0.0    ...         0.0     0.0         0.00   \n",
       "3   33462.31     0   0.0         0.0    ...         0.0     0.0         0.00   \n",
       "4  313305.98     0   0.0         0.0    ...         0.0     0.0         0.00   \n",
       "\n",
       "   L.AURO_rep  L.MORT_rep    ip_f  active_months    trx_in_v  \\\n",
       "0         0.0         0.0  100739             12   605110.91   \n",
       "1         0.0         0.0  100739             12  1709380.93   \n",
       "2         0.0         0.0  100739             12    74223.59   \n",
       "3         0.0         0.0  100739              5   222971.78   \n",
       "4         0.0         0.0  100739             12   426070.00   \n",
       "\n",
       "   trx_in_month_num     salary  \n",
       "0                12  40249.231  \n",
       "1                12  66738.256  \n",
       "2                12      0.000  \n",
       "3                12      0.000  \n",
       "4                12      0.000  \n",
       "\n",
       "[5 rows x 164 columns]"
      ]
     },
     "execution_count": 5,
     "metadata": {},
     "output_type": "execute_result"
    }
   ],
   "source": [
    "young_ordinary.head()"
   ]
  },
  {
   "cell_type": "code",
   "execution_count": 23,
   "metadata": {
    "collapsed": false
   },
   "outputs": [],
   "source": [
    "with warn.catch_warnings():\n",
    "        warn.simplefilter(\"ignore\")\n",
    "        cif.drop(['Unnamed: 0'], axis=1, inplace=True)\n",
    "        young_ordinary.drop(['Unnamed: 0'], axis=1, inplace=True)"
   ]
  },
  {
   "cell_type": "code",
   "execution_count": 7,
   "metadata": {
    "collapsed": false
   },
   "outputs": [
    {
     "data": {
      "text/plain": [
       "False"
      ]
     },
     "execution_count": 7,
     "metadata": {},
     "output_type": "execute_result"
    }
   ],
   "source": [
    "young_ordinary.isnull().any().any()"
   ]
  },
  {
   "cell_type": "code",
   "execution_count": 24,
   "metadata": {
    "collapsed": false
   },
   "outputs": [],
   "source": [
    "young_ordinary=cif.merge(young_ordinary,  left_index=True, right_index=True)"
   ]
  },
  {
   "cell_type": "code",
   "execution_count": 25,
   "metadata": {
    "collapsed": false
   },
   "outputs": [
    {
     "name": "stdout",
     "output_type": "stream",
     "text": [
      "Index(['Accessories', 'Active rest', 'Alcohol and tobacco',\n",
      "       'Audio, video, computers and appl', 'Auto parts', 'Autodillers',\n",
      "       'Autoservices', 'Avia', 'Cinema', 'Clothes', 'Clothes and shoes',\n",
      "       'Cosmetics', 'Furniture', 'Garden', 'Hotels and rent',\n",
      "       'Legal, insurance and consulting', 'Maintenance and building', 'Office',\n",
      "       'Other', 'Pharmacies', 'Railway transport', 'Restaurant', 'Sport',\n",
      "       'Supermarkets', 'Advertising, design, photo, prin', 'Providers',\n",
      "       'Shoes', 'Medical services', 'Pet shop', 'Beauty', 'Other services',\n",
      "       'Postal services, delivery', 'Toys', 'Car rent', 'Filling station',\n",
      "       'Music', 'Autotransport', 'Clothing,shoes and appliances re',\n",
      "       'Duty free', 'Tourism', 'Theater', 'Art and literature', 'Housing',\n",
      "       'Vet service', 'Kindergarten, baby sitters', 'Money orders',\n",
      "       'Sea transport', 'Professional education', 'Home repair',\n",
      "       'General education', 'Courses and trainings'],\n",
      "      dtype='object')\n"
     ]
    }
   ],
   "source": [
    "txn_cols_amount=young_ordinary.columns[17:68]\n",
    "print(txn_cols_amount)"
   ]
  },
  {
   "cell_type": "code",
   "execution_count": 26,
   "metadata": {
    "collapsed": false
   },
   "outputs": [
    {
     "name": "stdout",
     "output_type": "stream",
     "text": [
      "Index(['Accessories_t', 'Active rest_t', 'Alcohol and tobacco_t',\n",
      "       'Audio, video, computers_t', 'Auto parts_t', 'Autodillers_t',\n",
      "       'Autoservices_t', 'Avia_t', 'Cinema_t', 'Clothes_t',\n",
      "       'Clothes and shoes_t', 'Cosmetics_t', 'Furniture_t', 'Garden_t',\n",
      "       'Hotels and rent_t', 'Legal, insurance_t', 'Maintenance and building_t',\n",
      "       'Office_t', 'Other_t', 'Pharmacies_t', 'Railway transport_t',\n",
      "       'Restaurant_t', 'Sport_t', 'Supermarkets_t', 'Advertising, design_t',\n",
      "       'Providers_t', 'Shoes_t', 'Medical services_t', 'Pet shop_t',\n",
      "       'Beauty_t', 'Other services_t', 'Postal services, delivery_t', 'Toys_t',\n",
      "       'Car rent_t', 'Filling station_t', 'Music_t', 'Autotransport_t',\n",
      "       'Clothing,appliances repair_t', 'Duty free_t', 'Tourism_t', 'Theater_t',\n",
      "       'Art and literature_t', 'Housing_t', 'Vet service_t',\n",
      "       'Kindergarten, baby sitters_t', 'Money orders_t', 'Sea transport_t',\n",
      "       'Professional education_t', 'Home repair_t', 'General education_t',\n",
      "       'Courses and trainings_t'],\n",
      "      dtype='object')\n"
     ]
    }
   ],
   "source": [
    "txn_cols_count=young_ordinary.columns[68:119]\n",
    "print(txn_cols_count)"
   ]
  },
  {
   "cell_type": "code",
   "execution_count": 27,
   "metadata": {
    "collapsed": false
   },
   "outputs": [
    {
     "name": "stdout",
     "output_type": "stream",
     "text": [
      "Index(['atm_t', 'c2c_rconnect_t', 'c2c_other_t', 'c2c_atm_t', 'branch_t',\n",
      "       'ATM', 'C2C_RCONNECT', 'C2C_OTHER', 'C2C_ATM', 'BRANCH', 'atm_o_t',\n",
      "       'c2c_rconnect_o_t', 'c2c_other_o_t', 'bills_atm_o_t', 'c2c_atm_o_t',\n",
      "       'bills_rconnect_o_t', 'branch_o_t', 'c2c_rconnect_o', 'c2c_other_o',\n",
      "       'bills_atm_o', 'c2c_atm_o', 'bills_rconnect_o', 'branch_o'],\n",
      "      dtype='object')\n"
     ]
    }
   ],
   "source": [
    "atm_cols=young_ordinary.columns[119:142]\n",
    "print(atm_cols)"
   ]
  },
  {
   "cell_type": "code",
   "execution_count": 28,
   "metadata": {
    "collapsed": false
   },
   "outputs": [
    {
     "name": "stdout",
     "output_type": "stream",
     "text": [
      "Index(['IND_PAYROLL_F', 'CAPTIVE_BANK_F', 'month_num_dep', 'avg_amount_dep',\n",
      "       'month_num_mut', 'month_num_ins', 'month_num_sa', 'avg_amount_sa',\n",
      "       'month_num_gold', 'month_num_prem_dir', 'month_num_prem', 'L.PLOAN',\n",
      "       'L.AUTO', 'L.MORT', 'L.PLOAN_rep', 'L.AURO_rep', 'L.MORT_rep', 'ip_f'],\n",
      "      dtype='object')\n"
     ]
    }
   ],
   "source": [
    "prod_cols=young_ordinary.columns[142:160]\n",
    "print(prod_cols)"
   ]
  },
  {
   "cell_type": "markdown",
   "metadata": {},
   "source": [
    "## Отберём клиентов Mass и LowerMass  с доходом 22-35 тыс"
   ]
  },
  {
   "cell_type": "code",
   "execution_count": 9,
   "metadata": {
    "collapsed": false
   },
   "outputs": [
    {
     "data": {
      "text/plain": [
       "array([49428, 13101, 35844,  2729])"
      ]
     },
     "execution_count": 9,
     "metadata": {},
     "output_type": "execute_result"
    }
   ],
   "source": [
    "young_ordinary['cu_segment'].unique()"
   ]
  },
  {
   "cell_type": "code",
   "execution_count": 10,
   "metadata": {
    "collapsed": true
   },
   "outputs": [],
   "source": [
    "affluent=young_ordinary[((young_ordinary['cu_segment']==13101)|(young_ordinary['cu_segment']==2729)) & (young_ordinary['salary']>=35000) & (young_ordinary['salary']<=66000)]"
   ]
  },
  {
   "cell_type": "code",
   "execution_count": 29,
   "metadata": {
    "collapsed": false
   },
   "outputs": [],
   "source": [
    "young_ordinary=young_ordinary[((young_ordinary['cu_segment']==49428)|(young_ordinary['cu_segment']==35844)) & (young_ordinary['salary']>=22000) & (young_ordinary['salary']<=35000)]"
   ]
  },
  {
   "cell_type": "code",
   "execution_count": 48,
   "metadata": {
    "collapsed": false
   },
   "outputs": [
    {
     "data": {
      "text/plain": [
       "(4148, 164)"
      ]
     },
     "execution_count": 48,
     "metadata": {},
     "output_type": "execute_result"
    }
   ],
   "source": [
    "affluent.shape"
   ]
  },
  {
   "cell_type": "code",
   "execution_count": 30,
   "metadata": {
    "collapsed": false
   },
   "outputs": [
    {
     "data": {
      "text/plain": [
       "(15507, 164)"
      ]
     },
     "execution_count": 30,
     "metadata": {},
     "output_type": "execute_result"
    }
   ],
   "source": [
    "young_ordinary.shape"
   ]
  },
  {
   "cell_type": "markdown",
   "metadata": {},
   "source": [
    "## Не даём модели информацию о доходах и тратах в абсолютных значениях. Смотрим на долю, которую составляют траты в категории от дохода"
   ]
  },
  {
   "cell_type": "code",
   "execution_count": 12,
   "metadata": {
    "collapsed": true
   },
   "outputs": [],
   "source": [
    "def shares(data, txn_cols_amount, txn_cols_count):\n",
    "       #перейдём к среднемесячным тратам, т.к. клиенты были активны на протяжении разного времени\n",
    "        data.ix[:,txn_cols_amount]=data.ix[:,txn_cols_amount].div(data.ix[:,'active_months'], axis='index')\n",
    "        data.ix[:,'trx_in_v']=data.ix[:,'trx_in_v'].div(data.ix[:,'trx_in_month_num'], axis='index')  \n",
    "    \n",
    "       #перейдём к долям по количеству транзакций\n",
    "        data.ix[:,txn_cols_count]=data.ix[:,txn_cols_count].div(data.ix[:,'dc_c'], axis='index')\n",
    "        data.ix[:,['atm_t', 'c2c_rconnect_t', 'c2c_other_t', 'c2c_atm_t', 'branch_t',\n",
    "                         'atm_o_t','c2c_rconnect_o_t', 'c2c_other_o_t', 'bills_atm_o_t', 'c2c_atm_o_t',\n",
    "                         'bills_rconnect_o_t', 'branch_o_t']]=data.ix[:,['atm_t', 'c2c_rconnect_t', 'c2c_other_t', 'c2c_atm_t', 'branch_t',\n",
    "                         'atm_o_t','c2c_rconnect_o_t', 'c2c_other_o_t', 'bills_atm_o_t', 'c2c_atm_o_t',\n",
    "                         'bills_rconnect_o_t', 'branch_o_t']].div(data.ix[:,'trx_in_month_num'], axis='index')\n",
    "        #преобразуем в доли от дохода\n",
    "        data.ix[:,txn_cols_amount]=data.ix[:,txn_cols_amount].div(data.ix[:,'salary'], axis='index')\n",
    "        data.ix[:,['ATM', 'C2C_RCONNECT', 'C2C_OTHER', 'C2C_ATM', 'BRANCH', \n",
    "                         'c2c_rconnect_o', 'c2c_other_o','bills_atm_o', 'c2c_atm_o', 'bills_rconnect_o', 'branch_o']]=data.ix[:,['ATM', 'C2C_RCONNECT', 'C2C_OTHER', 'C2C_ATM', 'BRANCH', \n",
    "                         'c2c_rconnect_o', 'c2c_other_o','bills_atm_o', 'c2c_atm_o', 'bills_rconnect_o', 'branch_o']].div(data.ix[:,'salary'], axis='index')\n",
    "        data.ix[:,['L.PLOAN_rep', 'L.AURO_rep', 'L.MORT_rep']]=data.ix[:,['L.PLOAN_rep', 'L.AURO_rep', 'L.MORT_rep']].div(data.ix[:,'salary'], axis='index')\n",
    "        data.drop(['trx_in_v'], axis=1, inplace=True)\n",
    "        \n",
    "        #продуктовая история - уходим от абсолютных значений \n",
    "        data.ix[:,['month_num_dep', 'month_num_mut', 'month_num_ins',\n",
    "                        'month_num_sa', 'month_num_gold', 'month_num_prem_dir',\n",
    "                        'month_num_prem', 'L.PLOAN', 'L.AUTO', 'L.MORT']]=data.ix[:,['month_num_dep', 'month_num_mut', 'month_num_ins',\n",
    "                        'month_num_sa', 'month_num_gold', 'month_num_prem_dir',\n",
    "                        'month_num_prem', 'L.PLOAN', 'L.AUTO', 'L.MORT']].div(young_ordinary_avg.ix[:,'active_months'], axis='index')\n",
    "        data.ix[:,'payroll_m']=data.ix[:,'payroll_m'].div(data.ix[:,'active_months'], axis='index')\n",
    "        \n",
    "        data.drop(['avg_salary', 'salary','avg_amount_sa', 'avg_amount_dep'], axis=1, inplace=True)\n",
    "        \n",
    "        \n",
    "        data.drop(['active_months', 'trx_in_month_num'], axis=1, inplace=True)\n",
    "        \n",
    "        data['dc_v']=data['dc_v'].div(data['dc_v']+data['cc_v'], axis='index')\n",
    "        data['cc_v']=data['cc_v'].div(data['dc_v']+data['cc_v'], axis='index')\n",
    "        \n",
    "        data['dc_c']=data['dc_c'].div(data['dc_c']+data['cc_c'], axis='index')\n",
    "        data['cc_c']=data['cc_c'].div(data['dc_c']+data['cc_c'], axis='index')\n",
    "        \n",
    "        cif_avg=data.CIF_ID\n",
    "        data.drop('CIF_ID', axis=1, inplace=True)\n",
    "        data.drop('cu_segment', axis=1, inplace=True)\n",
    "        data.drop(['Supermarkets', 'Restaurant', 'Other','Supermarkets_t', 'Restaurant_t', 'Other_t' ], axis=1, inplace=True)\n",
    "        return data"
   ]
  },
  {
   "cell_type": "code",
   "execution_count": 13,
   "metadata": {
    "collapsed": false
   },
   "outputs": [
    {
     "ename": "NameError",
     "evalue": "name 'young_ordinary_avg' is not defined",
     "output_type": "error",
     "traceback": [
      "\u001b[0;31m---------------------------------------------------------------------------\u001b[0m",
      "\u001b[0;31mNameError\u001b[0m                                 Traceback (most recent call last)",
      "\u001b[0;32m<ipython-input-13-03c77e19c37e>\u001b[0m in \u001b[0;36m<module>\u001b[0;34m()\u001b[0m\n\u001b[0;32m----> 1\u001b[0;31m \u001b[0mf\u001b[0m\u001b[0;34m=\u001b[0m\u001b[0mshares\u001b[0m\u001b[0;34m(\u001b[0m\u001b[0myoung_ordinary_avg\u001b[0m\u001b[0;34m,\u001b[0m \u001b[0mtxn_cols_amount\u001b[0m\u001b[0;34m,\u001b[0m \u001b[0mtxn_cols_count\u001b[0m\u001b[0;34m)\u001b[0m\u001b[0;34m\u001b[0m\u001b[0m\n\u001b[0m",
      "\u001b[0;31mNameError\u001b[0m: name 'young_ordinary_avg' is not defined"
     ]
    }
   ],
   "source": [
    "f=shares(young_ordinary_avg, txn_cols_amount, txn_cols_count)"
   ]
  },
  {
   "cell_type": "code",
   "execution_count": null,
   "metadata": {
    "collapsed": false
   },
   "outputs": [],
   "source": [
    "f.shape"
   ]
  },
  {
   "cell_type": "code",
   "execution_count": 31,
   "metadata": {
    "collapsed": false
   },
   "outputs": [],
   "source": [
    "young_ordinary=young_ordinary[young_ordinary['dc_c'].div(young_ordinary['active_months'], axis='index')>=6]\n",
    "affluent=affluent[affluent['dc_c'].div(affluent['active_months'], axis='index')>=6]"
   ]
  },
  {
   "cell_type": "code",
   "execution_count": 15,
   "metadata": {
    "collapsed": false
   },
   "outputs": [
    {
     "data": {
      "text/plain": [
       "(13196, 164)"
      ]
     },
     "execution_count": 15,
     "metadata": {},
     "output_type": "execute_result"
    }
   ],
   "source": [
    "young_ordinary.shape"
   ]
  },
  {
   "cell_type": "code",
   "execution_count": 32,
   "metadata": {
    "collapsed": true
   },
   "outputs": [],
   "source": [
    "young_ordinary_avg=young_ordinary.copy().reset_index(drop=True)\n",
    "young_ordinary_avg=young_ordinary_avg[(young_ordinary_avg['salary']>0)&(young_ordinary_avg['dc_c']>0)]"
   ]
  },
  {
   "cell_type": "code",
   "execution_count": 53,
   "metadata": {
    "collapsed": false
   },
   "outputs": [],
   "source": [
    "affluent=affluent.copy().reset_index(drop=True)\n",
    "affluent=affluent[(affluent['salary']>0)&(affluent['dc_c']>0)]"
   ]
  },
  {
   "cell_type": "code",
   "execution_count": 33,
   "metadata": {
    "collapsed": false
   },
   "outputs": [
    {
     "data": {
      "text/plain": [
       "(13196, 164)"
      ]
     },
     "execution_count": 33,
     "metadata": {},
     "output_type": "execute_result"
    }
   ],
   "source": [
    "young_ordinary_avg.shape"
   ]
  },
  {
   "cell_type": "code",
   "execution_count": 59,
   "metadata": {
    "collapsed": false
   },
   "outputs": [
    {
     "data": {
      "text/plain": [
       "(3914, 163)"
      ]
     },
     "execution_count": 59,
     "metadata": {},
     "output_type": "execute_result"
    }
   ],
   "source": [
    "affluent.shape"
   ]
  },
  {
   "cell_type": "code",
   "execution_count": 34,
   "metadata": {
    "collapsed": false
   },
   "outputs": [],
   "source": [
    "#информация о тратах на еду не несёт пользы\n",
    "#young_ordinary_avg['salary_ost']=young_ordinary_avg['salary']-young_ordinary_avg['Supermarkets']-young_ordinary_avg['Restaurant']-young_ordinary_avg['Other']\n",
    "#young_ordinary_avg['dc_c']=young_ordinary_avg['dc_c']-young_ordinary_avg['Supermarkets_t']-young_ordinary_avg['Restaurant_t']-young_ordinary_avg['Other_t']\n",
    "young_ordinary_avg.drop(['Supermarkets', 'Restaurant', 'Other','Supermarkets_t', 'Restaurant_t', 'Other_t' ], axis=1, inplace=True)"
   ]
  },
  {
   "cell_type": "code",
   "execution_count": null,
   "metadata": {
    "collapsed": true
   },
   "outputs": [],
   "source": [
    "affluent.drop(['Supermarkets', 'Restaurant', 'Other','Supermarkets_t', 'Restaurant_t', 'Other_t' ], axis=1, inplace=True)"
   ]
  },
  {
   "cell_type": "code",
   "execution_count": null,
   "metadata": {
    "collapsed": true
   },
   "outputs": [],
   "source": [
    "#young_ordinary_avg=young_ordinary_avg[(young_ordinary_avg['salary_ost']>0)&(young_ordinary_avg['dc_c']>0)]\n"
   ]
  },
  {
   "cell_type": "code",
   "execution_count": 35,
   "metadata": {
    "collapsed": false
   },
   "outputs": [
    {
     "name": "stdout",
     "output_type": "stream",
     "text": [
      "Index(['Accessories', 'Active rest', 'Alcohol and tobacco',\n",
      "       'Audio, video, computers and appl', 'Auto parts', 'Autodillers',\n",
      "       'Autoservices', 'Avia', 'Cinema', 'Clothes', 'Clothes and shoes',\n",
      "       'Cosmetics', 'Furniture', 'Garden', 'Hotels and rent',\n",
      "       'Legal, insurance and consulting', 'Maintenance and building', 'Office',\n",
      "       'Pharmacies', 'Railway transport', 'Sport',\n",
      "       'Advertising, design, photo, prin', 'Providers', 'Shoes',\n",
      "       'Medical services', 'Pet shop', 'Beauty', 'Other services',\n",
      "       'Postal services, delivery', 'Toys', 'Car rent', 'Filling station',\n",
      "       'Music', 'Autotransport', 'Clothing,shoes and appliances re',\n",
      "       'Duty free', 'Tourism', 'Theater', 'Art and literature', 'Housing',\n",
      "       'Vet service', 'Kindergarten, baby sitters', 'Money orders',\n",
      "       'Sea transport', 'Professional education', 'Home repair',\n",
      "       'General education', 'Courses and trainings'],\n",
      "      dtype='object')\n"
     ]
    }
   ],
   "source": [
    "txn_cols_amount=young_ordinary_avg.columns[17:65]\n",
    "print(txn_cols_amount)"
   ]
  },
  {
   "cell_type": "code",
   "execution_count": 36,
   "metadata": {
    "collapsed": false
   },
   "outputs": [
    {
     "name": "stdout",
     "output_type": "stream",
     "text": [
      "Index(['Accessories_t', 'Active rest_t', 'Alcohol and tobacco_t',\n",
      "       'Audio, video, computers_t', 'Auto parts_t', 'Autodillers_t',\n",
      "       'Autoservices_t', 'Avia_t', 'Cinema_t', 'Clothes_t',\n",
      "       'Clothes and shoes_t', 'Cosmetics_t', 'Furniture_t', 'Garden_t',\n",
      "       'Hotels and rent_t', 'Legal, insurance_t', 'Maintenance and building_t',\n",
      "       'Office_t', 'Pharmacies_t', 'Railway transport_t', 'Sport_t',\n",
      "       'Advertising, design_t', 'Providers_t', 'Shoes_t', 'Medical services_t',\n",
      "       'Pet shop_t', 'Beauty_t', 'Other services_t',\n",
      "       'Postal services, delivery_t', 'Toys_t', 'Car rent_t',\n",
      "       'Filling station_t', 'Music_t', 'Autotransport_t',\n",
      "       'Clothing,appliances repair_t', 'Duty free_t', 'Tourism_t', 'Theater_t',\n",
      "       'Art and literature_t', 'Housing_t', 'Vet service_t',\n",
      "       'Kindergarten, baby sitters_t', 'Money orders_t', 'Sea transport_t',\n",
      "       'Professional education_t', 'Home repair_t', 'General education_t',\n",
      "       'Courses and trainings_t'],\n",
      "      dtype='object')\n"
     ]
    }
   ],
   "source": [
    "txn_cols_count=young_ordinary_avg.columns[65:113]\n",
    "print(txn_cols_count)"
   ]
  },
  {
   "cell_type": "code",
   "execution_count": 37,
   "metadata": {
    "collapsed": false
   },
   "outputs": [],
   "source": [
    "#перейдём к среднемесячным тратам, т.к. клиенты были активны на протяжении разного времени\n",
    "young_ordinary_avg.ix[:,txn_cols_amount]=young_ordinary_avg.ix[:,txn_cols_amount].div(young_ordinary_avg.ix[:,'active_months'], axis='index')\n",
    "young_ordinary_avg.ix[:,'trx_in_v']=young_ordinary_avg.ix[:,'trx_in_v'].div(young_ordinary_avg.ix[:,'trx_in_month_num'], axis='index')              "
   ]
  },
  {
   "cell_type": "code",
   "execution_count": 38,
   "metadata": {
    "collapsed": true
   },
   "outputs": [],
   "source": [
    "#перейдём к среднемесячным тратам, т.к. клиенты были активны на протяжении разного времени\n",
    "affluent.ix[:,txn_cols_amount]=affluent.ix[:,txn_cols_amount].div(affluent.ix[:,'active_months'], axis='index')\n",
    "affluent.ix[:,'trx_in_v']=affluent.ix[:,'trx_in_v'].div(affluent.ix[:,'trx_in_month_num'], axis='index')          "
   ]
  },
  {
   "cell_type": "code",
   "execution_count": 39,
   "metadata": {
    "collapsed": false
   },
   "outputs": [],
   "source": [
    "#перейдём к долям по количеству транзакций\n",
    "young_ordinary_avg.ix[:,txn_cols_count]=young_ordinary_avg.ix[:,txn_cols_count].div(young_ordinary_avg.ix[:,'dc_c'], axis='index')\n",
    "young_ordinary_avg.ix[:,['atm_t', 'c2c_rconnect_t', 'c2c_other_t', 'c2c_atm_t', 'branch_t',\n",
    "                         'atm_o_t','c2c_rconnect_o_t', 'c2c_other_o_t', 'bills_atm_o_t', 'c2c_atm_o_t',\n",
    "                         'bills_rconnect_o_t', 'branch_o_t']]=young_ordinary_avg.ix[:,['atm_t', 'c2c_rconnect_t', 'c2c_other_t', 'c2c_atm_t', 'branch_t',\n",
    "                         'atm_o_t','c2c_rconnect_o_t', 'c2c_other_o_t', 'bills_atm_o_t', 'c2c_atm_o_t',\n",
    "                         'bills_rconnect_o_t', 'branch_o_t']].div(young_ordinary_avg.ix[:,'trx_in_month_num'], axis='index')"
   ]
  },
  {
   "cell_type": "code",
   "execution_count": null,
   "metadata": {
    "collapsed": true
   },
   "outputs": [],
   "source": [
    "#перейдём к долям по количеству транзакций\n",
    "affluent.ix[:,txn_cols_count]=affluent.ix[:,txn_cols_count].div(affluent.ix[:,'dc_c'], axis='index')\n",
    "affluent.ix[:,['atm_t', 'c2c_rconnect_t', 'c2c_other_t', 'c2c_atm_t', 'branch_t',\n",
    "                         'atm_o_t','c2c_rconnect_o_t', 'c2c_other_o_t', 'bills_atm_o_t', 'c2c_atm_o_t',\n",
    "                         'bills_rconnect_o_t', 'branch_o_t']]=affluent.ix[:,['atm_t', 'c2c_rconnect_t', 'c2c_other_t', 'c2c_atm_t', 'branch_t',\n",
    "                         'atm_o_t','c2c_rconnect_o_t', 'c2c_other_o_t', 'bills_atm_o_t', 'c2c_atm_o_t',\n",
    "                         'bills_rconnect_o_t', 'branch_o_t']].div(affluent.ix[:,'trx_in_month_num'], axis='index')"
   ]
  },
  {
   "cell_type": "code",
   "execution_count": 40,
   "metadata": {
    "collapsed": true
   },
   "outputs": [],
   "source": [
    "#преобразуем в доли от дохода\n",
    "young_ordinary_avg.ix[:,txn_cols_amount]=young_ordinary_avg.ix[:,txn_cols_amount].div(young_ordinary_avg.ix[:,'salary'], axis='index')\n",
    "young_ordinary_avg.ix[:,['ATM', 'C2C_RCONNECT', 'C2C_OTHER', 'C2C_ATM', 'BRANCH', \n",
    "                         'c2c_rconnect_o', 'c2c_other_o','bills_atm_o', 'c2c_atm_o', 'bills_rconnect_o', 'branch_o']]=young_ordinary_avg.ix[:,['ATM', 'C2C_RCONNECT', 'C2C_OTHER', 'C2C_ATM', 'BRANCH', \n",
    "                         'c2c_rconnect_o', 'c2c_other_o','bills_atm_o', 'c2c_atm_o', 'bills_rconnect_o', 'branch_o']].div(young_ordinary_avg.ix[:,'salary'], axis='index')\n",
    "young_ordinary_avg.ix[:,['L.PLOAN_rep', 'L.AURO_rep', 'L.MORT_rep']]=young_ordinary_avg.ix[:,['L.PLOAN_rep', 'L.AURO_rep', 'L.MORT_rep']].div(young_ordinary_avg.ix[:,'salary'], axis='index')\n",
    "young_ordinary_avg.drop(['trx_in_v'], axis=1, inplace=True)"
   ]
  },
  {
   "cell_type": "code",
   "execution_count": null,
   "metadata": {
    "collapsed": true
   },
   "outputs": [],
   "source": [
    "#преобразуем в доли от дохода\n",
    "affluent.ix[:,txn_cols_amount]=affluent.ix[:,txn_cols_amount].div(affluent.ix[:,'salary'], axis='index')\n",
    "affluent.ix[:,['ATM', 'C2C_RCONNECT', 'C2C_OTHER', 'C2C_ATM', 'BRANCH', \n",
    "                         'c2c_rconnect_o', 'c2c_other_o','bills_atm_o', 'c2c_atm_o', 'bills_rconnect_o', 'branch_o']]=affluent.ix[:,['ATM', 'C2C_RCONNECT', 'C2C_OTHER', 'C2C_ATM', 'BRANCH', \n",
    "                         'c2c_rconnect_o', 'c2c_other_o','bills_atm_o', 'c2c_atm_o', 'bills_rconnect_o', 'branch_o']].div(affluent.ix[:,'salary'], axis='index')\n",
    "affluent.ix[:,['L.PLOAN_rep', 'L.AURO_rep', 'L.MORT_rep']]=affluent.ix[:,['L.PLOAN_rep', 'L.AURO_rep', 'L.MORT_rep']].div(affluent.ix[:,'salary'], axis='index')\n",
    "affluent.drop(['trx_in_v'], axis=1, inplace=True)"
   ]
  },
  {
   "cell_type": "code",
   "execution_count": 41,
   "metadata": {
    "collapsed": true
   },
   "outputs": [],
   "source": [
    "#продуктовая история - уходим от абсолютных значений \n",
    "young_ordinary_avg.ix[:,['month_num_dep', 'month_num_mut', 'month_num_ins',\n",
    "                        'month_num_sa', 'month_num_gold', 'month_num_prem_dir',\n",
    "                        'month_num_prem', 'L.PLOAN', 'L.AUTO', 'L.MORT']]=young_ordinary_avg.ix[:,['month_num_dep', 'month_num_mut', 'month_num_ins',\n",
    "                        'month_num_sa', 'month_num_gold', 'month_num_prem_dir',\n",
    "                        'month_num_prem', 'L.PLOAN', 'L.AUTO', 'L.MORT']].div(young_ordinary_avg.ix[:,'active_months'], axis='index')\n",
    "young_ordinary_avg.ix[:,'payroll_m']=young_ordinary_avg.ix[:,'payroll_m'].div(young_ordinary_avg.ix[:,'active_months'], axis='index')"
   ]
  },
  {
   "cell_type": "code",
   "execution_count": null,
   "metadata": {
    "collapsed": true
   },
   "outputs": [],
   "source": [
    "#продуктовая история - уходим от абсолютных значений \n",
    "affluent.ix[:,['month_num_dep', 'month_num_mut', 'month_num_ins',\n",
    "                        'month_num_sa', 'month_num_gold', 'month_num_prem_dir',\n",
    "                        'month_num_prem', 'L.PLOAN', 'L.AUTO', 'L.MORT']]=affluent.ix[:,['month_num_dep', 'month_num_mut', 'month_num_ins',\n",
    "                        'month_num_sa', 'month_num_gold', 'month_num_prem_dir',\n",
    "                        'month_num_prem', 'L.PLOAN', 'L.AUTO', 'L.MORT']].div(affluent.ix[:,'active_months'], axis='index')\n",
    "affluent.ix[:,'payroll_m']=affluent.ix[:,'payroll_m'].div(affluent.ix[:,'active_months'], axis='index')"
   ]
  },
  {
   "cell_type": "code",
   "execution_count": 42,
   "metadata": {
    "collapsed": true
   },
   "outputs": [],
   "source": [
    "young_ordinary_avg.drop(['avg_salary', 'salary','avg_amount_sa', 'avg_amount_dep'], axis=1, inplace=True)\n",
    "affluent.drop(['avg_salary', 'salary','avg_amount_sa', 'avg_amount_dep'], axis=1, inplace=True)"
   ]
  },
  {
   "cell_type": "code",
   "execution_count": 43,
   "metadata": {
    "collapsed": true
   },
   "outputs": [],
   "source": [
    "young_ordinary_avg.drop(['active_months', 'trx_in_month_num'], axis=1, inplace=True)\n",
    "affluent.drop(['active_months', 'trx_in_month_num'], axis=1, inplace=True)"
   ]
  },
  {
   "cell_type": "code",
   "execution_count": 44,
   "metadata": {
    "collapsed": true
   },
   "outputs": [],
   "source": [
    "young_ordinary_avg['dc_v']=young_ordinary_avg['dc_v'].div(young_ordinary_avg['dc_v']+young_ordinary_avg['cc_v'], axis='index')\n",
    "young_ordinary_avg['cc_v']=young_ordinary_avg['cc_v'].div(young_ordinary_avg['dc_v']+young_ordinary_avg['cc_v'], axis='index')"
   ]
  },
  {
   "cell_type": "code",
   "execution_count": 45,
   "metadata": {
    "collapsed": true
   },
   "outputs": [],
   "source": [
    "affluent['dc_v']=affluent['dc_v'].div(affluent['dc_v']+affluent['cc_v'], axis='index')\n",
    "affluent['cc_v']=affluent['cc_v'].div(affluent['dc_v']+affluent['cc_v'], axis='index')"
   ]
  },
  {
   "cell_type": "code",
   "execution_count": 46,
   "metadata": {
    "collapsed": true
   },
   "outputs": [],
   "source": [
    "young_ordinary_avg['dc_c']=young_ordinary_avg['dc_c'].div(young_ordinary_avg['dc_c']+young_ordinary_avg['cc_c'], axis='index')\n",
    "young_ordinary_avg['cc_c']=young_ordinary_avg['cc_c'].div(young_ordinary_avg['dc_c']+young_ordinary_avg['cc_c'], axis='index')"
   ]
  },
  {
   "cell_type": "code",
   "execution_count": 47,
   "metadata": {
    "collapsed": true
   },
   "outputs": [],
   "source": [
    "affluent['dc_c']=affluent['dc_c'].div(affluent['dc_c']+affluent['cc_c'], axis='index')\n",
    "affluent['cc_c']=affluent['cc_c'].div(affluent['dc_c']+affluent['cc_c'], axis='index')"
   ]
  },
  {
   "cell_type": "code",
   "execution_count": 48,
   "metadata": {
    "collapsed": true
   },
   "outputs": [],
   "source": [
    "cif_avg=young_ordinary_avg.CIF_ID\n",
    "young_ordinary_avg.drop('CIF_ID', axis=1, inplace=True)"
   ]
  },
  {
   "cell_type": "code",
   "execution_count": null,
   "metadata": {
    "collapsed": false
   },
   "outputs": [],
   "source": [
    "cif_aff=affluent.CIF_ID\n",
    "affluent.drop('CIF_ID', axis=1, inplace=True)"
   ]
  },
  {
   "cell_type": "code",
   "execution_count": 49,
   "metadata": {
    "collapsed": true
   },
   "outputs": [],
   "source": [
    "young_ordinary_avg.drop('cu_segment', axis=1, inplace=True)"
   ]
  },
  {
   "cell_type": "code",
   "execution_count": null,
   "metadata": {
    "collapsed": true
   },
   "outputs": [],
   "source": [
    "affluent.drop('cu_segment', axis=1, inplace=True)"
   ]
  },
  {
   "cell_type": "code",
   "execution_count": 56,
   "metadata": {
    "collapsed": true
   },
   "outputs": [],
   "source": [
    "young_ordinary_avg=shares(young_ordinary_avg, txn_cols_amount, txn_cols_count)"
   ]
  },
  {
   "cell_type": "code",
   "execution_count": 50,
   "metadata": {
    "collapsed": false
   },
   "outputs": [
    {
     "data": {
      "text/plain": [
       "(13196, 149)"
      ]
     },
     "execution_count": 50,
     "metadata": {},
     "output_type": "execute_result"
    }
   ],
   "source": [
    "young_ordinary_avg.shape"
   ]
  },
  {
   "cell_type": "code",
   "execution_count": 61,
   "metadata": {
    "collapsed": false
   },
   "outputs": [
    {
     "data": {
      "text/plain": [
       "Index(['CIF_ID', 'CU_MOB', 'parent_segment', 'parent_type', 'avg_salary',\n",
       "       'dc_c', 'dc_v', 'cc_c', 'cc_v', 'cashback_f',\n",
       "       ...\n",
       "       'L.PLOAN', 'L.AUTO', 'L.MORT', 'L.PLOAN_rep', 'L.AURO_rep',\n",
       "       'L.MORT_rep', 'ip_f', 'active_months', 'trx_in_month_num', 'salary'],\n",
       "      dtype='object', length=163)"
      ]
     },
     "execution_count": 61,
     "metadata": {},
     "output_type": "execute_result"
    }
   ],
   "source": [
    "affluent.columns"
   ]
  },
  {
   "cell_type": "code",
   "execution_count": 60,
   "metadata": {
    "collapsed": false
   },
   "outputs": [
    {
     "ename": "KeyError",
     "evalue": "'trx_in_v'",
     "output_type": "error",
     "traceback": [
      "\u001b[0;31m---------------------------------------------------------------------------\u001b[0m",
      "\u001b[0;31mKeyError\u001b[0m                                  Traceback (most recent call last)",
      "\u001b[0;32m/opt/anaconda3/lib/python3.5/site-packages/pandas/indexes/base.py\u001b[0m in \u001b[0;36mget_loc\u001b[0;34m(self, key, method, tolerance)\u001b[0m\n\u001b[1;32m   1944\u001b[0m             \u001b[0;32mtry\u001b[0m\u001b[0;34m:\u001b[0m\u001b[0;34m\u001b[0m\u001b[0m\n\u001b[0;32m-> 1945\u001b[0;31m                 \u001b[0;32mreturn\u001b[0m \u001b[0mself\u001b[0m\u001b[0;34m.\u001b[0m\u001b[0m_engine\u001b[0m\u001b[0;34m.\u001b[0m\u001b[0mget_loc\u001b[0m\u001b[0;34m(\u001b[0m\u001b[0mkey\u001b[0m\u001b[0;34m)\u001b[0m\u001b[0;34m\u001b[0m\u001b[0m\n\u001b[0m\u001b[1;32m   1946\u001b[0m             \u001b[0;32mexcept\u001b[0m \u001b[0mKeyError\u001b[0m\u001b[0;34m:\u001b[0m\u001b[0;34m\u001b[0m\u001b[0m\n",
      "\u001b[0;32mpandas/index.pyx\u001b[0m in \u001b[0;36mpandas.index.IndexEngine.get_loc (pandas/index.c:4154)\u001b[0;34m()\u001b[0m\n",
      "\u001b[0;32mpandas/index.pyx\u001b[0m in \u001b[0;36mpandas.index.IndexEngine.get_loc (pandas/index.c:4018)\u001b[0;34m()\u001b[0m\n",
      "\u001b[0;32mpandas/hashtable.pyx\u001b[0m in \u001b[0;36mpandas.hashtable.PyObjectHashTable.get_item (pandas/hashtable.c:12368)\u001b[0;34m()\u001b[0m\n",
      "\u001b[0;32mpandas/hashtable.pyx\u001b[0m in \u001b[0;36mpandas.hashtable.PyObjectHashTable.get_item (pandas/hashtable.c:12322)\u001b[0;34m()\u001b[0m\n",
      "\u001b[0;31mKeyError\u001b[0m: 'trx_in_v'",
      "\nDuring handling of the above exception, another exception occurred:\n",
      "\u001b[0;31mKeyError\u001b[0m                                  Traceback (most recent call last)",
      "\u001b[0;32m<ipython-input-60-afb86fe012fc>\u001b[0m in \u001b[0;36m<module>\u001b[0;34m()\u001b[0m\n\u001b[0;32m----> 1\u001b[0;31m \u001b[0maffluent\u001b[0m\u001b[0;34m=\u001b[0m\u001b[0mshares\u001b[0m\u001b[0;34m(\u001b[0m\u001b[0maffluent\u001b[0m\u001b[0;34m,\u001b[0m \u001b[0mtxn_cols_amount\u001b[0m\u001b[0;34m,\u001b[0m \u001b[0mtxn_cols_count\u001b[0m\u001b[0;34m)\u001b[0m\u001b[0;34m\u001b[0m\u001b[0m\n\u001b[0m",
      "\u001b[0;32m<ipython-input-16-aaa9c775aebf>\u001b[0m in \u001b[0;36mshares\u001b[0;34m(data, txn_cols_amount, txn_cols_count)\u001b[0m\n\u001b[1;32m      2\u001b[0m        \u001b[0;31m#перейдём к среднемесячным тратам, т.к. клиенты были активны на протяжении разного времени\u001b[0m\u001b[0;34m\u001b[0m\u001b[0;34m\u001b[0m\u001b[0m\n\u001b[1;32m      3\u001b[0m         \u001b[0mdata\u001b[0m\u001b[0;34m.\u001b[0m\u001b[0mix\u001b[0m\u001b[0;34m[\u001b[0m\u001b[0;34m:\u001b[0m\u001b[0;34m,\u001b[0m\u001b[0mtxn_cols_amount\u001b[0m\u001b[0;34m]\u001b[0m\u001b[0;34m=\u001b[0m\u001b[0mdata\u001b[0m\u001b[0;34m.\u001b[0m\u001b[0mix\u001b[0m\u001b[0;34m[\u001b[0m\u001b[0;34m:\u001b[0m\u001b[0;34m,\u001b[0m\u001b[0mtxn_cols_amount\u001b[0m\u001b[0;34m]\u001b[0m\u001b[0;34m.\u001b[0m\u001b[0mdiv\u001b[0m\u001b[0;34m(\u001b[0m\u001b[0mdata\u001b[0m\u001b[0;34m.\u001b[0m\u001b[0mix\u001b[0m\u001b[0;34m[\u001b[0m\u001b[0;34m:\u001b[0m\u001b[0;34m,\u001b[0m\u001b[0;34m'active_months'\u001b[0m\u001b[0;34m]\u001b[0m\u001b[0;34m,\u001b[0m \u001b[0maxis\u001b[0m\u001b[0;34m=\u001b[0m\u001b[0;34m'index'\u001b[0m\u001b[0;34m)\u001b[0m\u001b[0;34m\u001b[0m\u001b[0m\n\u001b[0;32m----> 4\u001b[0;31m         \u001b[0mdata\u001b[0m\u001b[0;34m.\u001b[0m\u001b[0mix\u001b[0m\u001b[0;34m[\u001b[0m\u001b[0;34m:\u001b[0m\u001b[0;34m,\u001b[0m\u001b[0;34m'trx_in_v'\u001b[0m\u001b[0;34m]\u001b[0m\u001b[0;34m=\u001b[0m\u001b[0mdata\u001b[0m\u001b[0;34m.\u001b[0m\u001b[0mix\u001b[0m\u001b[0;34m[\u001b[0m\u001b[0;34m:\u001b[0m\u001b[0;34m,\u001b[0m\u001b[0;34m'trx_in_v'\u001b[0m\u001b[0;34m]\u001b[0m\u001b[0;34m.\u001b[0m\u001b[0mdiv\u001b[0m\u001b[0;34m(\u001b[0m\u001b[0mdata\u001b[0m\u001b[0;34m.\u001b[0m\u001b[0mix\u001b[0m\u001b[0;34m[\u001b[0m\u001b[0;34m:\u001b[0m\u001b[0;34m,\u001b[0m\u001b[0;34m'trx_in_month_num'\u001b[0m\u001b[0;34m]\u001b[0m\u001b[0;34m,\u001b[0m \u001b[0maxis\u001b[0m\u001b[0;34m=\u001b[0m\u001b[0;34m'index'\u001b[0m\u001b[0;34m)\u001b[0m\u001b[0;34m\u001b[0m\u001b[0m\n\u001b[0m\u001b[1;32m      5\u001b[0m \u001b[0;34m\u001b[0m\u001b[0m\n\u001b[1;32m      6\u001b[0m        \u001b[0;31m#перейдём к долям по количеству транзакций\u001b[0m\u001b[0;34m\u001b[0m\u001b[0;34m\u001b[0m\u001b[0m\n",
      "\u001b[0;32m/opt/anaconda3/lib/python3.5/site-packages/pandas/core/indexing.py\u001b[0m in \u001b[0;36m__getitem__\u001b[0;34m(self, key)\u001b[0m\n\u001b[1;32m     73\u001b[0m                 \u001b[0;32mpass\u001b[0m\u001b[0;34m\u001b[0m\u001b[0m\n\u001b[1;32m     74\u001b[0m \u001b[0;34m\u001b[0m\u001b[0m\n\u001b[0;32m---> 75\u001b[0;31m             \u001b[0;32mreturn\u001b[0m \u001b[0mself\u001b[0m\u001b[0;34m.\u001b[0m\u001b[0m_getitem_tuple\u001b[0m\u001b[0;34m(\u001b[0m\u001b[0mkey\u001b[0m\u001b[0;34m)\u001b[0m\u001b[0;34m\u001b[0m\u001b[0m\n\u001b[0m\u001b[1;32m     76\u001b[0m         \u001b[0;32melse\u001b[0m\u001b[0;34m:\u001b[0m\u001b[0;34m\u001b[0m\u001b[0m\n\u001b[1;32m     77\u001b[0m             \u001b[0mkey\u001b[0m \u001b[0;34m=\u001b[0m \u001b[0mcom\u001b[0m\u001b[0;34m.\u001b[0m\u001b[0m_apply_if_callable\u001b[0m\u001b[0;34m(\u001b[0m\u001b[0mkey\u001b[0m\u001b[0;34m,\u001b[0m \u001b[0mself\u001b[0m\u001b[0;34m.\u001b[0m\u001b[0mobj\u001b[0m\u001b[0;34m)\u001b[0m\u001b[0;34m\u001b[0m\u001b[0m\n",
      "\u001b[0;32m/opt/anaconda3/lib/python3.5/site-packages/pandas/core/indexing.py\u001b[0m in \u001b[0;36m_getitem_tuple\u001b[0;34m(self, tup)\u001b[0m\n\u001b[1;32m    782\u001b[0m     \u001b[0;32mdef\u001b[0m \u001b[0m_getitem_tuple\u001b[0m\u001b[0;34m(\u001b[0m\u001b[0mself\u001b[0m\u001b[0;34m,\u001b[0m \u001b[0mtup\u001b[0m\u001b[0;34m)\u001b[0m\u001b[0;34m:\u001b[0m\u001b[0;34m\u001b[0m\u001b[0m\n\u001b[1;32m    783\u001b[0m         \u001b[0;32mtry\u001b[0m\u001b[0;34m:\u001b[0m\u001b[0;34m\u001b[0m\u001b[0m\n\u001b[0;32m--> 784\u001b[0;31m             \u001b[0;32mreturn\u001b[0m \u001b[0mself\u001b[0m\u001b[0;34m.\u001b[0m\u001b[0m_getitem_lowerdim\u001b[0m\u001b[0;34m(\u001b[0m\u001b[0mtup\u001b[0m\u001b[0;34m)\u001b[0m\u001b[0;34m\u001b[0m\u001b[0m\n\u001b[0m\u001b[1;32m    785\u001b[0m         \u001b[0;32mexcept\u001b[0m \u001b[0mIndexingError\u001b[0m\u001b[0;34m:\u001b[0m\u001b[0;34m\u001b[0m\u001b[0m\n\u001b[1;32m    786\u001b[0m             \u001b[0;32mpass\u001b[0m\u001b[0;34m\u001b[0m\u001b[0m\n",
      "\u001b[0;32m/opt/anaconda3/lib/python3.5/site-packages/pandas/core/indexing.py\u001b[0m in \u001b[0;36m_getitem_lowerdim\u001b[0;34m(self, tup)\u001b[0m\n\u001b[1;32m    906\u001b[0m         \u001b[0;32mfor\u001b[0m \u001b[0mi\u001b[0m\u001b[0;34m,\u001b[0m \u001b[0mkey\u001b[0m \u001b[0;32min\u001b[0m \u001b[0menumerate\u001b[0m\u001b[0;34m(\u001b[0m\u001b[0mtup\u001b[0m\u001b[0;34m)\u001b[0m\u001b[0;34m:\u001b[0m\u001b[0;34m\u001b[0m\u001b[0m\n\u001b[1;32m    907\u001b[0m             \u001b[0;32mif\u001b[0m \u001b[0mis_label_like\u001b[0m\u001b[0;34m(\u001b[0m\u001b[0mkey\u001b[0m\u001b[0;34m)\u001b[0m \u001b[0;32mor\u001b[0m \u001b[0misinstance\u001b[0m\u001b[0;34m(\u001b[0m\u001b[0mkey\u001b[0m\u001b[0;34m,\u001b[0m \u001b[0mtuple\u001b[0m\u001b[0;34m)\u001b[0m\u001b[0;34m:\u001b[0m\u001b[0;34m\u001b[0m\u001b[0m\n\u001b[0;32m--> 908\u001b[0;31m                 \u001b[0msection\u001b[0m \u001b[0;34m=\u001b[0m \u001b[0mself\u001b[0m\u001b[0;34m.\u001b[0m\u001b[0m_getitem_axis\u001b[0m\u001b[0;34m(\u001b[0m\u001b[0mkey\u001b[0m\u001b[0;34m,\u001b[0m \u001b[0maxis\u001b[0m\u001b[0;34m=\u001b[0m\u001b[0mi\u001b[0m\u001b[0;34m)\u001b[0m\u001b[0;34m\u001b[0m\u001b[0m\n\u001b[0m\u001b[1;32m    909\u001b[0m \u001b[0;34m\u001b[0m\u001b[0m\n\u001b[1;32m    910\u001b[0m                 \u001b[0;31m# we have yielded a scalar ?\u001b[0m\u001b[0;34m\u001b[0m\u001b[0;34m\u001b[0m\u001b[0m\n",
      "\u001b[0;32m/opt/anaconda3/lib/python3.5/site-packages/pandas/core/indexing.py\u001b[0m in \u001b[0;36m_getitem_axis\u001b[0;34m(self, key, axis)\u001b[0m\n\u001b[1;32m   1016\u001b[0m                     \u001b[0;32mreturn\u001b[0m \u001b[0mself\u001b[0m\u001b[0;34m.\u001b[0m\u001b[0m_get_loc\u001b[0m\u001b[0;34m(\u001b[0m\u001b[0mkey\u001b[0m\u001b[0;34m,\u001b[0m \u001b[0maxis\u001b[0m\u001b[0;34m=\u001b[0m\u001b[0maxis\u001b[0m\u001b[0;34m)\u001b[0m\u001b[0;34m\u001b[0m\u001b[0m\n\u001b[1;32m   1017\u001b[0m \u001b[0;34m\u001b[0m\u001b[0m\n\u001b[0;32m-> 1018\u001b[0;31m             \u001b[0;32mreturn\u001b[0m \u001b[0mself\u001b[0m\u001b[0;34m.\u001b[0m\u001b[0m_get_label\u001b[0m\u001b[0;34m(\u001b[0m\u001b[0mkey\u001b[0m\u001b[0;34m,\u001b[0m \u001b[0maxis\u001b[0m\u001b[0;34m=\u001b[0m\u001b[0maxis\u001b[0m\u001b[0;34m)\u001b[0m\u001b[0;34m\u001b[0m\u001b[0m\n\u001b[0m\u001b[1;32m   1019\u001b[0m \u001b[0;34m\u001b[0m\u001b[0m\n\u001b[1;32m   1020\u001b[0m     \u001b[0;32mdef\u001b[0m \u001b[0m_getitem_iterable\u001b[0m\u001b[0;34m(\u001b[0m\u001b[0mself\u001b[0m\u001b[0;34m,\u001b[0m \u001b[0mkey\u001b[0m\u001b[0;34m,\u001b[0m \u001b[0maxis\u001b[0m\u001b[0;34m=\u001b[0m\u001b[0;36m0\u001b[0m\u001b[0;34m)\u001b[0m\u001b[0;34m:\u001b[0m\u001b[0;34m\u001b[0m\u001b[0m\n",
      "\u001b[0;32m/opt/anaconda3/lib/python3.5/site-packages/pandas/core/indexing.py\u001b[0m in \u001b[0;36m_get_label\u001b[0;34m(self, label, axis)\u001b[0m\n\u001b[1;32m     91\u001b[0m             \u001b[0;32mraise\u001b[0m \u001b[0mIndexingError\u001b[0m\u001b[0;34m(\u001b[0m\u001b[0;34m'no slices here, handle elsewhere'\u001b[0m\u001b[0;34m)\u001b[0m\u001b[0;34m\u001b[0m\u001b[0m\n\u001b[1;32m     92\u001b[0m \u001b[0;34m\u001b[0m\u001b[0m\n\u001b[0;32m---> 93\u001b[0;31m         \u001b[0;32mreturn\u001b[0m \u001b[0mself\u001b[0m\u001b[0;34m.\u001b[0m\u001b[0mobj\u001b[0m\u001b[0;34m.\u001b[0m\u001b[0m_xs\u001b[0m\u001b[0;34m(\u001b[0m\u001b[0mlabel\u001b[0m\u001b[0;34m,\u001b[0m \u001b[0maxis\u001b[0m\u001b[0;34m=\u001b[0m\u001b[0maxis\u001b[0m\u001b[0;34m)\u001b[0m\u001b[0;34m\u001b[0m\u001b[0m\n\u001b[0m\u001b[1;32m     94\u001b[0m \u001b[0;34m\u001b[0m\u001b[0m\n\u001b[1;32m     95\u001b[0m     \u001b[0;32mdef\u001b[0m \u001b[0m_get_loc\u001b[0m\u001b[0;34m(\u001b[0m\u001b[0mself\u001b[0m\u001b[0;34m,\u001b[0m \u001b[0mkey\u001b[0m\u001b[0;34m,\u001b[0m \u001b[0maxis\u001b[0m\u001b[0;34m=\u001b[0m\u001b[0;36m0\u001b[0m\u001b[0;34m)\u001b[0m\u001b[0;34m:\u001b[0m\u001b[0;34m\u001b[0m\u001b[0m\n",
      "\u001b[0;32m/opt/anaconda3/lib/python3.5/site-packages/pandas/core/generic.py\u001b[0m in \u001b[0;36mxs\u001b[0;34m(self, key, axis, level, copy, drop_level)\u001b[0m\n\u001b[1;32m   1738\u001b[0m \u001b[0;34m\u001b[0m\u001b[0m\n\u001b[1;32m   1739\u001b[0m         \u001b[0;32mif\u001b[0m \u001b[0maxis\u001b[0m \u001b[0;34m==\u001b[0m \u001b[0;36m1\u001b[0m\u001b[0;34m:\u001b[0m\u001b[0;34m\u001b[0m\u001b[0m\n\u001b[0;32m-> 1740\u001b[0;31m             \u001b[0;32mreturn\u001b[0m \u001b[0mself\u001b[0m\u001b[0;34m[\u001b[0m\u001b[0mkey\u001b[0m\u001b[0;34m]\u001b[0m\u001b[0;34m\u001b[0m\u001b[0m\n\u001b[0m\u001b[1;32m   1741\u001b[0m \u001b[0;34m\u001b[0m\u001b[0m\n\u001b[1;32m   1742\u001b[0m         \u001b[0mself\u001b[0m\u001b[0;34m.\u001b[0m\u001b[0m_consolidate_inplace\u001b[0m\u001b[0;34m(\u001b[0m\u001b[0;34m)\u001b[0m\u001b[0;34m\u001b[0m\u001b[0m\n",
      "\u001b[0;32m/opt/anaconda3/lib/python3.5/site-packages/pandas/core/frame.py\u001b[0m in \u001b[0;36m__getitem__\u001b[0;34m(self, key)\u001b[0m\n\u001b[1;32m   1995\u001b[0m             \u001b[0;32mreturn\u001b[0m \u001b[0mself\u001b[0m\u001b[0;34m.\u001b[0m\u001b[0m_getitem_multilevel\u001b[0m\u001b[0;34m(\u001b[0m\u001b[0mkey\u001b[0m\u001b[0;34m)\u001b[0m\u001b[0;34m\u001b[0m\u001b[0m\n\u001b[1;32m   1996\u001b[0m         \u001b[0;32melse\u001b[0m\u001b[0;34m:\u001b[0m\u001b[0;34m\u001b[0m\u001b[0m\n\u001b[0;32m-> 1997\u001b[0;31m             \u001b[0;32mreturn\u001b[0m \u001b[0mself\u001b[0m\u001b[0;34m.\u001b[0m\u001b[0m_getitem_column\u001b[0m\u001b[0;34m(\u001b[0m\u001b[0mkey\u001b[0m\u001b[0;34m)\u001b[0m\u001b[0;34m\u001b[0m\u001b[0m\n\u001b[0m\u001b[1;32m   1998\u001b[0m \u001b[0;34m\u001b[0m\u001b[0m\n\u001b[1;32m   1999\u001b[0m     \u001b[0;32mdef\u001b[0m \u001b[0m_getitem_column\u001b[0m\u001b[0;34m(\u001b[0m\u001b[0mself\u001b[0m\u001b[0;34m,\u001b[0m \u001b[0mkey\u001b[0m\u001b[0;34m)\u001b[0m\u001b[0;34m:\u001b[0m\u001b[0;34m\u001b[0m\u001b[0m\n",
      "\u001b[0;32m/opt/anaconda3/lib/python3.5/site-packages/pandas/core/frame.py\u001b[0m in \u001b[0;36m_getitem_column\u001b[0;34m(self, key)\u001b[0m\n\u001b[1;32m   2002\u001b[0m         \u001b[0;31m# get column\u001b[0m\u001b[0;34m\u001b[0m\u001b[0;34m\u001b[0m\u001b[0m\n\u001b[1;32m   2003\u001b[0m         \u001b[0;32mif\u001b[0m \u001b[0mself\u001b[0m\u001b[0;34m.\u001b[0m\u001b[0mcolumns\u001b[0m\u001b[0;34m.\u001b[0m\u001b[0mis_unique\u001b[0m\u001b[0;34m:\u001b[0m\u001b[0;34m\u001b[0m\u001b[0m\n\u001b[0;32m-> 2004\u001b[0;31m             \u001b[0;32mreturn\u001b[0m \u001b[0mself\u001b[0m\u001b[0;34m.\u001b[0m\u001b[0m_get_item_cache\u001b[0m\u001b[0;34m(\u001b[0m\u001b[0mkey\u001b[0m\u001b[0;34m)\u001b[0m\u001b[0;34m\u001b[0m\u001b[0m\n\u001b[0m\u001b[1;32m   2005\u001b[0m \u001b[0;34m\u001b[0m\u001b[0m\n\u001b[1;32m   2006\u001b[0m         \u001b[0;31m# duplicate columns & possible reduce dimensionality\u001b[0m\u001b[0;34m\u001b[0m\u001b[0;34m\u001b[0m\u001b[0m\n",
      "\u001b[0;32m/opt/anaconda3/lib/python3.5/site-packages/pandas/core/generic.py\u001b[0m in \u001b[0;36m_get_item_cache\u001b[0;34m(self, item)\u001b[0m\n\u001b[1;32m   1348\u001b[0m         \u001b[0mres\u001b[0m \u001b[0;34m=\u001b[0m \u001b[0mcache\u001b[0m\u001b[0;34m.\u001b[0m\u001b[0mget\u001b[0m\u001b[0;34m(\u001b[0m\u001b[0mitem\u001b[0m\u001b[0;34m)\u001b[0m\u001b[0;34m\u001b[0m\u001b[0m\n\u001b[1;32m   1349\u001b[0m         \u001b[0;32mif\u001b[0m \u001b[0mres\u001b[0m \u001b[0;32mis\u001b[0m \u001b[0;32mNone\u001b[0m\u001b[0;34m:\u001b[0m\u001b[0;34m\u001b[0m\u001b[0m\n\u001b[0;32m-> 1350\u001b[0;31m             \u001b[0mvalues\u001b[0m \u001b[0;34m=\u001b[0m \u001b[0mself\u001b[0m\u001b[0;34m.\u001b[0m\u001b[0m_data\u001b[0m\u001b[0;34m.\u001b[0m\u001b[0mget\u001b[0m\u001b[0;34m(\u001b[0m\u001b[0mitem\u001b[0m\u001b[0;34m)\u001b[0m\u001b[0;34m\u001b[0m\u001b[0m\n\u001b[0m\u001b[1;32m   1351\u001b[0m             \u001b[0mres\u001b[0m \u001b[0;34m=\u001b[0m \u001b[0mself\u001b[0m\u001b[0;34m.\u001b[0m\u001b[0m_box_item_values\u001b[0m\u001b[0;34m(\u001b[0m\u001b[0mitem\u001b[0m\u001b[0;34m,\u001b[0m \u001b[0mvalues\u001b[0m\u001b[0;34m)\u001b[0m\u001b[0;34m\u001b[0m\u001b[0m\n\u001b[1;32m   1352\u001b[0m             \u001b[0mcache\u001b[0m\u001b[0;34m[\u001b[0m\u001b[0mitem\u001b[0m\u001b[0;34m]\u001b[0m \u001b[0;34m=\u001b[0m \u001b[0mres\u001b[0m\u001b[0;34m\u001b[0m\u001b[0m\n",
      "\u001b[0;32m/opt/anaconda3/lib/python3.5/site-packages/pandas/core/internals.py\u001b[0m in \u001b[0;36mget\u001b[0;34m(self, item, fastpath)\u001b[0m\n\u001b[1;32m   3288\u001b[0m \u001b[0;34m\u001b[0m\u001b[0m\n\u001b[1;32m   3289\u001b[0m             \u001b[0;32mif\u001b[0m \u001b[0;32mnot\u001b[0m \u001b[0misnull\u001b[0m\u001b[0;34m(\u001b[0m\u001b[0mitem\u001b[0m\u001b[0;34m)\u001b[0m\u001b[0;34m:\u001b[0m\u001b[0;34m\u001b[0m\u001b[0m\n\u001b[0;32m-> 3290\u001b[0;31m                 \u001b[0mloc\u001b[0m \u001b[0;34m=\u001b[0m \u001b[0mself\u001b[0m\u001b[0;34m.\u001b[0m\u001b[0mitems\u001b[0m\u001b[0;34m.\u001b[0m\u001b[0mget_loc\u001b[0m\u001b[0;34m(\u001b[0m\u001b[0mitem\u001b[0m\u001b[0;34m)\u001b[0m\u001b[0;34m\u001b[0m\u001b[0m\n\u001b[0m\u001b[1;32m   3291\u001b[0m             \u001b[0;32melse\u001b[0m\u001b[0;34m:\u001b[0m\u001b[0;34m\u001b[0m\u001b[0m\n\u001b[1;32m   3292\u001b[0m                 \u001b[0mindexer\u001b[0m \u001b[0;34m=\u001b[0m \u001b[0mnp\u001b[0m\u001b[0;34m.\u001b[0m\u001b[0marange\u001b[0m\u001b[0;34m(\u001b[0m\u001b[0mlen\u001b[0m\u001b[0;34m(\u001b[0m\u001b[0mself\u001b[0m\u001b[0;34m.\u001b[0m\u001b[0mitems\u001b[0m\u001b[0;34m)\u001b[0m\u001b[0;34m)\u001b[0m\u001b[0;34m[\u001b[0m\u001b[0misnull\u001b[0m\u001b[0;34m(\u001b[0m\u001b[0mself\u001b[0m\u001b[0;34m.\u001b[0m\u001b[0mitems\u001b[0m\u001b[0;34m)\u001b[0m\u001b[0;34m]\u001b[0m\u001b[0;34m\u001b[0m\u001b[0m\n",
      "\u001b[0;32m/opt/anaconda3/lib/python3.5/site-packages/pandas/indexes/base.py\u001b[0m in \u001b[0;36mget_loc\u001b[0;34m(self, key, method, tolerance)\u001b[0m\n\u001b[1;32m   1945\u001b[0m                 \u001b[0;32mreturn\u001b[0m \u001b[0mself\u001b[0m\u001b[0;34m.\u001b[0m\u001b[0m_engine\u001b[0m\u001b[0;34m.\u001b[0m\u001b[0mget_loc\u001b[0m\u001b[0;34m(\u001b[0m\u001b[0mkey\u001b[0m\u001b[0;34m)\u001b[0m\u001b[0;34m\u001b[0m\u001b[0m\n\u001b[1;32m   1946\u001b[0m             \u001b[0;32mexcept\u001b[0m \u001b[0mKeyError\u001b[0m\u001b[0;34m:\u001b[0m\u001b[0;34m\u001b[0m\u001b[0m\n\u001b[0;32m-> 1947\u001b[0;31m                 \u001b[0;32mreturn\u001b[0m \u001b[0mself\u001b[0m\u001b[0;34m.\u001b[0m\u001b[0m_engine\u001b[0m\u001b[0;34m.\u001b[0m\u001b[0mget_loc\u001b[0m\u001b[0;34m(\u001b[0m\u001b[0mself\u001b[0m\u001b[0;34m.\u001b[0m\u001b[0m_maybe_cast_indexer\u001b[0m\u001b[0;34m(\u001b[0m\u001b[0mkey\u001b[0m\u001b[0;34m)\u001b[0m\u001b[0;34m)\u001b[0m\u001b[0;34m\u001b[0m\u001b[0m\n\u001b[0m\u001b[1;32m   1948\u001b[0m \u001b[0;34m\u001b[0m\u001b[0m\n\u001b[1;32m   1949\u001b[0m         \u001b[0mindexer\u001b[0m \u001b[0;34m=\u001b[0m \u001b[0mself\u001b[0m\u001b[0;34m.\u001b[0m\u001b[0mget_indexer\u001b[0m\u001b[0;34m(\u001b[0m\u001b[0;34m[\u001b[0m\u001b[0mkey\u001b[0m\u001b[0;34m]\u001b[0m\u001b[0;34m,\u001b[0m \u001b[0mmethod\u001b[0m\u001b[0;34m=\u001b[0m\u001b[0mmethod\u001b[0m\u001b[0;34m,\u001b[0m \u001b[0mtolerance\u001b[0m\u001b[0;34m=\u001b[0m\u001b[0mtolerance\u001b[0m\u001b[0;34m)\u001b[0m\u001b[0;34m\u001b[0m\u001b[0m\n",
      "\u001b[0;32mpandas/index.pyx\u001b[0m in \u001b[0;36mpandas.index.IndexEngine.get_loc (pandas/index.c:4154)\u001b[0;34m()\u001b[0m\n",
      "\u001b[0;32mpandas/index.pyx\u001b[0m in \u001b[0;36mpandas.index.IndexEngine.get_loc (pandas/index.c:4018)\u001b[0;34m()\u001b[0m\n",
      "\u001b[0;32mpandas/hashtable.pyx\u001b[0m in \u001b[0;36mpandas.hashtable.PyObjectHashTable.get_item (pandas/hashtable.c:12368)\u001b[0;34m()\u001b[0m\n",
      "\u001b[0;32mpandas/hashtable.pyx\u001b[0m in \u001b[0;36mpandas.hashtable.PyObjectHashTable.get_item (pandas/hashtable.c:12322)\u001b[0;34m()\u001b[0m\n",
      "\u001b[0;31mKeyError\u001b[0m: 'trx_in_v'"
     ]
    }
   ],
   "source": [
    "affluent=shares(affluent, txn_cols_amount, txn_cols_count)"
   ]
  },
  {
   "cell_type": "code",
   "execution_count": null,
   "metadata": {
    "collapsed": false
   },
   "outputs": [],
   "source": [
    "affluent.shape"
   ]
  },
  {
   "cell_type": "code",
   "execution_count": null,
   "metadata": {
    "collapsed": false
   },
   "outputs": [],
   "source": [
    "prod_cols=young_ordinary_avg.columns[133:149]\n",
    "print(prod_cols)"
   ]
  },
  {
   "cell_type": "code",
   "execution_count": null,
   "metadata": {
    "collapsed": true
   },
   "outputs": [],
   "source": [
    "#уберём продуктовую историю\n",
    "#young_ordinary_avg=young_ordinary_avg.ix[:,:133]"
   ]
  },
  {
   "cell_type": "code",
   "execution_count": null,
   "metadata": {
    "collapsed": true
   },
   "outputs": [],
   "source": [
    "#уберём соц-дем\n",
    "#personal_features=['CU_AGE', 'CU_CITIZENSHIP',\n",
    "       'CU_GENDER', 'CU_MARITAL_STATUS', 'CU_BRANCH_CITY_TOWN', 'parent_segment', 'parent_type']\n",
    "#other=list(set(young_ordinary_avg.columns)-set(personal_features))\n",
    "#young_ordinary_avg=young_ordinary_avg[other]"
   ]
  },
  {
   "cell_type": "markdown",
   "metadata": {},
   "source": [
    "## Корреляция в тратах"
   ]
  },
  {
   "cell_type": "code",
   "execution_count": null,
   "metadata": {
    "collapsed": false
   },
   "outputs": [],
   "source": [
    "for i,col in enumerate(txn_cols_amount.tolist()) :\n",
    "    other= txn_cols_amount.tolist()[i:48]\n",
    "    other.remove(col)\n",
    "    for another in other:\n",
    "        if pd.DataFrame(young_ordinary_avg[col]).corrwith(young_ordinary_avg[another])[0]>0.5:\n",
    "             print (col,'   ',  another,'   ',   pd.DataFrame(young_ordinary_avg[col]).corrwith(young_ordinary_avg[another])[0])"
   ]
  },
  {
   "cell_type": "code",
   "execution_count": null,
   "metadata": {
    "collapsed": false
   },
   "outputs": [],
   "source": [
    "def corr(data, cols, threshhold):\n",
    "    other=cols.tolist()\n",
    "    for i,col in enumerate(cols.tolist()) :\n",
    "        other.remove(col)\n",
    "        for another in other:\n",
    "            corr=pd.DataFrame(data[col]).corrwith(data[another])[0]\n",
    "            if corr>threshhold:\n",
    "                print (col,'   ',  another,'   ',  corr)"
   ]
  },
  {
   "cell_type": "code",
   "execution_count": null,
   "metadata": {
    "collapsed": false
   },
   "outputs": [],
   "source": [
    "class ClusterAnalysis:\n",
    "    \n",
    "    def __init__(self, X):\n",
    "        self.data = X\n",
    "    \n",
    "    def corr(self,  cols, threshhold):\n",
    "            other=cols.tolist()\n",
    "            for i,col in enumerate(cols.tolist()) :\n",
    "                other.remove(col)\n",
    "                for another in other:\n",
    "                    corr=pd.DataFrame(self.data[col]).corrwith(self.data[another])[0]\n",
    "                    if corr>threshhold:\n",
    "                        print (col,'   ',  another,'   ',  corr)\n",
    "                "
   ]
  },
  {
   "cell_type": "code",
   "execution_count": null,
   "metadata": {
    "collapsed": true
   },
   "outputs": [],
   "source": [
    "a=ClusterAnalysis(young_ordinary_avg)"
   ]
  },
  {
   "cell_type": "code",
   "execution_count": null,
   "metadata": {
    "collapsed": false
   },
   "outputs": [],
   "source": [
    "a.corr(txn_cols_amount, 0.3)"
   ]
  },
  {
   "cell_type": "code",
   "execution_count": null,
   "metadata": {
    "collapsed": false
   },
   "outputs": [],
   "source": [
    "corr(young_ordinary_avg, txn_cols_amount, 0.2)"
   ]
  },
  {
   "cell_type": "code",
   "execution_count": null,
   "metadata": {
    "collapsed": false
   },
   "outputs": [],
   "source": [
    "for i,col in enumerate(txn_cols_count.tolist()) :\n",
    "    other= txn_cols_count.tolist()[i:48]\n",
    "    other.remove(col)\n",
    "    for another in other:\n",
    "        if pd.DataFrame(young_ordinary_avg[col]).corrwith(young_ordinary_avg[another])[0]>0.5:\n",
    "             print (col,'   ',  another,'   ',   pd.DataFrame(young_ordinary_avg[col]).corrwith(young_ordinary_avg[another])[0])"
   ]
  },
  {
   "cell_type": "markdown",
   "metadata": {},
   "source": [
    "## Пробуем one-hot encoding для категориальных"
   ]
  },
  {
   "cell_type": "code",
   "execution_count": null,
   "metadata": {
    "collapsed": false
   },
   "outputs": [],
   "source": [
    "def preprocess_diff_types(data, svd_n_comp):\n",
    "    \n",
    "    cat_cols=['parent_segment', 'parent_type', 'cashback_f', 'CU_CITIZENSHIP', 'CU_BRANCH_CITY_TOWN',\n",
    "             'IND_PAYROLL_F', 'CAPTIVE_BANK_F','ip_f']\n",
    "    cat_indices = np.array([(column in cat_cols) for column in data.columns], dtype = bool)\n",
    "    \n",
    "    bin_cols=['CU_GENDER', 'CU_MARITAL_STATUS']\n",
    "    bin_indices = np.array([(column in bin_cols) for column in data.columns], dtype = bool)\n",
    "    \n",
    "    real_cols=list(set(data.columns)-set(cat_cols)-set(bin_cols))\n",
    "    real_indices = np.array([(column in real_cols) for column in data.columns], dtype = bool)\n",
    "    \n",
    "    transform=pipeline.Pipeline(steps = [\n",
    "        ('feature_processing',   pipeline.FeatureUnion(transformer_list = [\n",
    "            \n",
    "            ('binary', preprocessing.FunctionTransformer(lambda data: data[:, bin_indices])),\n",
    "            \n",
    "            ('real', pipeline.Pipeline(steps = [\n",
    "                        ('selecting', preprocessing.FunctionTransformer(lambda data: data[:, real_indices])),\n",
    "                        ('scaling', preprocessing.StandardScaler(with_mean=0))\n",
    "                         ])),\n",
    "            ('categorical', pipeline.Pipeline(steps = [\n",
    "                        ('selecting', preprocessing.FunctionTransformer(lambda data: data[:, cat_indices])),\n",
    "                        ('one_hot', preprocessing.OneHotEncoder(handle_unknown='ignore'))\n",
    "                        ]))\n",
    "                   \n",
    "                        \n",
    "                    ])),\n",
    "        ('svd', decomposition.TruncatedSVD(svd_n_comp,random_state=1))\n",
    "         ])\n",
    "    X = transform.fit_transform(data)\n",
    "    return X "
   ]
  },
  {
   "cell_type": "code",
   "execution_count": null,
   "metadata": {
    "collapsed": false
   },
   "outputs": [],
   "source": [
    "a=preprocess_diff_types(young_ordinary_avg, 80)"
   ]
  },
  {
   "cell_type": "code",
   "execution_count": null,
   "metadata": {
    "collapsed": false
   },
   "outputs": [],
   "source": [
    "young_ordinary_avg.columns[:20]"
   ]
  },
  {
   "cell_type": "code",
   "execution_count": 51,
   "metadata": {
    "collapsed": false
   },
   "outputs": [],
   "source": [
    "cat_features=['parent_segment', 'parent_type', 'cashback_f', 'CU_CITIZENSHIP', 'CU_GENDER', 'CU_MARITAL_STATUS', 'CU_BRANCH_CITY_TOWN',\n",
    "             'IND_PAYROLL_F', 'CAPTIVE_BANK_F','ip_f']\n",
    "real_features=list(set(young_ordinary_avg.columns)-set(cat_features))"
   ]
  },
  {
   "cell_type": "code",
   "execution_count": 52,
   "metadata": {
    "collapsed": false
   },
   "outputs": [],
   "source": [
    "scaler=preprocessing.StandardScaler(with_mean=0)\n",
    "data=young_ordinary_avg.copy()\n",
    "data[real_features]=scaler.fit_transform(data[real_features])"
   ]
  },
  {
   "cell_type": "code",
   "execution_count": 53,
   "metadata": {
    "collapsed": false
   },
   "outputs": [],
   "source": [
    "mask=young_ordinary_avg.columns.isin(cat_features)"
   ]
  },
  {
   "cell_type": "code",
   "execution_count": 54,
   "metadata": {
    "collapsed": false
   },
   "outputs": [],
   "source": [
    "encoder=preprocessing.OneHotEncoder(categorical_features=mask)\n",
    "young_enc=encoder.fit_transform(data)"
   ]
  },
  {
   "cell_type": "code",
   "execution_count": 55,
   "metadata": {
    "collapsed": false
   },
   "outputs": [
    {
     "data": {
      "text/plain": [
       "(13196, 228)"
      ]
     },
     "execution_count": 55,
     "metadata": {},
     "output_type": "execute_result"
    }
   ],
   "source": [
    "young_enc.shape"
   ]
  },
  {
   "cell_type": "markdown",
   "metadata": {},
   "source": [
    "## Уменьшение размерности"
   ]
  },
  {
   "cell_type": "markdown",
   "metadata": {},
   "source": [
    "В целях избавления от незначимых, сильно разреженных признаков уменьшим размерность"
   ]
  },
  {
   "cell_type": "markdown",
   "metadata": {},
   "source": [
    "Не центрируем, чтобы сохранить sparse формат "
   ]
  },
  {
   "cell_type": "code",
   "execution_count": 56,
   "metadata": {
    "collapsed": true
   },
   "outputs": [],
   "source": [
    "from sklearn.decomposition import TruncatedSVD\n",
    "from sklearn.pipeline import make_pipeline\n",
    "from sklearn.preprocessing import StandardScaler"
   ]
  },
  {
   "cell_type": "code",
   "execution_count": 57,
   "metadata": {
    "collapsed": false
   },
   "outputs": [
    {
     "data": {
      "text/html": [
       "<div>\n",
       "<table border=\"1\" class=\"dataframe\">\n",
       "  <thead>\n",
       "    <tr style=\"text-align: right;\">\n",
       "      <th></th>\n",
       "      <th>CU_MOB</th>\n",
       "      <th>parent_segment</th>\n",
       "      <th>parent_type</th>\n",
       "      <th>dc_c</th>\n",
       "      <th>dc_v</th>\n",
       "      <th>cc_c</th>\n",
       "      <th>cc_v</th>\n",
       "      <th>cashback_f</th>\n",
       "      <th>payroll_m</th>\n",
       "      <th>CU_AGE</th>\n",
       "      <th>...</th>\n",
       "      <th>month_num_gold</th>\n",
       "      <th>month_num_prem_dir</th>\n",
       "      <th>month_num_prem</th>\n",
       "      <th>L.PLOAN</th>\n",
       "      <th>L.AUTO</th>\n",
       "      <th>L.MORT</th>\n",
       "      <th>L.PLOAN_rep</th>\n",
       "      <th>L.AURO_rep</th>\n",
       "      <th>L.MORT_rep</th>\n",
       "      <th>ip_f</th>\n",
       "    </tr>\n",
       "  </thead>\n",
       "  <tbody>\n",
       "    <tr>\n",
       "      <th>0</th>\n",
       "      <td>67</td>\n",
       "      <td>27143</td>\n",
       "      <td>49633</td>\n",
       "      <td>1.0</td>\n",
       "      <td>1.0</td>\n",
       "      <td>0.0</td>\n",
       "      <td>0.0</td>\n",
       "      <td>0.0</td>\n",
       "      <td>1.000000</td>\n",
       "      <td>23.0</td>\n",
       "      <td>...</td>\n",
       "      <td>0.0</td>\n",
       "      <td>0.0</td>\n",
       "      <td>0.0</td>\n",
       "      <td>0.000000</td>\n",
       "      <td>0.0</td>\n",
       "      <td>0.0</td>\n",
       "      <td>0.000000</td>\n",
       "      <td>0.0</td>\n",
       "      <td>0.0</td>\n",
       "      <td>100739</td>\n",
       "    </tr>\n",
       "    <tr>\n",
       "      <th>1</th>\n",
       "      <td>67</td>\n",
       "      <td>27143</td>\n",
       "      <td>49633</td>\n",
       "      <td>1.0</td>\n",
       "      <td>1.0</td>\n",
       "      <td>0.0</td>\n",
       "      <td>0.0</td>\n",
       "      <td>0.0</td>\n",
       "      <td>1.000000</td>\n",
       "      <td>24.0</td>\n",
       "      <td>...</td>\n",
       "      <td>0.0</td>\n",
       "      <td>0.0</td>\n",
       "      <td>0.0</td>\n",
       "      <td>0.000000</td>\n",
       "      <td>0.0</td>\n",
       "      <td>0.0</td>\n",
       "      <td>0.000000</td>\n",
       "      <td>0.0</td>\n",
       "      <td>0.0</td>\n",
       "      <td>100739</td>\n",
       "    </tr>\n",
       "    <tr>\n",
       "      <th>2</th>\n",
       "      <td>67</td>\n",
       "      <td>15874</td>\n",
       "      <td>49633</td>\n",
       "      <td>1.0</td>\n",
       "      <td>1.0</td>\n",
       "      <td>0.0</td>\n",
       "      <td>0.0</td>\n",
       "      <td>0.0</td>\n",
       "      <td>1.000000</td>\n",
       "      <td>25.0</td>\n",
       "      <td>...</td>\n",
       "      <td>0.0</td>\n",
       "      <td>0.0</td>\n",
       "      <td>0.0</td>\n",
       "      <td>0.333333</td>\n",
       "      <td>0.0</td>\n",
       "      <td>0.0</td>\n",
       "      <td>0.407456</td>\n",
       "      <td>0.0</td>\n",
       "      <td>0.0</td>\n",
       "      <td>100739</td>\n",
       "    </tr>\n",
       "    <tr>\n",
       "      <th>3</th>\n",
       "      <td>67</td>\n",
       "      <td>20366</td>\n",
       "      <td>11016</td>\n",
       "      <td>1.0</td>\n",
       "      <td>1.0</td>\n",
       "      <td>0.0</td>\n",
       "      <td>0.0</td>\n",
       "      <td>0.0</td>\n",
       "      <td>1.000000</td>\n",
       "      <td>25.0</td>\n",
       "      <td>...</td>\n",
       "      <td>0.0</td>\n",
       "      <td>0.0</td>\n",
       "      <td>0.0</td>\n",
       "      <td>0.000000</td>\n",
       "      <td>0.0</td>\n",
       "      <td>0.0</td>\n",
       "      <td>0.000000</td>\n",
       "      <td>0.0</td>\n",
       "      <td>0.0</td>\n",
       "      <td>100739</td>\n",
       "    </tr>\n",
       "    <tr>\n",
       "      <th>4</th>\n",
       "      <td>67</td>\n",
       "      <td>20366</td>\n",
       "      <td>49633</td>\n",
       "      <td>1.0</td>\n",
       "      <td>1.0</td>\n",
       "      <td>0.0</td>\n",
       "      <td>0.0</td>\n",
       "      <td>0.0</td>\n",
       "      <td>0.454545</td>\n",
       "      <td>24.0</td>\n",
       "      <td>...</td>\n",
       "      <td>0.0</td>\n",
       "      <td>0.0</td>\n",
       "      <td>0.0</td>\n",
       "      <td>0.000000</td>\n",
       "      <td>0.0</td>\n",
       "      <td>0.0</td>\n",
       "      <td>0.000000</td>\n",
       "      <td>0.0</td>\n",
       "      <td>0.0</td>\n",
       "      <td>100739</td>\n",
       "    </tr>\n",
       "  </tbody>\n",
       "</table>\n",
       "<p>5 rows × 149 columns</p>\n",
       "</div>"
      ],
      "text/plain": [
       "   CU_MOB  parent_segment  parent_type  dc_c  dc_v  cc_c  cc_v  cashback_f  \\\n",
       "0      67           27143        49633   1.0   1.0   0.0   0.0         0.0   \n",
       "1      67           27143        49633   1.0   1.0   0.0   0.0         0.0   \n",
       "2      67           15874        49633   1.0   1.0   0.0   0.0         0.0   \n",
       "3      67           20366        11016   1.0   1.0   0.0   0.0         0.0   \n",
       "4      67           20366        49633   1.0   1.0   0.0   0.0         0.0   \n",
       "\n",
       "   payroll_m  CU_AGE   ...    month_num_gold  month_num_prem_dir  \\\n",
       "0   1.000000    23.0   ...               0.0                 0.0   \n",
       "1   1.000000    24.0   ...               0.0                 0.0   \n",
       "2   1.000000    25.0   ...               0.0                 0.0   \n",
       "3   1.000000    25.0   ...               0.0                 0.0   \n",
       "4   0.454545    24.0   ...               0.0                 0.0   \n",
       "\n",
       "   month_num_prem   L.PLOAN  L.AUTO  L.MORT  L.PLOAN_rep  L.AURO_rep  \\\n",
       "0             0.0  0.000000     0.0     0.0     0.000000         0.0   \n",
       "1             0.0  0.000000     0.0     0.0     0.000000         0.0   \n",
       "2             0.0  0.333333     0.0     0.0     0.407456         0.0   \n",
       "3             0.0  0.000000     0.0     0.0     0.000000         0.0   \n",
       "4             0.0  0.000000     0.0     0.0     0.000000         0.0   \n",
       "\n",
       "   L.MORT_rep    ip_f  \n",
       "0         0.0  100739  \n",
       "1         0.0  100739  \n",
       "2         0.0  100739  \n",
       "3         0.0  100739  \n",
       "4         0.0  100739  \n",
       "\n",
       "[5 rows x 149 columns]"
      ]
     },
     "execution_count": 57,
     "metadata": {},
     "output_type": "execute_result"
    }
   ],
   "source": [
    "young_ordinary_avg.head()"
   ]
  },
  {
   "cell_type": "code",
   "execution_count": 58,
   "metadata": {
    "collapsed": false
   },
   "outputs": [],
   "source": [
    "svd = TruncatedSVD(80, random_state=1)\n",
    "scaler=StandardScaler(with_mean=0)\n",
    "lsa = make_pipeline(scaler,svd)\n",
    "\n",
    "X = lsa.fit_transform(young_ordinary_avg)"
   ]
  },
  {
   "cell_type": "code",
   "execution_count": 59,
   "metadata": {
    "collapsed": false
   },
   "outputs": [],
   "source": [
    "#для one-hot\n",
    "svd = TruncatedSVD(80, random_state=1)\n",
    "X=svd.fit_transform(young_enc)"
   ]
  },
  {
   "cell_type": "code",
   "execution_count": null,
   "metadata": {
    "collapsed": false
   },
   "outputs": [],
   "source": [
    "#from sklearn.decomposition import PCA\n",
    "#pca=PCA(n_components=80)\n",
    "#young_pca=pca.fit_transform(young_ord_scaled)"
   ]
  },
  {
   "cell_type": "markdown",
   "metadata": {},
   "source": [
    "##  Алгоритм: hierarchy"
   ]
  },
  {
   "cell_type": "markdown",
   "metadata": {},
   "source": [
    "Результаты других функций связи и метрик неудовлетворительны - объединяют все в один кластер"
   ]
  },
  {
   "cell_type": "code",
   "execution_count": 60,
   "metadata": {
    "collapsed": true
   },
   "outputs": [],
   "source": [
    "from scipy.cluster.hierarchy import dendrogram, linkage,fcluster"
   ]
  },
  {
   "cell_type": "code",
   "execution_count": 61,
   "metadata": {
    "collapsed": false
   },
   "outputs": [],
   "source": [
    "Z = linkage(X, method='ward')"
   ]
  },
  {
   "cell_type": "code",
   "execution_count": null,
   "metadata": {
    "collapsed": true
   },
   "outputs": [],
   "source": [
    "def fancy_dendrogram(*args, **kwargs):\n",
    "    max_d = kwargs.pop('max_d', None)\n",
    "    if max_d and 'color_threshold' not in kwargs:\n",
    "        kwargs['color_threshold'] = max_d\n",
    "    annotate_above = kwargs.pop('annotate_above', 0)\n",
    "\n",
    "    ddata = dendrogram(*args, **kwargs)\n",
    "\n",
    "    if not kwargs.get('no_plot', False):\n",
    "        plt.title('Hierarchical Clustering Dendrogram (truncated)')\n",
    "        plt.xlabel('sample index or (cluster size)')\n",
    "        plt.ylabel('distance')\n",
    "        for i, d, c in zip(ddata['icoord'], ddata['dcoord'], ddata['color_list']):\n",
    "            x = 0.5 * sum(i[1:3])\n",
    "            y = d[1]\n",
    "            if y > annotate_above:\n",
    "                plt.plot(x, y, 'o', c=c)\n",
    "                plt.annotate(\"%.3g\" % y, (x, y), xytext=(0, -5),\n",
    "                             textcoords='offset points',\n",
    "                             va='top', ha='center')\n",
    "        if max_d:\n",
    "            plt.axhline(y=max_d, c='k')\n",
    "    return ddata"
   ]
  },
  {
   "cell_type": "code",
   "execution_count": null,
   "metadata": {
    "collapsed": true
   },
   "outputs": [],
   "source": [
    "def linkage_and_params(fn):\n",
    "    def  wrapper(Z,truncate_mode='lastp', p=30,leaf_rotation=90.,leaf_font_size=12.,show_contracted=True,annotate_above=10 ):\n",
    "        Z=linkage(Z, 'ward')\n",
    "        ddata = fn(Z,truncate_mode='lastp', p=30,leaf_rotation=90.,leaf_font_size=12.,show_contracted=True,annotate_above=10)\n",
    "        plt.show()\n",
    "    return wrapper  "
   ]
  },
  {
   "cell_type": "code",
   "execution_count": null,
   "metadata": {
    "collapsed": true
   },
   "outputs": [],
   "source": [
    "@linkage_and_params\n",
    "def fancy_dendrogram(*args, **kwargs):\n",
    "    max_d = kwargs.pop('max_d', None)\n",
    "    if max_d and 'color_threshold' not in kwargs:\n",
    "        kwargs['color_threshold'] = max_d\n",
    "    annotate_above = kwargs.pop('annotate_above', 0)\n",
    "\n",
    "    ddata = dendrogram(*args, **kwargs)\n",
    "\n",
    "    if not kwargs.get('no_plot', False):\n",
    "        plt.title('Hierarchical Clustering Dendrogram (truncated)')\n",
    "        plt.xlabel('sample index or (cluster size)')\n",
    "        plt.ylabel('distance')\n",
    "        for i, d, c in zip(ddata['icoord'], ddata['dcoord'], ddata['color_list']):\n",
    "            x = 0.5 * sum(i[1:3])\n",
    "            y = d[1]\n",
    "            if y > annotate_above:\n",
    "                plt.plot(x, y, 'o', c=c)\n",
    "                plt.annotate(\"%.3g\" % y, (x, y), xytext=(0, -5),\n",
    "                             textcoords='offset points',\n",
    "                             va='top', ha='center')\n",
    "        if max_d:\n",
    "            plt.axhline(y=max_d, c='k')\n",
    "    return ddata\n"
   ]
  },
  {
   "cell_type": "code",
   "execution_count": null,
   "metadata": {
    "collapsed": false
   },
   "outputs": [],
   "source": [
    "fancy_dendrogram(X)"
   ]
  },
  {
   "cell_type": "code",
   "execution_count": null,
   "metadata": {
    "collapsed": false
   },
   "outputs": [],
   "source": [
    "fancy_dendrogram(\n",
    "    Z,\n",
    "    truncate_mode='lastp',\n",
    "    p=30,\n",
    "    leaf_rotation=90.,\n",
    "    leaf_font_size=12.,\n",
    "    show_contracted=True,\n",
    "    annotate_above=10,  # useful in small plots so annotations don't overlap\n",
    ")\n",
    "plt.show()"
   ]
  },
  {
   "cell_type": "code",
   "execution_count": 62,
   "metadata": {
    "collapsed": true
   },
   "outputs": [],
   "source": [
    "h_labels=fcluster(Z, 164 , criterion='distance')"
   ]
  },
  {
   "cell_type": "code",
   "execution_count": null,
   "metadata": {
    "collapsed": true
   },
   "outputs": [],
   "source": [
    "def cluster_labels(X, threshold):\n",
    "    Z = linkage(X, method='ward')\n",
    "    h_labels=fcluster(Z, threshold , criterion='distance')\n",
    "    final=young_ordinary_avg.copy()\n",
    "    final['final_labels']=h_labels\n",
    "    unique_labels=final['final_labels'].value_counts().index.tolist()\n",
    "    final.final_labels.replace(unique_labels,[i+1 for i in range(len(unique_labels))],inplace=True)\n",
    "    return final"
   ]
  },
  {
   "cell_type": "code",
   "execution_count": null,
   "metadata": {
    "collapsed": false
   },
   "outputs": [],
   "source": [
    "final=cluster_labels(X, 164)"
   ]
  },
  {
   "cell_type": "code",
   "execution_count": 63,
   "metadata": {
    "collapsed": false
   },
   "outputs": [],
   "source": [
    "final=young_ordinary_avg.copy()\n",
    "final['final_labels']=h_labels"
   ]
  },
  {
   "cell_type": "code",
   "execution_count": 66,
   "metadata": {
    "collapsed": false
   },
   "outputs": [
    {
     "data": {
      "text/plain": [
       "1     6020\n",
       "2     3167\n",
       "3     1847\n",
       "4     1806\n",
       "5      265\n",
       "6       29\n",
       "7       24\n",
       "8       20\n",
       "9        5\n",
       "12       4\n",
       "11       4\n",
       "10       4\n",
       "13       1\n",
       "Name: final_labels, dtype: int64"
      ]
     },
     "execution_count": 66,
     "metadata": {},
     "output_type": "execute_result"
    }
   ],
   "source": [
    "final['final_labels'].value_counts()"
   ]
  },
  {
   "cell_type": "code",
   "execution_count": 65,
   "metadata": {
    "collapsed": true
   },
   "outputs": [],
   "source": [
    "final.final_labels.replace([11,6,5,2,12,10,1,8,4,7,3,9,13],range(14)[1:],inplace=True)"
   ]
  },
  {
   "cell_type": "code",
   "execution_count": null,
   "metadata": {
    "collapsed": false
   },
   "outputs": [],
   "source": [
    "pd.DataFrame(cif_avg).merge(final, left_index=True, right_index=True).to_csv('young_train.csv')"
   ]
  },
  {
   "cell_type": "markdown",
   "metadata": {},
   "source": [
    "## Проверка значимости"
   ]
  },
  {
   "cell_type": "code",
   "execution_count": null,
   "metadata": {
    "collapsed": false
   },
   "outputs": [],
   "source": [
    "def kruskalwallis(columns, data, affect_feature):\n",
    "    amount_cols_stat=[]\n",
    "    print (\"Reject NULL hypothesis - Significant difference between groups.\")\n",
    "\n",
    "    for c in columns:   \n",
    "        cols=[]\n",
    "        for i in data[affect_feature].unique():\n",
    "            cols.append(data.ix[data[affect_feature]==i, c])\n",
    "        try:\n",
    "            H, pval = sc.stats.mstats.kruskalwallis(cols[0],cols[1],cols[2],cols[3])\n",
    "            if pval < 0.05:\n",
    "                amount_cols_stat.append(c)\n",
    "                #print (c)\n",
    "        except ValueError:\n",
    "            pass\n",
    "    return amount_cols_stat\n",
    "           "
   ]
  },
  {
   "cell_type": "code",
   "execution_count": null,
   "metadata": {
    "collapsed": false
   },
   "outputs": [],
   "source": [
    "kruskalwallis(['month_num_dep', 'month_num_mut', 'month_num_ins',\n",
    "                        'month_num_sa', 'month_num_gold', 'month_num_prem_dir',\n",
    "                        'month_num_prem', 'L.PLOAN', 'L.AUTO', 'L.MORT'], final[final['final_labels']<4], 'final_labels')"
   ]
  },
  {
   "cell_type": "code",
   "execution_count": null,
   "metadata": {
    "collapsed": true
   },
   "outputs": [],
   "source": [
    "#переделать-final['final_labels'].unique()\n",
    "def mannwhitneyu(columns, data, k, l, alt,affect_feature):\n",
    "    print (\"Reject NULL hypothesis - Significant difference between groups.\")\n",
    "    for c in columns:\n",
    "        #X=final[final[c]!=0]\n",
    "        #X_1=X[c].quantile(0.25)-1.5*(X[c].quantile(0.75)-X[c].quantile(0.25))\n",
    "        #X_2=X[c].quantile(0.75)+1.5*(X[c].quantile(0.75)-X[c].quantile(0.25))\n",
    "        #X=X[(X[c]>X_1)&(X[c]<X_2)]\n",
    "        cols=[]\n",
    "        for i in data[affect_feature].unique():\n",
    "            cols.append(data.ix[data[affect_feature]==i, c])\n",
    "        try:\n",
    "            H, pval = sc.stats.mannwhitneyu(cols[k],cols[l],alternative=alt)\n",
    "            if pval < 0.05:\n",
    "                print (c)\n",
    "        except ValueError:\n",
    "            pass\n",
    "       "
   ]
  },
  {
   "cell_type": "code",
   "execution_count": null,
   "metadata": {
    "collapsed": false
   },
   "outputs": [],
   "source": [
    "print (\"Reject NULL hypothesis - Significant difference between groups.\")\n",
    "for c in txn_cols_amount:\n",
    "        #X=final[final[c]!=0]\n",
    "        #X_1=X[c].quantile(0.25)-1.5*(X[c].quantile(0.75)-X[c].quantile(0.25))\n",
    "        #X_2=X[c].quantile(0.75)+1.5*(X[c].quantile(0.75)-X[c].quantile(0.25))\n",
    "        #X=X[(X[c]>X_1)&(X[c]<X_2)]\n",
    "        cols=[]\n",
    "        for i in range(4):\n",
    "            cols.append(final.ix[final['final_labels']==i, c])\n",
    "        try:\n",
    "            H, pval = sc.stats.mannwhitneyu(cols[1],cols[0],alternative='less')\n",
    "            if pval < 0.05:\n",
    "                print (c)\n",
    "        except ValueError:\n",
    "            pass"
   ]
  },
  {
   "cell_type": "code",
   "execution_count": null,
   "metadata": {
    "collapsed": false
   },
   "outputs": [],
   "source": [
    "mannwhitneyu(txn_cols_amount, final, 0, 2, 'less', 'final_labels')"
   ]
  },
  {
   "cell_type": "code",
   "execution_count": null,
   "metadata": {
    "collapsed": false
   },
   "outputs": [],
   "source": [
    "mannwhitneyu(prod_cols, final, 2, 3, 'greater', 'final_labels')"
   ]
  },
  {
   "cell_type": "code",
   "execution_count": null,
   "metadata": {
    "collapsed": true
   },
   "outputs": [],
   "source": [
    "def anova(columns, data, affect_feature):\n",
    "    print (\"Reject NULL hypothesis - Significant difference between groups.\")\n",
    "    for c in columns:\n",
    "        cols=[]\n",
    "        for i in data[affect_feature].unique():\n",
    "            cols.append(data.ix[data[affect_feature]==i, c])\n",
    "        H, pval = sc.stats.f_oneway(cols[0],cols[1],cols[2],cols[3])\n",
    "\n",
    "        if pval < 0.05:\n",
    "            print (c)\n",
    "        "
   ]
  },
  {
   "cell_type": "code",
   "execution_count": null,
   "metadata": {
    "collapsed": false
   },
   "outputs": [],
   "source": [
    "anova(txn_cols_amount, final, 'final_labels')"
   ]
  },
  {
   "cell_type": "markdown",
   "metadata": {},
   "source": [
    "# Аналитика"
   ]
  },
  {
   "cell_type": "markdown",
   "metadata": {},
   "source": [
    "## Структура соц-дем"
   ]
  },
  {
   "cell_type": "markdown",
   "metadata": {},
   "source": [
    "Вернемся от кодировки к исходным значениям"
   ]
  },
  {
   "cell_type": "code",
   "execution_count": null,
   "metadata": {
    "collapsed": false
   },
   "outputs": [],
   "source": [
    "young_raw=pd.read_csv('dataset_2306.csv')"
   ]
  },
  {
   "cell_type": "code",
   "execution_count": null,
   "metadata": {
    "collapsed": false
   },
   "outputs": [],
   "source": [
    "young_raw=young_raw[young_raw.CIF_ID.isin(cif_avg)]"
   ]
  },
  {
   "cell_type": "code",
   "execution_count": null,
   "metadata": {
    "collapsed": false
   },
   "outputs": [],
   "source": [
    "young_raw.shape"
   ]
  },
  {
   "cell_type": "code",
   "execution_count": null,
   "metadata": {
    "collapsed": true
   },
   "outputs": [],
   "source": [
    "cat_bin_cols=[  'parent_segment', 'parent_type','CU_MARITAL_STATUS','CU_CITIZENSHIP', 'CU_GENDER', 'CU_BRANCH_CITY_TOWN', 'cu_segment']"
   ]
  },
  {
   "cell_type": "code",
   "execution_count": null,
   "metadata": {
    "collapsed": false
   },
   "outputs": [],
   "source": [
    "data_city=young_raw.copy()"
   ]
  },
  {
   "cell_type": "code",
   "execution_count": null,
   "metadata": {
    "collapsed": false
   },
   "outputs": [],
   "source": [
    "data_city['city']='other'\n",
    "with warn.catch_warnings():\n",
    "        warn.simplefilter(\"ignore\")\n",
    "\n",
    "        data_city.ix[data_city['CU_BRANCH_CITY_TOWN']=='Moscow','city']='Moscow'\n",
    "        data_city.ix[data_city[data_city['CU_BRANCH_CITY_TOWN']=='St.Peterburg'].index.tolist(),'city']='St.Peterburg'\n",
    "        data_city.ix[data_city[data_city['CU_BRANCH_CITY_TOWN']=='Saint-Petersburg'].index.tolist(),'city']='St.Peterburg'\n",
    "\n",
    "        data_city.ix[data_city[data_city['CU_BRANCH_CITY_TOWN']=='Samara'].index.tolist(),'city']='big_city'\n",
    "        data_city.ix[data_city[data_city['CU_BRANCH_CITY_TOWN']=='Nizhny Novgorod'].index.tolist(),'city']='big_city'\n",
    "        data_city.ix[data_city[data_city['CU_BRANCH_CITY_TOWN']=='Ekaterinburg'].index.tolist(),'city']= 'big_city'\n",
    "        data_city.ix[data_city[data_city['CU_BRANCH_CITY_TOWN']=='Kazan'].index.tolist(),'city']= 'big_city'\n",
    "        data_city.ix[data_city[data_city['CU_BRANCH_CITY_TOWN']=='Krasnoyarsk'].index.tolist(),'city']= 'big_city'\n",
    "        data_city.ix[data_city[data_city['CU_BRANCH_CITY_TOWN']=='Ufa'].index.tolist(),'city']= 'big_city'\n",
    "        data_city.ix[data_city[data_city['CU_BRANCH_CITY_TOWN']=='Omsk'].index.tolist(),'city']='big_city'\n",
    "        data_city.ix[data_city[data_city['CU_BRANCH_CITY_TOWN']=='Volgograd'].index.tolist(),'city']= 'big_city'\n",
    "        data_city.ix[data_city[data_city['CU_BRANCH_CITY_TOWN']=='Voronezh'].index.tolist(),'city']= 'big_city'\n",
    "        data_city.ix[data_city[data_city['CU_BRANCH_CITY_TOWN']=='Rostov-na-Donu'].index.tolist(),'city']= 'big_city'\n",
    "        data_city.ix[data_city[data_city['CU_BRANCH_CITY_TOWN']=='Volgograd'].index.tolist(),'city'] = 'big_city'\n",
    "        data_city.ix[data_city[data_city['CU_BRANCH_CITY_TOWN']=='Novosibirsk'].index.tolist(),'city']='big_city'\n",
    "        data_city.ix[data_city[data_city['CU_BRANCH_CITY_TOWN']=='Chelyabinsk'].index.tolist(),'city'] = 'big_city'"
   ]
  },
  {
   "cell_type": "code",
   "execution_count": null,
   "metadata": {
    "collapsed": true
   },
   "outputs": [],
   "source": [
    "def city(data, city_col):\n",
    "        data['city']='other'\n",
    "        with warn.catch_warnings():\n",
    "            warn.simplefilter(\"ignore\")\n",
    "\n",
    "            data.ix[data[city_col]=='Moscow','city']='Moscow'\n",
    "            data.ix[data[data[city_col]=='St.Peterburg'].index.tolist(),'city']='St.Peterburg'\n",
    "            data.ix[data[data[city_col]=='Saint-Petersburg'].index.tolist(),'city']='St.Peterburg'\n",
    "\n",
    "            data.ix[data[data[city_col]=='Samara'].index.tolist(),'city']='big_city'\n",
    "            data.ix[data[data_city[city_col]=='Nizhny Novgorod'].index.tolist(),'city']='big_city'\n",
    "            data.ix[data[data_city[city_col]=='Ekaterinburg'].index.tolist(),'city']= 'big_city'\n",
    "            data.ix[data[data_city[city_col]=='Kazan'].index.tolist(),'city']= 'big_city'\n",
    "            data.ix[data[data_city[city_col]=='Krasnoyarsk'].index.tolist(),'city']= 'big_city'\n",
    "            data.ix[data[data_city[city_col]=='Ufa'].index.tolist(),'city']= 'big_city'\n",
    "            data.ix[data[data_city[city_col]=='Omsk'].index.tolist(),'city']='big_city'\n",
    "            data.ix[data[data_city[city_col]=='Volgograd'].index.tolist(),'city']= 'big_city'\n",
    "            data.ix[data[data_city[city_col]=='Voronezh'].index.tolist(),'city']= 'big_city'\n",
    "            data.ix[data[data_city[city_col]=='Rostov-na-Donu'].index.tolist(),'city']= 'big_city'\n",
    "            data.ix[data[data_city[city_col]=='Volgograd'].index.tolist(),'city'] = 'big_city'\n",
    "            data.ix[data[data_city[city_col]=='Novosibirsk'].index.tolist(),'city']='big_city'\n",
    "            data.ix[data[data_city[city_col]=='Chelyabinsk'].index.tolist(),'city'] = 'big_city'\n",
    "        return data"
   ]
  },
  {
   "cell_type": "code",
   "execution_count": null,
   "metadata": {
    "collapsed": false
   },
   "outputs": [],
   "source": [
    "data_city=city(data_city, 'CU_BRANCH_CITY_TOWN')"
   ]
  },
  {
   "cell_type": "code",
   "execution_count": null,
   "metadata": {
    "collapsed": false
   },
   "outputs": [],
   "source": [
    "data_city['final_labels']=final.ix[:,'final_labels'].values"
   ]
  },
  {
   "cell_type": "code",
   "execution_count": null,
   "metadata": {
    "collapsed": true
   },
   "outputs": [],
   "source": [
    "personal_inform_cols=['parent_segment', 'parent_type','CU_MARITAL_STATUS', 'CU_GENDER', 'city' ,'cu_segment']"
   ]
  },
  {
   "cell_type": "code",
   "execution_count": null,
   "metadata": {
    "collapsed": true
   },
   "outputs": [],
   "source": [
    "def clust_personal_analytics(i, cols):\n",
    "    with warn.catch_warnings():\n",
    "        warn.simplefilter(\"ignore\")\n",
    "        X=data_city[data_city['final_labels']==i]\n",
    "        for col in cols:\n",
    "            data_city['avg_col']=data_city[col].map(X.groupby(col).size()/data_city[data_city['final_labels']==i].shape[0])  \n",
    "            fig = plt.figure()\n",
    "            sns.barplot(x=col,y='avg_col', data=data_city)\n",
    "            plt.show()"
   ]
  },
  {
   "cell_type": "code",
   "execution_count": null,
   "metadata": {
    "collapsed": false
   },
   "outputs": [],
   "source": [
    " for i in range(4)[1:]:\n",
    "            print ('Кластер', i)\n",
    "            clust_personal_analytics(i, personal_inform_cols)"
   ]
  },
  {
   "cell_type": "code",
   "execution_count": null,
   "metadata": {
    "collapsed": false
   },
   "outputs": [],
   "source": [
    "def clust_personal_analytics(i):\n",
    " \n",
    "    X=data_city[data_city['final_labels']==i]\n",
    "    for col in personal_inform_cols:\n",
    "        data_city['avg_col']=data_city[col].map(X.groupby(col).size()/data_city[data_city['final_labels']==i].shape[0])  \n",
    "        fig = plt.figure()\n",
    "        sns.barplot(x=col,y='avg_col', data=data_city)\n",
    "        plt.show()"
   ]
  },
  {
   "cell_type": "code",
   "execution_count": null,
   "metadata": {
    "collapsed": false
   },
   "outputs": [],
   "source": [
    "with warn.catch_warnings():\n",
    "        warn.simplefilter(\"ignore\")\n",
    "        for i in range(4):\n",
    "            print ('Кластер', i)\n",
    "            clust_personal_analytics(i)"
   ]
  },
  {
   "cell_type": "code",
   "execution_count": null,
   "metadata": {
    "collapsed": false
   },
   "outputs": [],
   "source": [
    "def crosstab_plot(data, feature1, feature2):\n",
    "\n",
    "        ct=pd.crosstab(X[feature1], X[feature2], normalize=1)\n",
    "        ct.plot(kind='bar', title=feature1, figsize=(8,5), cmap=\"YlGnBu\")\n",
    "        plt.xlabel('')\n",
    "        plt.ylabel('share,%')\n",
    "        plt.show()"
   ]
  },
  {
   "cell_type": "code",
   "execution_count": null,
   "metadata": {
    "collapsed": false
   },
   "outputs": [],
   "source": [
    "crosstab_plot(data_city.ix[data_city.final_labels<5,:],'city', 'final_labels')"
   ]
  },
  {
   "cell_type": "code",
   "execution_count": null,
   "metadata": {
    "collapsed": false
   },
   "outputs": [],
   "source": [
    "X=data_city.ix[data_city.final_labels<5,:]\n",
    "ct=pd.crosstab(X['parent_segment'], X['final_labels'],normalize=1)\n",
    "ct.plot(kind='bar', title='parent_segment', figsize=(8,5), cmap=\"YlGnBu\")\n",
    "plt.xlabel('')\n",
    "plt.ylabel('share,%')\n",
    "plt.show()"
   ]
  },
  {
   "cell_type": "code",
   "execution_count": null,
   "metadata": {
    "collapsed": false
   },
   "outputs": [],
   "source": [
    "X=data_city.ix[data_city.final_labels<5,:]\n",
    "ct=pd.crosstab(X['CU_GENDER'], X['final_labels'],normalize=1)\n",
    "ct.plot(kind='bar', title='Gender', figsize=(8,5), cmap=\"YlGnBu\")\n",
    "plt.xlabel('')\n",
    "plt.ylabel('share,%')\n",
    "plt.show()"
   ]
  },
  {
   "cell_type": "code",
   "execution_count": null,
   "metadata": {
    "collapsed": false
   },
   "outputs": [],
   "source": [
    "X=data_city.ix[data_city.final_labels<5,:]\n",
    "ct=pd.crosstab(X['CU_MARITAL_STATUS'], X['final_labels'], normalize=1)\n",
    "ct.plot(kind='bar', title='Marital status', figsize=(8,5),cmap=\"YlGnBu\")\n",
    "plt.xlabel('')\n",
    "plt.ylabel('share,%')\n",
    "plt.show()"
   ]
  },
  {
   "cell_type": "code",
   "execution_count": null,
   "metadata": {
    "collapsed": false
   },
   "outputs": [],
   "source": [
    "X=data_city.ix[data_city.final_labels<5,:]\n",
    "ct=pd.crosstab(X['city'], X['final_labels'], normalize=1)\n",
    "ct.plot(kind='bar', title='City', figsize=(8,5), cmap=\"YlGnBu\")\n",
    "plt.xlabel('')\n",
    "plt.ylabel('share,%')\n",
    "plt.show()"
   ]
  },
  {
   "cell_type": "code",
   "execution_count": null,
   "metadata": {
    "collapsed": false
   },
   "outputs": [],
   "source": [
    "for i in range(4):\n",
    "    print ('Cluster',i)\n",
    "    data_city.ix[data_city['final_labels']==i,'CU_AGE'].hist()\n",
    "    plt.show()"
   ]
  },
  {
   "cell_type": "markdown",
   "metadata": {},
   "source": [
    "## Статистика по снятиям и переводам"
   ]
  },
  {
   "cell_type": "code",
   "execution_count": null,
   "metadata": {
    "collapsed": false
   },
   "outputs": [],
   "source": [
    "X=young_ordinary_avg.copy()\n",
    "X['final_labels']=final.final_labels\n",
    "X['c2c']=X['C2C_ATM']+X['C2C_OTHER']+X['C2C_RCONNECT']\n",
    "X['c2c_o']=X['c2c_atm_o']+X['c2c_other_o']+X['c2c_rconnect_o']"
   ]
  },
  {
   "cell_type": "code",
   "execution_count": null,
   "metadata": {
    "collapsed": false
   },
   "outputs": [],
   "source": [
    "def atm_hist(col,data):\n",
    "    fig, ax = plt.subplots(1)\n",
    "    sns.boxplot(y = col, x='final_labels', data=data)\n",
    "    ax.set_ylim([0,data[col].quantile(0.95)])\n",
    "    plt.show()"
   ]
  },
  {
   "cell_type": "code",
   "execution_count": null,
   "metadata": {
    "collapsed": false
   },
   "outputs": [],
   "source": [
    "col='c2c'\n",
    "data=X[X['final_labels']<5]\n",
    "fig, ax = plt.subplots(1)\n",
    "sns.boxplot(y = col, x='final_labels', data=data, palette=\"YlGnBu\")\n",
    "ax.set_ylim([0,data[col].quantile(0.95)])\n",
    "plt.ylabel('c2c frequency share')\n",
    "plt.xlabel('cluster label')\n",
    "plt.title('c2c')\n",
    "plt.show()"
   ]
  },
  {
   "cell_type": "code",
   "execution_count": null,
   "metadata": {
    "collapsed": false
   },
   "outputs": [],
   "source": [
    "col='atm_o_t'\n",
    "data=X[X['final_labels']<5]\n",
    "fig, ax = plt.subplots(1)\n",
    "sns.boxplot(y = col, x='final_labels', data=data, palette=\"YlGnBu\")\n",
    "ax.set_ylim([0,data[col].quantile(0.95)])\n",
    "plt.ylabel('ATM frequency share')\n",
    "plt.xlabel('cluster label')\n",
    "plt.title('ATM')\n",
    "plt.show()"
   ]
  },
  {
   "cell_type": "code",
   "execution_count": null,
   "metadata": {
    "collapsed": false
   },
   "outputs": [],
   "source": [
    "X=X[X['final_labels']<4]\n",
    "atm_hist('c2c', X,cmap=\"YlGnBu\")\n",
    "atm_hist('c2c_o', X)\n",
    "atm_hist('atm_o_t', X, cmap=\"YlGnBu\")"
   ]
  },
  {
   "cell_type": "markdown",
   "metadata": {},
   "source": [
    "## Статистика по продуктовой истории"
   ]
  },
  {
   "cell_type": "code",
   "execution_count": null,
   "metadata": {
    "collapsed": false
   },
   "outputs": [],
   "source": [
    "col='L.PLOAN'\n",
    "data=X[X['final_labels']<5]\n",
    "data=data[data[col]!=0]\n",
    "fig, ax = plt.subplots(1)\n",
    "sns.boxplot(y = col, x='final_labels', data=data, palette=\"YlGnBu\")\n",
    "ax.set_ylim([0,data[col].quantile(0.95)])\n",
    "plt.ylabel('loan repayment duration ')\n",
    "plt.xlabel('cluster label')\n",
    "plt.title('Loan repayment duration')\n",
    "plt.show()"
   ]
  },
  {
   "cell_type": "code",
   "execution_count": null,
   "metadata": {
    "collapsed": false
   },
   "outputs": [],
   "source": [
    "col='L.PLOAN_rep'\n",
    "data=X[X['final_labels']<5]\n",
    "data=data[data[col]!=0]\n",
    "fig, ax = plt.subplots(1)\n",
    "sns.boxplot(y = col, x='final_labels', data=data, palette=\"YlGnBu\")\n",
    "ax.set_ylim([0,data[col].quantile(0.95)])\n",
    "plt.ylabel('loan repayment')\n",
    "plt.xlabel('cluster label')\n",
    "plt.title('Loan repayment')\n",
    "plt.show()"
   ]
  },
  {
   "cell_type": "code",
   "execution_count": null,
   "metadata": {
    "collapsed": false
   },
   "outputs": [],
   "source": [
    "XX=final[final['final_labels']<4]\n",
    "for col in prod_cols:\n",
    "    try:\n",
    "    #if data_analysis.ix[final['final_labels']==2,col].median()>500:\n",
    "        X=XX[XX[col]!=0]\n",
    "        fig, ax = plt.subplots(1)\n",
    "        sns.boxplot(y =col, x='final_labels', data=X)\n",
    "        ax.set_ylim([0,X[col].quantile(0.95)])\n",
    "        plt.show()\n",
    "    except ValueError:\n",
    "        pass"
   ]
  },
  {
   "cell_type": "code",
   "execution_count": null,
   "metadata": {
    "collapsed": true
   },
   "outputs": [],
   "source": [
    "def box_plot(col1, col2, data, non_zero=False):\n",
    "    fig, ax = plt.subplots(1)\n",
    "    if non_zero==False:\n",
    "        X=data\n",
    "    else:\n",
    "        X=data[data[col1]!=0]\n",
    "    sns.boxplot(y = col1, x=col2 , data=X)\n",
    "\n",
    "    ax.set_ylim([0,X[col1].quantile(0.95)])\n",
    "    plt.show()"
   ]
  },
  {
   "cell_type": "code",
   "execution_count": null,
   "metadata": {
    "collapsed": false
   },
   "outputs": [],
   "source": [
    "box_plot('L.PLOAN', 'final_labels', final[final['final_labels']<4],True)"
   ]
  },
  {
   "cell_type": "code",
   "execution_count": null,
   "metadata": {
    "collapsed": false
   },
   "outputs": [],
   "source": [
    "XX=final[final['final_labels']<4]\n",
    "XX.ix[:,prod_cols].describe()"
   ]
  },
  {
   "cell_type": "code",
   "execution_count": null,
   "metadata": {
    "collapsed": false
   },
   "outputs": [],
   "source": [
    "data_txn[data_txn.columns[:23]]).sum(axis=0)"
   ]
  },
  {
   "cell_type": "code",
   "execution_count": null,
   "metadata": {
    "collapsed": false
   },
   "outputs": [],
   "source": [
    "for j in range(4):\n",
    "    print (j)\n",
    "    XX=final[final['final_labels']==j]\n",
    "    for col in ['month_num_dep','L.PLOAN', 'L.PLOAN_rep']:\n",
    "        print (col,'{:.2f}'.format((XX[col]==0).sum(axis=0)/XX.shape[0]))"
   ]
  },
  {
   "cell_type": "markdown",
   "metadata": {},
   "source": [
    "## Общая аналитика"
   ]
  },
  {
   "cell_type": "markdown",
   "metadata": {},
   "source": [
    "**Cреднее количество категорий у пользователя**"
   ]
  },
  {
   "cell_type": "code",
   "execution_count": null,
   "metadata": {
    "collapsed": false
   },
   "outputs": [],
   "source": [
    "(final[txn_cols_amount]==0).sum(axis=1).mean()"
   ]
  },
  {
   "cell_type": "markdown",
   "metadata": {},
   "source": [
    "**Средняя зарплата**\n"
   ]
  },
  {
   "cell_type": "code",
   "execution_count": null,
   "metadata": {
    "collapsed": false
   },
   "outputs": [],
   "source": [
    "data_city.groupby('final_labels')['salary'].median(), data_city.groupby('final_labels')['salary'].std()"
   ]
  },
  {
   "cell_type": "code",
   "execution_count": null,
   "metadata": {
    "collapsed": false
   },
   "outputs": [],
   "source": [
    "txn_cols_amount"
   ]
  },
  {
   "cell_type": "code",
   "execution_count": null,
   "metadata": {
    "collapsed": false
   },
   "outputs": [],
   "source": [
    "important_cols_amount=['Accessories', 'Active rest', 'Alcohol and tobacco',\n",
    "       'Audio, video, computers and appl', 'Auto parts', 'Autodillers',\n",
    "       'Autoservices', 'Avia', 'Cinema', 'Clothes',  'Cosmetics', 'Furniture', 'Garden', 'Hotels and rent', 'Sport',\n",
    "        'Maintenance and building','Toys','Music', 'Tourism', 'Theater', 'Art and literature', 'Vet service','General education']"
   ]
  },
  {
   "cell_type": "code",
   "execution_count": null,
   "metadata": {
    "collapsed": true
   },
   "outputs": [],
   "source": [
    "important_cols_count=['Accessories_t', 'Active rest_t', 'Alcohol and tobacco_t',\n",
    "       'Audio, video, computers_t',\n",
    "       'Autoservices_t', 'Avia_t', 'Cinema_t', 'Clothes_t',  'Cosmetics_t', 'Furniture_t', 'Garden_t', 'Hotels and rent_t','Sport_t',\n",
    "        'Maintenance and building_t','Toys_t','Music_t', 'Tourism_t', 'Theater_t', 'Art and literature_t', 'Vet service_t','General education_t']"
   ]
  },
  {
   "cell_type": "code",
   "execution_count": null,
   "metadata": {
    "collapsed": false,
    "scrolled": false
   },
   "outputs": [],
   "source": [
    "#сумма\n",
    "XX=final[final['final_labels']<4]\n",
    "for col in amount_cols_stat:\n",
    "    #if data_analysis.ix[final['final_labels']==2,col].median()>500:\n",
    "        X=XX#[XX[col]!=0]\n",
    "        fig, ax = plt.subplots(1)\n",
    "        sns.boxplot(y =col, x='final_labels', data=X)\n",
    "        ax.set_ylim([0,X[col].quantile(0.95)])\n",
    "        plt.show()"
   ]
  },
  {
   "cell_type": "code",
   "execution_count": null,
   "metadata": {
    "collapsed": false
   },
   "outputs": [],
   "source": [
    "#сумма\n",
    "XX=final[final['final_labels']<4]\n",
    "for col in count_cols_stat:\n",
    "    #if data_analysis.ix[final['final_labels']==2,col].median()>500:\n",
    "        X=XX[XX[col]!=0]\n",
    "        fig, ax = plt.subplots(1)\n",
    "        sns.boxplot(y =col, x='final_labels', data=X)\n",
    "        ax.set_ylim([0,X[col].quantile(0.95)])\n",
    "        plt.show()"
   ]
  },
  {
   "cell_type": "code",
   "execution_count": null,
   "metadata": {
    "collapsed": true
   },
   "outputs": [],
   "source": [
    "amount_stat_large=[\n",
    "'Autoservices',\n",
    "'Auto parts',\n",
    "'Clothes',\n",
    "'Cosmetics',\n",
    "'Active rest',\n",
    "'Medical services', \n",
    "'Beauty',\n",
    "'Art and literature',\n",
    "'Theater',\n",
    "'Garden',\n",
    "'Maintenance and building',    \n",
    "'Furniture',\n",
    "'Pet shop',\n",
    "'Professional education']\n",
    "amount_stat_little=list(set(amount_cols_stat)-set(amount_stat_large))\n",
    "                "
   ]
  },
  {
   "cell_type": "code",
   "execution_count": null,
   "metadata": {
    "collapsed": true
   },
   "outputs": [],
   "source": [
    "count_stat_large=[\n",
    "\n",
    "'Clothes',\n",
    "'Cosmetics',\n",
    "'Active rest',\n",
    "'Medical services', \n",
    "\n",
    "\n",
    " 'Professional education']\n",
    "count_stat_little=list(set(count_cols_stat)-set(count_stat_large))"
   ]
  },
  {
   "cell_type": "code",
   "execution_count": 75,
   "metadata": {
    "collapsed": true
   },
   "outputs": [],
   "source": [
    "cols_for_presentation=['Autoservices',\n",
    "'Auto parts', 'Garden',\n",
    "'Clothes',\n",
    "\n",
    "'Active rest',\n",
    "'Medical services', \n",
    "\n",
    "\n",
    "'Professional education']"
   ]
  },
  {
   "cell_type": "code",
   "execution_count": null,
   "metadata": {
    "collapsed": true
   },
   "outputs": [],
   "source": [
    "import math"
   ]
  },
  {
   "cell_type": "code",
   "execution_count": 77,
   "metadata": {
    "collapsed": false,
    "scrolled": true
   },
   "outputs": [
    {
     "data": {
      "text/plain": [
       "<matplotlib.text.Text at 0x7f5370bc9d30>"
      ]
     },
     "execution_count": 77,
     "metadata": {},
     "output_type": "execute_result"
    },
    {
     "data": {
      "image/png": "[encoded data removed]",
      "text/plain": [
       "<matplotlib.figure.Figure at 0x7f535ad98828>"
      ]
     },
     "metadata": {},
     "output_type": "display_data"
    }
   ],
   "source": [
    "XX=final[final['final_labels']<5]\n",
    "bar_data=np.zeros((7,4))\n",
    "for i,col in enumerate(cols_for_presentation):\n",
    "    #bar_data[0,i]=col\n",
    "    X=XX[XX[col]!=0]\n",
    "    for j in range(4):\n",
    "        bar_data[i,j]=X.groupby('final_labels')[col].median().values[j]\n",
    "bar_data=pd.DataFrame(bar_data, columns=range(5)[1:], index=cols_for_presentation)\n",
    "#bar_data['columns']=txn_cols_amount\n",
    "\n",
    "#bar_data=bar_data[(bar_data.ix[:,0:4].max(axis=1)>0.01)&(bar_data.ix[:,0:4].max(axis=1)<0.7)]\n",
    "bar_data.plot(kind='bar', figsize=(7,5),cmap=\"YlGnBu\" )\n",
    "plt.ylabel('Spend share')\n",
    "plt.title('Spend share')"
   ]
  },
  {
   "cell_type": "markdown",
   "metadata": {},
   "source": [
    "Сравнение с affluent"
   ]
  },
  {
   "cell_type": "code",
   "execution_count": null,
   "metadata": {
    "collapsed": true
   },
   "outputs": [],
   "source": [
    "affluent['final_labels']=5"
   ]
  },
  {
   "cell_type": "code",
   "execution_count": null,
   "metadata": {
    "collapsed": false
   },
   "outputs": [],
   "source": [
    "XX=final[final['final_labels']<5].append(affluent)\n",
    "bar_data=np.zeros((14,5))\n",
    "for i,col in enumerate(amount_stat_large):\n",
    "    #bar_data[0,i]=col\n",
    "    X=XX[XX[col]!=0]\n",
    "    for j in range(5):\n",
    "        bar_data[i,j]=X.groupby('final_labels')[col].median().values[j]\n",
    "bar_data=pd.DataFrame(bar_data, columns=range(6)[1:], index=amount_stat_large)\n",
    "#bar_data['columns']=txn_cols_amount\n",
    "\n",
    "#bar_data=bar_data[(bar_data.ix[:,0:4].max(axis=1)>0.01)&(bar_data.ix[:,0:4].max(axis=1)<0.7)]\n",
    "bar_data.plot(kind='bar', figsize=(10,5),cmap=\"YlGnBu\" )\n",
    "plt.ylabel('Spend share')\n",
    "plt.title('Spend share')"
   ]
  },
  {
   "cell_type": "code",
   "execution_count": null,
   "metadata": {
    "collapsed": false,
    "scrolled": true
   },
   "outputs": [],
   "source": [
    "XX=final[final['final_labels']<5]\n",
    "bar_data=np.zeros((24,4))\n",
    "for i,col in enumerate(amount_stat_little):\n",
    "    #bar_data[0,i]=col\n",
    "    X=XX[XX[col]!=0]\n",
    "    for j in range(4):\n",
    "        bar_data[i,j]=X.groupby('final_labels')[col].median().values[j]\n",
    "bar_data=pd.DataFrame(bar_data, columns=range(5)[1:], index=amount_stat_little)\n",
    "#bar_data['columns']=txn_cols_amount\n",
    "\n",
    "#bar_data=bar_data[(bar_data.ix[:,0:4].max(axis=1)>0.01)&(bar_data.ix[:,0:4].max(axis=1)<0.7)]\n",
    "bar_data.plot(kind='bar', figsize=(10,5), cmap=\"YlGnBu\" )\n",
    "plt.ylabel('Spend share')\n",
    "plt.title('Spend share')"
   ]
  },
  {
   "cell_type": "code",
   "execution_count": null,
   "metadata": {
    "collapsed": false
   },
   "outputs": [],
   "source": [
    "XX=final[final['final_labels']<4]\n",
    "bar_data=np.zeros((5,4))\n",
    "for i,col in enumerate(count_stat_large):\n",
    "    #bar_data[0,i]=col\n",
    "    X=XX[XX[col]!=0]\n",
    "    for j in range(4):\n",
    "        bar_data[i,j]=X.groupby('final_labels')[col].median().values[j]\n",
    "bar_data=pd.DataFrame(bar_data, columns=range(4), index=count_stat_large)\n",
    "#bar_data['columns']=txn_cols_amount\n",
    "\n",
    "#bar_data=bar_data[(bar_data.ix[:,0:4].max(axis=1)>0.01)&(bar_data.ix[:,0:4].max(axis=1)<0.7)]\n",
    "bar_data.plot(kind='bar', figsize=(10,5))"
   ]
  },
  {
   "cell_type": "code",
   "execution_count": null,
   "metadata": {
    "collapsed": false
   },
   "outputs": [],
   "source": [
    " XX=final[final['final_labels']<4]\n",
    "bar_data=np.zeros((10,4))\n",
    "for i,col in enumerate(count_stat_little):\n",
    "    #bar_data[0,i]=col\n",
    "    X=XX[XX[col]!=0]\n",
    "    for j in range(4):\n",
    "        bar_data[i,j]=X.groupby('final_labels')[col].median().values[j]\n",
    "bar_data=pd.DataFrame(bar_data, columns=range(4), index=count_stat_little)\n",
    "#bar_data['columns']=txn_cols_amount\n",
    "\n",
    "#bar_data=bar_data[(bar_data.ix[:,0:4].max(axis=1)>0.01)&(bar_data.ix[:,0:4].max(axis=1)<0.7)]\n",
    "bar_data.plot(kind='bar', figsize=(10,5))"
   ]
  },
  {
   "cell_type": "code",
   "execution_count": null,
   "metadata": {
    "collapsed": false
   },
   "outputs": [],
   "source": [
    "XX=final[final['final_labels']<4]\n",
    "bar_data=np.zeros((10,4))\n",
    "for i,col in enumerate(count_stat_little):\n",
    "    #bar_data[0,i]=col\n",
    "    X=XX[XX[col]!=0]\n",
    "    for j in range(4):\n",
    "        bar_data[i,j]=X.groupby('final_labels')[col].median().values[j]\n",
    "bar_data=pd.DataFrame(bar_data, columns=range(4), index=count_stat_little)\n",
    "#bar_data['columns']=txn_cols_amount\n",
    "\n",
    "#bar_data=bar_data[(bar_data.ix[:,0:4].max(axis=1)>0.01)&(bar_data.ix[:,0:4].max(axis=1)<0.7)]\n",
    "bar_data.plot(kind='bar', figsize=(10,5))"
   ]
  },
  {
   "cell_type": "code",
   "execution_count": null,
   "metadata": {
    "collapsed": false
   },
   "outputs": [],
   "source": [
    "#XX=final[final['final_labels']<4]\n",
    "#f, axarr = plt.subplots(5, 3, figsize=(27,30))\n",
    "#f.subplots_adjust(hspace=2)\n",
    "#for i,col in enumerate(count_cols_stat):\n",
    " #   X=XX[XX[col]!=0]\n",
    "  #  bar_data=[]\n",
    "   # for j in range(4):\n",
    "    #    bar_data.append(X.groupby('final_labels')[col].median().values[j])\n",
    "    #bar_data=pd.DataFrame(bar_data, columns=[col]).transpose()\n",
    "\n",
    "  #  _,stroka=math.modf(i/3) \n",
    "   # st=math.fmod(i,3)\n",
    "    \n",
    "\n",
    "\n",
    "    #bar_data.plot(kind='bar', ax=axarr[stroka,st], figsize=(27,0), use_index=False, title=col)\n"
   ]
  },
  {
   "cell_type": "code",
   "execution_count": null,
   "metadata": {
    "collapsed": false
   },
   "outputs": [],
   "source": [
    "XX=final[final['final_labels']<4]\n",
    "for i,col in enumerate(count_cols_stat):\n",
    "            print (col)\n",
    "            for j in range(4):\n",
    "                 print ('Cluster ',j, '{:.2f}'.format(XX.ix[(XX[col]!=0) & (XX['final_labels']==j),:].shape[0]/XX.ix[XX['final_labels']==j,:].shape[0]*100),'%')"
   ]
  },
  {
   "cell_type": "markdown",
   "metadata": {},
   "source": [
    "## Корреляция внутри кластеров"
   ]
  },
  {
   "cell_type": "code",
   "execution_count": null,
   "metadata": {
    "collapsed": true
   },
   "outputs": [],
   "source": [
    "txn_cols_amount=list(txn_cols_amount)\n",
    "for clust in range(4):\n",
    "    X=final[final['final_labels']==clust]\n",
    "    for i,col in enumerate(txn_cols_amount) :\n",
    "        other= txn_cols_amount[i:]\n",
    "        other.remove(col)\n",
    "        for another in other:\n",
    "            if pd.DataFrame(X[col]).corrwith(X[another])[0]>0.74:\n",
    "                print (col,'   ',  another,'   ',   pd.DataFrame(X[col]).corrwith(X[another])[0])"
   ]
  },
  {
   "cell_type": "code",
   "execution_count": null,
   "metadata": {
    "collapsed": true
   },
   "outputs": [],
   "source": [
    "txn_cols_amount=list(txn_cols_count)\n",
    "for clust in range(4):\n",
    "    X=final[final['final_labels']==clust]\n",
    "    for i,col in enumerate(txn_cols_amount) :\n",
    "        other= txn_cols_amount[i:]\n",
    "        other.remove(col)\n",
    "        for another in other:\n",
    "            if pd.DataFrame(X[col]).corrwith(X[another])[0]>0.74:\n",
    "                print (col,'   ',  another,'   ',   pd.DataFrame(X[col]).corrwith(X[another])[0])"
   ]
  },
  {
   "cell_type": "markdown",
   "metadata": {},
   "source": [
    "## Влияние города, семейного положения, пола на траты"
   ]
  },
  {
   "cell_type": "markdown",
   "metadata": {},
   "source": [
    "### Во всей совокупности"
   ]
  },
  {
   "cell_type": "code",
   "execution_count": null,
   "metadata": {
    "collapsed": false
   },
   "outputs": [],
   "source": [
    "final.CU_GENDER.unique()[0]"
   ]
  },
  {
   "cell_type": "markdown",
   "metadata": {},
   "source": [
    "**Пол**"
   ]
  },
  {
   "cell_type": "code",
   "execution_count": null,
   "metadata": {
    "collapsed": false
   },
   "outputs": [],
   "source": [
    "print (\"Reject NULL hypothesis - Significant difference between groups.\")\n",
    "cols_gender=[]\n",
    "for c in txn_cols_amount:   \n",
    "    cols=[]\n",
    "    cols.append(final.ix[final['CU_GENDER']==final.CU_GENDER.unique()[0], c])\n",
    "    cols.append(final.ix[final['CU_GENDER']==final.CU_GENDER.unique()[1], c])\n",
    "    H, pval = sc.stats.mannwhitneyu(cols[0],cols[1], alternative='two-sided')\n",
    "    if pval < 0.05:\n",
    "        cols_gender.append(c)\n",
    "        print (c)\n",
    "        "
   ]
  },
  {
   "cell_type": "code",
   "execution_count": null,
   "metadata": {
    "collapsed": false
   },
   "outputs": [],
   "source": [
    "for i,col in enumerate(count_stat_little):\n",
    "    #bar_data[0,i]=col\n",
    "    X=XX[XX[col]!=0]\n",
    "    for j in range(4):\n",
    "        bar_data[i,j]=X.groupby('final_labels')[col].median().values[j]"
   ]
  },
  {
   "cell_type": "code",
   "execution_count": null,
   "metadata": {
    "collapsed": false
   },
   "outputs": [],
   "source": [
    "X.groupby('CU_GENDER')['Alcohol and tobacco'].mean()"
   ]
  },
  {
   "cell_type": "code",
   "execution_count": null,
   "metadata": {
    "collapsed": false
   },
   "outputs": [],
   "source": [
    "XX=final\n",
    "bar_data=np.zeros((len(cols_gender),2))\n",
    "for i,col in enumerate(cols_gender):\n",
    "    X=XX\n",
    "    for j in range(2):\n",
    "        bar_data[i,j]=X.groupby('CU_GENDER')[col].mean().values[j]\n",
    "bar_data=pd.DataFrame(bar_data, columns=['M','F'], index=cols_gender)\n",
    "bar_data=bar_data[(bar_data.ix[:,:].max(axis=1)>0.001)&(bar_data.ix[:,:].max(axis=1)<0.7)]\n",
    "bar_data.plot(kind='bar', figsize=(10,5))"
   ]
  },
  {
   "cell_type": "markdown",
   "metadata": {},
   "source": [
    "**Статус**"
   ]
  },
  {
   "cell_type": "code",
   "execution_count": null,
   "metadata": {
    "collapsed": false
   },
   "outputs": [],
   "source": [
    "print (\"Reject NULL hypothesis - Significant difference between groups.\")\n",
    "cols_marital=[]\n",
    "for c in txn_cols_amount:   \n",
    "    cols=[]\n",
    "    cols.append(final.ix[final['CU_MARITAL_STATUS']==final.CU_MARITAL_STATUS.unique()[0], c])\n",
    "    cols.append(final.ix[final['CU_MARITAL_STATUS']==final.CU_MARITAL_STATUS.unique()[1], c])\n",
    "    H, pval = sc.stats.mannwhitneyu(cols[0],cols[1], alternative='two-sided')\n",
    "    if pval < 0.05:\n",
    "        cols_marital.append(c)\n",
    "        print (c)"
   ]
  },
  {
   "cell_type": "code",
   "execution_count": null,
   "metadata": {
    "collapsed": false
   },
   "outputs": [],
   "source": [
    "XX=final\n",
    "bar_data=np.zeros((len(cols_marital),2))\n",
    "for i,col in enumerate(cols_marital):\n",
    "    X=XX\n",
    "    for j in range(2):\n",
    "        bar_data[i,j]=X.groupby('CU_GENDER')[col].mean().values[j]\n",
    "bar_data=pd.DataFrame(bar_data, columns=['Married','Single'], index=cols_marital)\n",
    "#bar_data=bar_data[(bar_data.ix[:,:].max(axis=1)<0.002)]\n",
    "bar_data.plot(kind='bar', figsize=(10,5))"
   ]
  },
  {
   "cell_type": "code",
   "execution_count": null,
   "metadata": {
    "collapsed": false
   },
   "outputs": [],
   "source": [
    "X=final\n",
    "for col in ['Sport','Pet shop', 'Toys']:\n",
    "    if X.ix[X['CU_MARITAL_STATUS']==93267,col].mean()>0.00005 or X.ix[X['CU_MARITAL_STATUS']==7835,col].mean()>0.00005:\n",
    "        fig, ax = plt.subplots(1)\n",
    "        sns.boxplot(y =col, x='CU_MARITAL_STATUS', data=X)\n",
    "        ax.set_ylim([0,X[col].quantile(0.95)])\n",
    "        plt.show()"
   ]
  },
  {
   "cell_type": "markdown",
   "metadata": {},
   "source": [
    "**Город**"
   ]
  },
  {
   "cell_type": "code",
   "execution_count": null,
   "metadata": {
    "collapsed": false,
    "scrolled": true
   },
   "outputs": [],
   "source": [
    "X=data_city.copy()\n",
    "X[txn_cols_amount]=X[txn_cols_amount].div(X['active_months'], axis='index')\n",
    "print (\"Reject NULL hypothesis - Significant difference between groups.\")\n",
    "cols_city=[]\n",
    "for c in txn_cols_amount:   \n",
    "    cols=[]\n",
    "    for i in range(4):\n",
    "         cols.append(X.ix[X['city']==X.city.unique()[i], c])\n",
    "    try:\n",
    "        H, pval = sc.stats.mstats.kruskalwallis(cols[0],cols[1],cols[1],cols[2])\n",
    "        if pval < 0.05:\n",
    "            cols_city.append(c)\n",
    "            print (c)\n",
    "    except ZeroDivisionError:\n",
    "        print('Всё')\n",
    "        "
   ]
  },
  {
   "cell_type": "code",
   "execution_count": null,
   "metadata": {
    "collapsed": false
   },
   "outputs": [],
   "source": [
    "X=data_city.copy()\n",
    "X[txn_cols_amount]=X[txn_cols_amount].div(X['active_months'], axis='index')\n",
    "bar_data=np.zeros((len(cols_city),4))\n",
    "for i,col in enumerate(cols_city):\n",
    "    for j in range(4):\n",
    "        bar_data[i,j]=X.groupby('city')[col].mean().values[j]\n",
    "bar_data=pd.DataFrame(bar_data, columns=X.groupby('city')['Clothes'].mean().index.tolist(), index=cols_city)\n",
    "#bar_data=bar_data[(bar_data.ix[:,:].max(axis=1)<0.002)]\n",
    "bar_data.plot(kind='bar', figsize=(10,5))"
   ]
  },
  {
   "cell_type": "markdown",
   "metadata": {},
   "source": [
    "### Внутри кластеров"
   ]
  },
  {
   "cell_type": "code",
   "execution_count": null,
   "metadata": {
    "collapsed": false
   },
   "outputs": [],
   "source": [
    "print (\"Reject NULL hypothesis - Significant difference between groups.\")\n",
    "for j in range(4):\n",
    "    X=final[final['final_labels']==j]\n",
    "    print ('Cluster', j)\n",
    "    for c in txn_cols_amount:   \n",
    "        cols=[]\n",
    "        cols.append(final.ix[final['CU_GENDER']==final.CU_GENDER.unique()[0], c])\n",
    "        cols.append(final.ix[final['CU_GENDER']==final.CU_GENDER.unique()[1], c])\n",
    "        H, pval = sc.stats.mannwhitneyu(cols[0],cols[1], alternative='greater')\n",
    "        if pval < 0.05:\n",
    "            print (c)"
   ]
  },
  {
   "cell_type": "markdown",
   "metadata": {},
   "source": [
    "### Сравниваем мужчин и женщин из разных кластеров"
   ]
  },
  {
   "cell_type": "code",
   "execution_count": null,
   "metadata": {
    "collapsed": false
   },
   "outputs": [],
   "source": [
    "print (\"Reject NULL hypothesis - Significant difference between groups.\")\n",
    "for j in range(2):\n",
    "    X=final[final['CU_GENDER']==final.CU_GENDER.unique()[j]]\n",
    "    print (final.CU_GENDER.unique()[j])\n",
    "    for c in txn_cols_amount:   \n",
    "        cols=[]\n",
    "        for i in range(4):\n",
    "            cols.append(final.ix[final['final_labels']==final.final_labels.unique()[i], c])\n",
    "        try:\n",
    "            H, pval = sc.stats.mannwhitneyu(cols[1], cols[3],alternative='less' )\n",
    "            if pval < 0.05:\n",
    "                 print (c)\n",
    "        except ValueError:\n",
    "            pass"
   ]
  },
  {
   "cell_type": "markdown",
   "metadata": {},
   "source": [
    "### Сравниваем по семейному статусу "
   ]
  },
  {
   "cell_type": "code",
   "execution_count": null,
   "metadata": {
    "collapsed": false
   },
   "outputs": [],
   "source": [
    "print (\"Reject NULL hypothesis - Significant difference between groups.\")\n",
    "for j in range(2):\n",
    "    X=final[final['CU_MARITAL_STATUS']==final.CU_MARITAL_STATUS.unique()[j]]\n",
    "    print (final.CU_MARITAL_STATUS.unique()[j])\n",
    "    for c in txn_cols_amount:   \n",
    "        cols=[]\n",
    "        for i in range(4):\n",
    "            cols.append(final.ix[final['final_labels']==final.final_labels.unique()[i], c])\n",
    "        \n",
    "        H, pval = sc.stats.mannwhitneyu(cols[0], cols[2],alternative='less' )\n",
    "        if pval < 0.05:\n",
    "            print (c)"
   ]
  },
  {
   "cell_type": "markdown",
   "metadata": {},
   "source": [
    "### Новые категориальные для heat map"
   ]
  },
  {
   "cell_type": "code",
   "execution_count": null,
   "metadata": {
    "collapsed": true
   },
   "outputs": [],
   "source": [
    "def make_conj(data, feature1, feature2, feature3):\n",
    "    data[feature1+ '+' + feature2 + '+' + feature3]=data[feature1].astype(str) + '+' + data[feature2].astype(str)+ '+' + data[feature3].astype(str)\n",
    "    return (data)"
   ]
  },
  {
   "cell_type": "code",
   "execution_count": null,
   "metadata": {
    "collapsed": false
   },
   "outputs": [],
   "source": [
    "final_city=final.copy()\n",
    "final_city['city']=data_city['city'].values\n",
    "final_city[['CU_GENDER', 'CU_MARITAL_STATUS']]=data_city[['CU_GENDER', 'CU_MARITAL_STATUS']].values"
   ]
  },
  {
   "cell_type": "code",
   "execution_count": null,
   "metadata": {
    "collapsed": false
   },
   "outputs": [],
   "source": [
    "final_city.head()"
   ]
  },
  {
   "cell_type": "code",
   "execution_count": null,
   "metadata": {
    "collapsed": true
   },
   "outputs": [],
   "source": [
    "final_city['CU_MARITAL_STATUS'].fillna('SINGLE',inplace=True )"
   ]
  },
  {
   "cell_type": "code",
   "execution_count": null,
   "metadata": {
    "collapsed": false
   },
   "outputs": [],
   "source": [
    "final_city=make_conj(final_city, 'CU_GENDER', 'CU_MARITAL_STATUS', 'city')"
   ]
  },
  {
   "cell_type": "code",
   "execution_count": null,
   "metadata": {
    "collapsed": false
   },
   "outputs": [],
   "source": [
    "#для применения критериев в выборке должно быть не меньше 30 человек\n",
    "final_city.groupby('CU_GENDER+CU_MARITAL_STATUS+city').size()"
   ]
  },
  {
   "cell_type": "code",
   "execution_count": null,
   "metadata": {
    "collapsed": false
   },
   "outputs": [],
   "source": [
    "final_city['CU_GENDER+CU_MARITAL_STATUS+city'].unique()"
   ]
  },
  {
   "cell_type": "code",
   "execution_count": null,
   "metadata": {
    "collapsed": false
   },
   "outputs": [],
   "source": [
    "amount_cols_stat=kruskalwallis(txn_cols_amount, final_city, 'CU_GENDER+CU_MARITAL_STATUS+city')"
   ]
  },
  {
   "cell_type": "code",
   "execution_count": null,
   "metadata": {
    "collapsed": false
   },
   "outputs": [],
   "source": [
    "XX=final_city\n",
    "for col in amount_cols_stat:\n",
    "    #if data_analysis.ix[final['final_labels']==2,col].median()>500:\n",
    "        X=XX[XX[col]!=0]\n",
    "        fig, ax = plt.subplots(1, figsize=(25,10))\n",
    "        sns.boxplot(y =col, x='CU_GENDER+CU_MARITAL_STATUS+city', data=X)\n",
    "        ax.set_ylim([0,X[col].quantile(0.95)])\n",
    "        \n",
    "        plt.show()"
   ]
  },
  {
   "cell_type": "code",
   "execution_count": null,
   "metadata": {
    "collapsed": false
   },
   "outputs": [],
   "source": [
    "mannwhitneyu(txn_cols_amount, final_city,  0, 1, 'less', 'CU_GENDER+CU_MARITAL_STATUS+city')"
   ]
  },
  {
   "cell_type": "code",
   "execution_count": null,
   "metadata": {
    "collapsed": true
   },
   "outputs": [],
   "source": [
    "final_city['status+gender']=final_city['CU_GENDER'].astype(str) + '+' + final_city['CU_MARITAL_STATUS'].astype(str)"
   ]
  },
  {
   "cell_type": "code",
   "execution_count": null,
   "metadata": {
    "collapsed": false
   },
   "outputs": [],
   "source": [
    "young_raw_final=young_raw[young_raw.CIF_ID.isin(cif_avg)]"
   ]
  },
  {
   "cell_type": "code",
   "execution_count": null,
   "metadata": {
    "collapsed": true
   },
   "outputs": [],
   "source": [
    "final_city['salary']=young_raw_final['salary'].values"
   ]
  },
  {
   "cell_type": "code",
   "execution_count": null,
   "metadata": {
    "collapsed": false
   },
   "outputs": [],
   "source": [
    "sizes=final_city.groupby(['city', 'status+gender']).size().astype(str)\n",
    "salary=np.around(np.array(final_city.groupby(['city', 'status+gender'])['salary'].median().values)).astype(int).astype(str)\n",
    "annot=np.array([('Size  ' + coli+'\\n'+ 'Salary ' + '\\n' + colj) for i,coli in enumerate(sizes) for  j,colj in enumerate(salary) if i==j]).reshape((4,4))"
   ]
  },
  {
   "cell_type": "code",
   "execution_count": null,
   "metadata": {
    "collapsed": false
   },
   "outputs": [],
   "source": [
    "for col in amount_cols_stat:\n",
    "    df = pd.DataFrame({'city':np.repeat(np.array(final_city.groupby(['city', 'status+gender'])[col].median().index.levels[0]),4), \n",
    "                       'status+gender':list(final_city.groupby(['city', 'status+gender'])[col].median().index.levels[1])*4, \n",
    "                       'value': final_city.groupby(['city', 'status+gender'])[col].median().values \n",
    "                     })\n",
    "    pivot=df.pivot('city', 'status+gender', 'value')\n",
    "    ax=sns.heatmap(pivot,  annot=annot, cmap=\"YlGnBu\", fmt='s', cbar_kws={'label': 'median of spend share'})\n",
    "    plt.title(col)\n",
    "    plt.show()"
   ]
  },
  {
   "cell_type": "code",
   "execution_count": null,
   "metadata": {
    "collapsed": false
   },
   "outputs": [],
   "source": [
    "young_salary['city'].unique().shape[0]"
   ]
  },
  {
   "cell_type": "code",
   "execution_count": null,
   "metadata": {
    "collapsed": false
   },
   "outputs": [],
   "source": [
    "def category_heatmap(feature1, feature2,  X, cols):\n",
    "    sizes=X.groupby([feature1, feature2]).size().values.astype(str).reshape((X[feature1].unique().shape[0],X[feature2].unique().shape[0]))\n",
    "    #salary=np.around(np.array(young_salary.groupby([feature1, feature2])['salary'].median().values)).astype(int).astype(str)\n",
    "    #annot=np.array([('Size  ' + coli+'\\n'+ 'Salary ' + '\\n' + colj) for i,coli in enumerate(sizes) for  j,colj in enumerate(salary) if i==j]).reshape((4,4))\n",
    "    for col in cols:\n",
    "        df = pd.DataFrame({feature1:np.repeat(np.array(X.groupby([feature1, feature2])[col].median().index.levels[0]),4), \n",
    "                           feature2:list(X.groupby([feature1, feature2])[col].median().index.levels[1])*4, \n",
    "                           'value': X.groupby([feature1, feature2])[col].median().values \n",
    "                          })\n",
    "        pivot=df.pivot(feature1, feature2, 'value')\n",
    "        ax=sns.heatmap(pivot,  annot=sizes, cmap=\"YlGnBu\", fmt='s', cbar_kws={'label': 'median of spend share'})\n",
    "        plt.title(col)\n",
    "        plt.show()"
   ]
  },
  {
   "cell_type": "code",
   "execution_count": null,
   "metadata": {
    "collapsed": false
   },
   "outputs": [],
   "source": [
    "category_heatmap('city','status+gender', young_salary, amount_cols_stat)"
   ]
  },
  {
   "cell_type": "code",
   "execution_count": null,
   "metadata": {
    "collapsed": false
   },
   "outputs": [],
   "source": [
    "for col in txn_cols_amount:\n",
    "    if final.ix[:,'L.PLOAN'].corr(final.ix[:,col])>0.75:\n",
    "        print (col)"
   ]
  },
  {
   "cell_type": "markdown",
   "metadata": {},
   "source": [
    "### Внутри кластеров"
   ]
  },
  {
   "cell_type": "code",
   "execution_count": null,
   "metadata": {
    "collapsed": false
   },
   "outputs": [],
   "source": [
    "for i in range(5)[1:]:\n",
    "    X=final_city[final_city['final_labels']==i]\n",
    "    sizes=X.groupby(['city', 'status+gender']).size().values.reshape((4,4))\n",
    "    print ('Cluster'+str(i))\n",
    "    for col in amount_cols_stat:\n",
    "        df = pd.DataFrame({'city':np.repeat(np.array(X.groupby(['city', 'status+gender'])[col].median().index.levels[0]),4), \n",
    "                           'status+gender':list(X.groupby(['city', 'status+gender'])[col].median().index.levels[1])*4, \n",
    "                           'value': X.groupby(['city', 'status+gender'])[col].median().values \n",
    "                          })\n",
    "        pivot=df.pivot('city', 'status+gender', 'value')\n",
    "        ax=sns.heatmap(pivot,  annot=sizes, cmap=\"YlGnBu\", fmt='g', cbar_kws={'label': 'median of spend share'})\n",
    "        plt.title(col)\n",
    "        plt.show()"
   ]
  },
  {
   "cell_type": "markdown",
   "metadata": {},
   "source": [
    "### Зарплата внутри портретных категорий"
   ]
  },
  {
   "cell_type": "markdown",
   "metadata": {},
   "source": [
    "Нельзя рассматривать без дохода"
   ]
  },
  {
   "cell_type": "code",
   "execution_count": null,
   "metadata": {
    "collapsed": true
   },
   "outputs": [],
   "source": [
    "young_salary=pd.read_csv('young_ordinary.csv')\n",
    "cif=pd.read_csv('cif_ordinary.csv')"
   ]
  },
  {
   "cell_type": "code",
   "execution_count": null,
   "metadata": {
    "collapsed": true
   },
   "outputs": [],
   "source": [
    "young_salary=cif.merge(young_salary,  left_index=True, right_index=True)"
   ]
  },
  {
   "cell_type": "code",
   "execution_count": null,
   "metadata": {
    "collapsed": false
   },
   "outputs": [],
   "source": [
    "young_salary=young_salary[young_salary['salary']>0]"
   ]
  },
  {
   "cell_type": "code",
   "execution_count": null,
   "metadata": {
    "collapsed": false
   },
   "outputs": [],
   "source": [
    "young_salary.shape"
   ]
  },
  {
   "cell_type": "code",
   "execution_count": null,
   "metadata": {
    "collapsed": false
   },
   "outputs": [],
   "source": [
    "young_salary.head()"
   ]
  },
  {
   "cell_type": "code",
   "execution_count": null,
   "metadata": {
    "collapsed": false
   },
   "outputs": [],
   "source": [
    "CIF_salary=young_salary['CIF_ID']\n",
    "young_salary.drop(['Unnamed: 0_x', 'CIF_ID','Unnamed: 0_y'],axis=1, inplace=True)"
   ]
  },
  {
   "cell_type": "code",
   "execution_count": null,
   "metadata": {
    "collapsed": true
   },
   "outputs": [],
   "source": [
    "young_raw=pd.read_csv('dataset_2306.csv')"
   ]
  },
  {
   "cell_type": "code",
   "execution_count": null,
   "metadata": {
    "collapsed": false
   },
   "outputs": [],
   "source": [
    "young_raw_salary=young_raw[young_raw.CIF_ID.isin(CIF_salary)]"
   ]
  },
  {
   "cell_type": "code",
   "execution_count": null,
   "metadata": {
    "collapsed": false
   },
   "outputs": [],
   "source": [
    "young_raw_salary['city']='other'\n",
    "with warn.catch_warnings():\n",
    "        warn.simplefilter(\"ignore\")\n",
    "\n",
    "        young_raw_salary.ix[young_raw_salary['CU_BRANCH_CITY_TOWN']=='Moscow','city']='Moscow'\n",
    "        young_raw_salary.ix[young_raw_salary[young_raw_salary['CU_BRANCH_CITY_TOWN']=='St.Peterburg'].index.tolist(),'city']='St.Peterburg'\n",
    "        young_raw_salary.ix[young_raw_salary[young_raw_salary['CU_BRANCH_CITY_TOWN']=='Saint-Petersburg'].index.tolist(),'city']='St.Peterburg'\n",
    "\n",
    "        young_raw_salary.ix[young_raw_salary[young_raw_salary['CU_BRANCH_CITY_TOWN']=='Samara'].index.tolist(),'city']='big_city'\n",
    "        young_raw_salary.ix[young_raw_salary[young_raw_salary['CU_BRANCH_CITY_TOWN']=='Nizhny Novgorod'].index.tolist(),'city']='big_city'\n",
    "        young_raw_salary.ix[data_city[data_city['CU_BRANCH_CITY_TOWN']=='Ekaterinburg'].index.tolist(),'city']= 'big_city'\n",
    "        young_raw_salary.ix[young_raw_salary[young_raw_salary['CU_BRANCH_CITY_TOWN']=='Kazan'].index.tolist(),'city']= 'big_city'\n",
    "        young_raw_salary.ix[young_raw_salary[young_raw_salary['CU_BRANCH_CITY_TOWN']=='Krasnoyarsk'].index.tolist(),'city']= 'big_city'\n",
    "        young_raw_salary.ix[young_raw_salary[young_raw_salary['CU_BRANCH_CITY_TOWN']=='Ufa'].index.tolist(),'city']= 'big_city'\n",
    "        young_raw_salary.ix[young_raw_salary[young_raw_salary['CU_BRANCH_CITY_TOWN']=='Omsk'].index.tolist(),'city']='big_city'\n",
    "        young_raw_salary.ix[young_raw_salary[young_raw_salary['CU_BRANCH_CITY_TOWN']=='Volgograd'].index.tolist(),'city']= 'big_city'\n",
    "        young_raw_salary.ix[young_raw_salary[young_raw_salary['CU_BRANCH_CITY_TOWN']=='Voronezh'].index.tolist(),'city']= 'big_city'\n",
    "        young_raw_salary.ix[young_raw_salary[young_raw_salary['CU_BRANCH_CITY_TOWN']=='Rostov-na-Donu'].index.tolist(),'city']= 'big_city'\n",
    "        young_raw_salary.ix[young_raw_salary[young_raw_salary['CU_BRANCH_CITY_TOWN']=='Volgograd'].index.tolist(),'city'] = 'big_city'\n",
    "        young_raw_salary.ix[young_raw_salary[young_raw_salary['CU_BRANCH_CITY_TOWN']=='Novosibirsk'].index.tolist(),'city']='big_city'\n",
    "        young_raw_salary.ix[young_raw_salary[young_raw_salary['CU_BRANCH_CITY_TOWN']=='Chelyabinsk'].index.tolist(),'city'] = 'big_city'"
   ]
  },
  {
   "cell_type": "code",
   "execution_count": null,
   "metadata": {
    "collapsed": true
   },
   "outputs": [],
   "source": [
    "young_salary['city']=young_raw_salary['city'].values\n",
    "young_salary[['CU_GENDER', 'CU_MARITAL_STATUS']]=young_raw_salary[['CU_GENDER', 'CU_MARITAL_STATUS']].values"
   ]
  },
  {
   "cell_type": "code",
   "execution_count": null,
   "metadata": {
    "collapsed": false
   },
   "outputs": [],
   "source": [
    "young_salary['CU_MARITAL_STATUS'].fillna('SINGLE', inplace=True)"
   ]
  },
  {
   "cell_type": "code",
   "execution_count": null,
   "metadata": {
    "collapsed": true
   },
   "outputs": [],
   "source": [
    "young_salary['status+gender']=young_salary['CU_GENDER'].astype(str) + '+' + young_salary['CU_MARITAL_STATUS'].astype(str)"
   ]
  },
  {
   "cell_type": "code",
   "execution_count": null,
   "metadata": {
    "collapsed": true
   },
   "outputs": [],
   "source": [
    "young_salary.ix[:,txn_cols_amount]=young_salary.ix[:,txn_cols_amount].div(young_salary.ix[:,'active_months'], axis='index')\n",
    "young_salary.ix[:,txn_cols_amount]=young_salary.ix[:,txn_cols_amount].div(young_salary.ix[:,'salary'], axis='index')"
   ]
  },
  {
   "cell_type": "code",
   "execution_count": null,
   "metadata": {
    "collapsed": false
   },
   "outputs": [],
   "source": [
    "sizes=young_salary.groupby(['city', 'status+gender']).size().values.astype(str)\n",
    "salary=np.around(np.array(young_salary.groupby(['city', 'status+gender'])['salary'].median().values)).astype(int).astype(str)\n",
    "annot=np.array([('Size  ' + coli+'\\n'+ 'Salary ' + '\\n' + colj) for i,coli in enumerate(sizes) for  j,colj in enumerate(salary) if i==j]).reshape((4,4))"
   ]
  },
  {
   "cell_type": "code",
   "execution_count": null,
   "metadata": {
    "collapsed": false
   },
   "outputs": [],
   "source": [
    "X=young_salary\n",
    "for col in amount_cols_stat:\n",
    "        df = pd.DataFrame({'city':np.repeat(np.array(X.groupby(['city', 'status+gender'])[col].median().index.levels[0]),4), \n",
    "                           'status+gender':list(X.groupby(['city', 'status+gender'])[col].median().index.levels[1])*4, \n",
    "                           'value': X.groupby(['city', 'status+gender'])[col].median().values \n",
    "                          })\n",
    "        pivot=df.pivot('city', 'status+gender', 'value')\n",
    "        ax=sns.heatmap(pivot,  annot=annot, cmap=\"YlGnBu\", fmt='s', cbar_kws={'label': 'median of spend share'})\n",
    "        plt.title(col)\n",
    "        plt.show()"
   ]
  },
  {
   "cell_type": "markdown",
   "metadata": {
    "collapsed": true
   },
   "source": [
    "## Визуализация"
   ]
  },
  {
   "cell_type": "markdown",
   "metadata": {},
   "source": [
    "### PCA"
   ]
  },
  {
   "cell_type": "code",
   "execution_count": null,
   "metadata": {
    "collapsed": true
   },
   "outputs": [],
   "source": [
    "svd = TruncatedSVD(2)\n",
    "#scaler=StandardScaler(with_mean=0)\n",
    "#lsa = make_pipeline(scaler,svd)\n",
    "\n",
    "data_2d_pca = svd.fit_transform(young_enc)"
   ]
  },
  {
   "cell_type": "code",
   "execution_count": null,
   "metadata": {
    "collapsed": false
   },
   "outputs": [],
   "source": [
    "pca_2d=pd.DataFrame(np.hstack((data_2d_pca,final.final_labels.values.reshape((13196,1)))),columns=['1', '2', 'label'])"
   ]
  },
  {
   "cell_type": "code",
   "execution_count": null,
   "metadata": {
    "collapsed": false
   },
   "outputs": [],
   "source": [
    "plt.figure(figsize = (10, 6))\n",
    "colors=['blue', 'green', 'yellow', 'red']\n",
    "for i, c in enumerate(colors):\n",
    "    data=pca_2d.ix[pca_2d.label==i,:]\n",
    "    plt.scatter(data.ix[:, 0], data.ix[:, 1], label=i, c = c)\n",
    "plt.legend()\n",
    "    "
   ]
  },
  {
   "cell_type": "code",
   "execution_count": null,
   "metadata": {
    "collapsed": false
   },
   "outputs": [],
   "source": [
    "plt.figure(figsize = (10, 6))\n",
    "plt.scatter(data_2d_pca[:, 0], data_2d_pca[:, 1],cmap='jet', c = final['final_labels'])\n",
    "#plt.xlim((115,135))\n",
    "plt.legend()\n",
    "plt.title('n_clusters=4')"
   ]
  },
  {
   "cell_type": "markdown",
   "metadata": {},
   "source": [
    "### t-SNE"
   ]
  },
  {
   "cell_type": "code",
   "execution_count": null,
   "metadata": {
    "collapsed": true
   },
   "outputs": [],
   "source": [
    "from sklearn import manifold"
   ]
  },
  {
   "cell_type": "code",
   "execution_count": null,
   "metadata": {
    "collapsed": false
   },
   "outputs": [],
   "source": [
    "sample_index=np.random.choice(young_ordinary_avg.index, 40000)\n",
    "sample=young_ordinary_avg.ix[sample_index,:]\n",
    "sample_labels=data_analysis.ix[sample_index,'final_labels']"
   ]
  },
  {
   "cell_type": "code",
   "execution_count": null,
   "metadata": {
    "collapsed": true
   },
   "outputs": [],
   "source": [
    "from sklearn import decomposition"
   ]
  },
  {
   "cell_type": "code",
   "execution_count": null,
   "metadata": {
    "collapsed": false
   },
   "outputs": [],
   "source": [
    "svd=decomposition.TruncatedSVD(n_components=50,random_state=0)\n",
    "X=scaler.fit_transform(young_ordinary_avg)\n",
    "X=svd.fit_transform(X)"
   ]
  },
  {
   "cell_type": "code",
   "execution_count": null,
   "metadata": {
    "collapsed": true
   },
   "outputs": [],
   "source": [
    "X=svd.fit_transform(young_enc)"
   ]
  },
  {
   "cell_type": "code",
   "execution_count": null,
   "metadata": {
    "collapsed": false
   },
   "outputs": [],
   "source": [
    "%%time\n",
    "tsne = manifold.TSNE(n_components = 2, perplexity=80, random_state = 0)\n",
    "data_2d_tsne = tsne.fit_transform(X)"
   ]
  },
  {
   "cell_type": "code",
   "execution_count": null,
   "metadata": {
    "collapsed": false
   },
   "outputs": [],
   "source": [
    "plt.figure(figsize = (10, 6))\n",
    "plt.scatter(data_2d_tsne[:, 0], data_2d_tsne[:, 1], cmap='prism' ,c = final['final_labels'])\n",
    "plt.title('n_clusters=4')"
   ]
  },
  {
   "cell_type": "markdown",
   "metadata": {},
   "source": [
    "## Коэффициент силуэта"
   ]
  },
  {
   "cell_type": "code",
   "execution_count": null,
   "metadata": {
    "collapsed": false
   },
   "outputs": [],
   "source": [
    "from sklearn.metrics import silhouette_samples, silhouette_score\n",
    "svd = TruncatedSVD(80, random_state=1)\n",
    "X=svd.fit_transform(young_enc)\n",
    "cluster_labels = final['final_labels'] \n",
    "silhouette_score(X, cluster_labels)"
   ]
  },
  {
   "cell_type": "code",
   "execution_count": null,
   "metadata": {
    "collapsed": false
   },
   "outputs": [],
   "source": [
    "sample_silhouette_values = silhouette_samples(X, cluster_labels)"
   ]
  },
  {
   "cell_type": "code",
   "execution_count": null,
   "metadata": {
    "collapsed": false
   },
   "outputs": [],
   "source": [
    "sample_silhouette_values[sample_silhouette_values>=0].shape"
   ]
  },
  {
   "cell_type": "code",
   "execution_count": null,
   "metadata": {
    "collapsed": false,
    "scrolled": true
   },
   "outputs": [],
   "source": [
    "svd=decomposition.TruncatedSVD(n_components=80,random_state=0)\n",
    "X=svd.fit_transform(young_enc)\n",
    "from __future__ import print_function\n",
    "\n",
    "\n",
    "from sklearn.metrics import silhouette_samples, silhouette_score\n",
    "\n",
    "\n",
    "import matplotlib.cm as cm\n",
    "\n",
    "\n",
    "print(__doc__)\n",
    "\n",
    "\n",
    "import warnings\n",
    "\n",
    "range_n_clusters = [3, 4, 5, 7]\n",
    "\n",
    "for n_clusters in range_n_clusters:\n",
    "   \n",
    "    data_new_index=X\n",
    "   \n",
    "    with warnings.catch_warnings():\n",
    "        warnings.simplefilter(\"ignore\")\n",
    "        clusterer = cluster.MiniBatchKMeans(n_clusters=n_clusters, batch_size=1000, random_state=6)\n",
    "        labels = clusterer.fit_predict(data_new_index)\n",
    "    \n",
    "    np.random.seed(0)\n",
    "    \n",
    "   \n",
    "    cluster_labels = labels\n",
    "    \n",
    "    \n",
    "\n",
    "\n",
    "    # The silhouette_score gives the average value for all the samples.\n",
    "    # This gives a perspective into the density and separation of the formed\n",
    "    # clusters\n",
    "    silhouette_avg = silhouette_score(X, cluster_labels)\n",
    "    sample_silhouette_values = silhouette_samples(X, cluster_labels)\n",
    "    \n",
    "     # Create a subplot with 1 row and 2 columns\n",
    "    fig, ax = plt.subplots(1)\n",
    "    \n",
    "     # The 1st subplot is the silhouette plot\n",
    "    # The silhouette coefficient can range from -1, 1 but in this example all\n",
    "    # lie within [-0.1, 1]\n",
    "    ax.set_xlim([-0.1, 1])\n",
    "    # The (n_clusters+1)*10 is for inserting blank space between silhouette\n",
    "    # plots of individual clusters, to demarcate them clearly.\n",
    "    ax.set_ylim([1, len(X) + (n_clusters + 1) * 10])\n",
    "\n",
    "\n",
    "    y_lower = 10\n",
    "    for i in range(n_clusters):\n",
    "        # Aggregate the silhouette scores for samples belonging to\n",
    "        # cluster i, and sort them\n",
    "        ith_cluster_silhouette_values = \\\n",
    "            sample_silhouette_values[cluster_labels == i]\n",
    "\n",
    "        ith_cluster_silhouette_values.sort()\n",
    "\n",
    "        size_cluster_i = ith_cluster_silhouette_values.shape[0]\n",
    "        y_upper = y_lower + size_cluster_i\n",
    "\n",
    "        color = cm.spectral(float(i) / n_clusters)\n",
    "        ax.fill_betweenx(np.arange(y_lower, y_upper),\n",
    "                          0, ith_cluster_silhouette_values,\n",
    "                          facecolor=color, edgecolor=color, alpha=0.7)\n",
    "\n",
    "        # Label the silhouette plots with their cluster numbers at the middle\n",
    "        ax.text(-0.05, y_lower + 0.5 * size_cluster_i, str(i))\n",
    "\n",
    "        # Compute the new y_lower for next plot\n",
    "        y_lower = y_upper + 10  # 10 for the 0 samples\n",
    "\n",
    "    ax.set_title(\"The silhouette plot for the various clusters.\")\n",
    "    ax.set_xlabel(\"The silhouette coefficient values\")\n",
    "    ax.set_ylabel(\"Cluster label\")\n",
    "\n",
    "    # The vertical line for average silhouette score of all the values\n",
    "    ax.axvline(x=silhouette_avg, color=\"red\", linestyle=\"--\")\n",
    "\n",
    "    ax.set_yticks([])  # Clear the yaxis labels / ticks\n",
    "    ax.set_xticks([-0.1, 0, 0.2, 0.4, 0.6, 0.8, 1])\n",
    "\n",
    "    \n",
    "   \n",
    "\n",
    "  \n",
    "\n",
    "    plt.show()"
   ]
  },
  {
   "cell_type": "markdown",
   "metadata": {},
   "source": [
    "# Статистика Хопкинса"
   ]
  },
  {
   "cell_type": "code",
   "execution_count": null,
   "metadata": {
    "collapsed": false
   },
   "outputs": [],
   "source": [
    "np.random.seed(1)\n",
    "sample_index=np.random.choice(young_ordinary_avg.index, 3000)"
   ]
  },
  {
   "cell_type": "code",
   "execution_count": null,
   "metadata": {
    "collapsed": false
   },
   "outputs": [],
   "source": [
    "scaler=preprocessing.MinMaxScaler()\n",
    "data_mM=young_enc.copy()\n",
    "data_mM=scaler.fit_transform(data_mM.toarray())"
   ]
  },
  {
   "cell_type": "code",
   "execution_count": null,
   "metadata": {
    "collapsed": true
   },
   "outputs": [],
   "source": [
    "sample=data_mM[sample_index]"
   ]
  },
  {
   "cell_type": "code",
   "execution_count": null,
   "metadata": {
    "collapsed": true
   },
   "outputs": [],
   "source": [
    "X_rand = np.random.uniform(low=0,high=1,size=(sample.shape[0],sample.shape[1]))"
   ]
  },
  {
   "cell_type": "code",
   "execution_count": null,
   "metadata": {
    "collapsed": true
   },
   "outputs": [],
   "source": [
    "X_rand=pd.DataFrame(X_rand)"
   ]
  },
  {
   "cell_type": "code",
   "execution_count": null,
   "metadata": {
    "collapsed": false
   },
   "outputs": [],
   "source": [
    "X_rand.columns=['A'+str(i) for i in range(sample.shape[1])]"
   ]
  },
  {
   "cell_type": "code",
   "execution_count": null,
   "metadata": {
    "collapsed": true
   },
   "outputs": [],
   "source": [
    "knn=neighbors.NearestNeighbors(n_neighbors=2, n_jobs=-1)"
   ]
  },
  {
   "cell_type": "code",
   "execution_count": null,
   "metadata": {
    "collapsed": false
   },
   "outputs": [],
   "source": [
    "%%time\n",
    "knn.fit(sample)\n",
    "min_distance,_=knn.kneighbors(sample)\n",
    "min_distance=min_distance[:,1]"
   ]
  },
  {
   "cell_type": "code",
   "execution_count": null,
   "metadata": {
    "collapsed": true
   },
   "outputs": [],
   "source": [
    "min_distance_rand,_=knn.kneighbors(X_rand)\n",
    "min_distance_rand=min_distance_rand[:,0]"
   ]
  },
  {
   "cell_type": "code",
   "execution_count": null,
   "metadata": {
    "collapsed": true
   },
   "outputs": [],
   "source": [
    "H=np.sum(min_distance_rand)/(np.sum(min_distance_rand)+np.sum(min_distance))"
   ]
  },
  {
   "cell_type": "markdown",
   "metadata": {},
   "source": [
    "If objects are uniformly distributed, qi and wi will be similar, and the statistic will be close to 0.5. If clustering are present, the distances for artificial objects will be larger than for the real ones, because these artificial objects are homogeneously distributed whereas the real ones are grouped together, and the value of H will increase. A value for H higher than 0.75 indicates a clustering tendency at the 90% confidence level"
   ]
  },
  {
   "cell_type": "code",
   "execution_count": null,
   "metadata": {
    "collapsed": false
   },
   "outputs": [],
   "source": [
    "H"
   ]
  },
  {
   "cell_type": "markdown",
   "metadata": {
    "collapsed": true
   },
   "source": [
    "# Hierarchical vs Kmeans"
   ]
  },
  {
   "cell_type": "code",
   "execution_count": null,
   "metadata": {
    "collapsed": true
   },
   "outputs": [],
   "source": [
    "#для one-hot\n",
    "svd = TruncatedSVD(200, random_state=1)\n",
    "X=svd.fit_transform(young_enc)"
   ]
  },
  {
   "cell_type": "code",
   "execution_count": null,
   "metadata": {
    "collapsed": true
   },
   "outputs": [],
   "source": []
  },
  {
   "cell_type": "code",
   "execution_count": null,
   "metadata": {
    "collapsed": true
   },
   "outputs": [],
   "source": [
    "kmeans=cluster.KMeans(n_clusters=4, random_state=1)\n",
    "kmeans.fit(X)\n",
    "kmeans_labels=kmeans.predict(X)"
   ]
  },
  {
   "cell_type": "code",
   "execution_count": null,
   "metadata": {
    "collapsed": false
   },
   "outputs": [],
   "source": [
    "np.bincount(kmeans_labels)"
   ]
  },
  {
   "cell_type": "code",
   "execution_count": null,
   "metadata": {
    "collapsed": true
   },
   "outputs": [],
   "source": [
    "final_h=final.copy()\n",
    "final_h['final_labels'].replace(3, 2 ,inplace=True)\n",
    "final_h['final_labels'].replace(range(14)[5:], [1]*9 ,inplace=True)"
   ]
  },
  {
   "cell_type": "code",
   "execution_count": null,
   "metadata": {
    "collapsed": false
   },
   "outputs": [],
   "source": [
    "final_h.groupby('final_labels').size()"
   ]
  },
  {
   "cell_type": "code",
   "execution_count": null,
   "metadata": {
    "collapsed": false
   },
   "outputs": [],
   "source": [
    "print (metrics.homogeneity_score(final_h['final_labels'],kmeans_labels))\n",
    "print (metrics.completeness_score(final_h['final_labels'],kmeans_labels))"
   ]
  },
  {
   "cell_type": "code",
   "execution_count": null,
   "metadata": {
    "collapsed": false
   },
   "outputs": [],
   "source": [
    "plt.figure(figsize = (10, 6))\n",
    "plt.scatter(data_2d_pca[:, 0], data_2d_pca[:, 1],cmap='jet', c = kmeans_labels)\n",
    "#plt.xlim((115,135))\n",
    "plt.legend()\n",
    "plt.title('n_clusters=4')"
   ]
  },
  {
   "cell_type": "markdown",
   "metadata": {
    "collapsed": true
   },
   "source": [
    "# DBSCAN"
   ]
  },
  {
   "cell_type": "code",
   "execution_count": null,
   "metadata": {
    "collapsed": true
   },
   "outputs": [],
   "source": [
    "#для one-hot\n",
    "svd = TruncatedSVD(80, random_state=1)\n",
    "X=svd.fit_transform(young_enc)"
   ]
  },
  {
   "cell_type": "code",
   "execution_count": null,
   "metadata": {
    "collapsed": true
   },
   "outputs": [],
   "source": [
    "#выбор радиуса\n",
    "#%%time\n",
    "knn=neighbors.NearestNeighbors(n_neighbors=6,n_jobs=-1)\n",
    "knn.fit(X)\n",
    "min_distance,_=knn.kneighbors(X)\n",
    "min_distance=min_distance[:,5]"
   ]
  },
  {
   "cell_type": "code",
   "execution_count": null,
   "metadata": {
    "collapsed": true
   },
   "outputs": [],
   "source": [
    "nn5_dist = np.sort(min_distance)"
   ]
  },
  {
   "cell_type": "code",
   "execution_count": null,
   "metadata": {
    "collapsed": false
   },
   "outputs": [],
   "source": [
    "plt.plot(range(13196)[-2000:],nn5_dist[-2000:])"
   ]
  },
  {
   "cell_type": "markdown",
   "metadata": {},
   "source": [
    "Плотностной алгоритм работает плохо. Ксластеры расположены слишком близко. Выбираем eps больше - всё сливается в один, меньше - много выбросов"
   ]
  },
  {
   "cell_type": "code",
   "execution_count": null,
   "metadata": {
    "collapsed": false
   },
   "outputs": [],
   "source": [
    "dbscan=cluster.DBSCAN(eps=7, min_samples=5)\n",
    "dbs_labels=dbscan.fit_predict(X)"
   ]
  },
  {
   "cell_type": "code",
   "execution_count": null,
   "metadata": {
    "collapsed": false
   },
   "outputs": [],
   "source": [
    "pd.DataFrame(dbs_labels)[0].value_counts()"
   ]
  },
  {
   "cell_type": "markdown",
   "metadata": {},
   "source": [
    "# MeanShift"
   ]
  },
  {
   "cell_type": "code",
   "execution_count": null,
   "metadata": {
    "collapsed": false
   },
   "outputs": [],
   "source": [
    "bandwidth = cluster.estimate_bandwidth(young_enc.toarray(), quantile=0.1)"
   ]
  },
  {
   "cell_type": "code",
   "execution_count": null,
   "metadata": {
    "collapsed": true
   },
   "outputs": [],
   "source": [
    "ms = cluster.MeanShift(bandwidth=bandwidth, bin_seeding=True, n_jobs=-1)\n",
    "ms_labels=ms.fit_predict(X)"
   ]
  },
  {
   "cell_type": "code",
   "execution_count": null,
   "metadata": {
    "collapsed": false
   },
   "outputs": [],
   "source": [
    "pd.DataFrame(ms_labels)[0].value_counts()"
   ]
  },
  {
   "cell_type": "code",
   "execution_count": null,
   "metadata": {
    "collapsed": true
   },
   "outputs": [],
   "source": [
    "def linkage_and_params(fn):\n",
    "        def  wrapper(self,Z,truncate_mode='lastp', p=30,leaf_rotation=90.,leaf_font_size=12.,show_contracted=True,annotate_above=10 ):\n",
    "            Z=linkage(Z, 'ward')\n",
    "            fn(self,Z,truncate_mode='lastp', p=30,leaf_rotation=90.,leaf_font_size=12.,show_contracted=True,annotate_above=10)\n",
    "            plt.show()\n",
    "        return wrapper\n",
    "    \n",
    "    \n",
    "@linkage_and_params\n",
    "def fancy_dendrogram(*args, **kwargs):\n",
    "        max_d = kwargs.pop('max_d', None)\n",
    "        if max_d and 'color_threshold' not in kwargs:\n",
    "            kwargs['color_threshold'] = max_d\n",
    "        annotate_above = kwargs.pop('annotate_above', 0)\n",
    "\n",
    "        ddata = dendrogram(*args, **kwargs)\n",
    "\n",
    "        if not kwargs.get('no_plot', False):\n",
    "            plt.title('Hierarchical Clustering Dendrogram (truncated)')\n",
    "            plt.xlabel('sample index or (cluster size)')\n",
    "            plt.ylabel('distance')\n",
    "            for i, d, c in zip(ddata['icoord'], ddata['dcoord'], ddata['color_list']):\n",
    "                x = 0.5 * sum(i[1:3])\n",
    "                y = d[1]\n",
    "                if y > annotate_above:\n",
    "                    plt.plot(x, y, 'o', c=c)\n",
    "                    plt.annotate(\"%.3g\" % y, (x, y), xytext=(0, -5),\n",
    "                             textcoords='offset points',\n",
    "                             va='top', ha='center')\n",
    "            if max_d:\n",
    "                plt.axhline(y=max_d, c='k')\n",
    "        return ddata   "
   ]
  },
  {
   "cell_type": "code",
   "execution_count": null,
   "metadata": {
    "collapsed": false
   },
   "outputs": [],
   "source": [
    "a.fancy_dendrogram(X)"
   ]
  },
  {
   "cell_type": "code",
   "execution_count": null,
   "metadata": {
    "collapsed": false
   },
   "outputs": [],
   "source": [
    "class ClusterAnalysis:\n",
    "    \n",
    "    def __init__(self, X):\n",
    "        self.data = X\n",
    "    \n",
    "    def corr(self,  cols, threshhold):\n",
    "        other=cols.tolist()\n",
    "        for i,col in enumerate(cols.tolist()) :\n",
    "            other.remove(col)\n",
    "            for another in other:\n",
    "                corr=pd.DataFrame(self.data[col]).corrwith(self.data[another])[0]\n",
    "                if corr>threshhold:\n",
    "                    print (col,'   ',  another,'   ',  corr)\n",
    "                \n",
    "                \n",
    "    def cat_features(self):\n",
    "        cat_cols=[]\n",
    "        for col in self.data.columns:\n",
    "             if self.data[col].dtypes=='object':\n",
    "                cat_cols.append(col)\n",
    "        return cat_cols\n",
    "\n",
    "\n",
    "    def binary_features(self):\n",
    "        bin_cols=[]\n",
    "        for col in self.data.columns:\n",
    "            if len(self.data[col].unique())==2:\n",
    "                bin_cols.append(col)\n",
    "        return bin_cols \n",
    "\n",
    "    def feature_processing(self, cat_cols, bin_cols, real_cols):\n",
    "    \n",
    "        \n",
    "        cat_indices = np.array([(column in cat_cols) for column in self.data.columns], dtype = bool)\n",
    "    \n",
    "        \n",
    "        bin_indices = np.array([(column in bin_cols) for column in self.data.columns], dtype = bool)\n",
    "    \n",
    "        \n",
    "        real_indices = np.array([(column in real_cols) for column in self.data.columns], dtype = bool)\n",
    "    \n",
    "        transform =  pipeline.FeatureUnion(transformer_list = [\n",
    "            \n",
    "                   ('binary', preprocessing.FunctionTransformer(lambda data: data[:, bin_indices])),\n",
    "            \n",
    "                   ('real', pipeline.Pipeline(steps = [\n",
    "                           ('selecting', preprocessing.FunctionTransformer(lambda data: data[:, real_indices])),\n",
    "                           ('scaling', preprocessing.StandardScaler(with_mean=0))\n",
    "                         ])),\n",
    "                   ('categorical', pipeline.Pipeline(steps = [\n",
    "                        ('selecting', preprocessing.FunctionTransformer(lambda data: data[:, cat_indices])),\n",
    "                        ('one_hot', preprocessing.OneHotEncoder(handle_unknown='ignore'))\n",
    "                        ]))\n",
    "                   \n",
    "                   \n",
    "                        \n",
    "                    ])\n",
    "        \n",
    "         \n",
    "        X = transform.fit_transform(self.data)\n",
    "        return X \n",
    "    \n",
    "    def cluster_labels(self, X, threshold):\n",
    "        Z = linkage(X, method='ward')\n",
    "        h_labels=fcluster(Z, threshold , criterion='distance')\n",
    "        final=self.data.copy()\n",
    "        final['final_labels']=h_labels\n",
    "        unique_labels=final['final_labels'].value_counts().index.tolist()\n",
    "        final.final_labels.replace(unique_labels,[i+1 for i in range(len(unique_labels))],inplace=True)\n",
    "        return final\n",
    "    \n",
    "    \n",
    "    \n",
    "    \n",
    "    @linkage_and_params\n",
    "    def fancy_dendrogram(self, *args, **kwargs):\n",
    "        max_d = kwargs.pop('max_d', None)\n",
    "        if max_d and 'color_threshold' not in kwargs:\n",
    "            kwargs['color_threshold'] = max_d\n",
    "        annotate_above = kwargs.pop('annotate_above', 0)\n",
    "\n",
    "        ddata = dendrogram(*args, **kwargs)\n",
    "\n",
    "        if not kwargs.get('no_plot', False):\n",
    "            plt.title('Hierarchical Clustering Dendrogram (truncated)')\n",
    "            plt.xlabel('sample index or (cluster size)')\n",
    "            plt.ylabel('distance')\n",
    "            for i, d, c in zip(ddata['icoord'], ddata['dcoord'], ddata['color_list']):\n",
    "                x = 0.5 * sum(i[1:3])\n",
    "                y = d[1]\n",
    "                if y > annotate_above:\n",
    "                    plt.plot(x, y, 'o', c=c)\n",
    "                    plt.annotate(\"%.3g\" % y, (x, y), xytext=(0, -5),\n",
    "                             textcoords='offset points',\n",
    "                             va='top', ha='center')\n",
    "            if max_d:\n",
    "                plt.axhline(y=max_d, c='k')\n",
    "        return ddata\n",
    "    \n",
    "    \n",
    "    def kruskalwallis(self,  X, columns, affect_feature):\n",
    "        amount_cols_stat=[]\n",
    "        print (\"Reject NULL hypothesis - Significant difference between groups.\")\n",
    "\n",
    "        for c in columns:   \n",
    "            cols=[]\n",
    "            for i in X[affect_feature].unique():\n",
    "                cols.append(X.ix[X[affect_feature]==i, c])\n",
    "            try:\n",
    "                H, pval = sc.stats.mstats.kruskalwallis(cols[0],cols[1], cols[2],cols[3])\n",
    "                if pval < 0.05:\n",
    "                    amount_cols_stat.append(c)\n",
    "            except ValueError:\n",
    "                pass\n",
    "        return amount_cols_stat\n",
    "    \n",
    "    def mannwhitneyu(self, X, columns, k, l, alt,affect_feature):\n",
    "        amount_cols_stat=[]\n",
    "        print (\"Reject NULL hypothesis - Significant difference between groups.\")\n",
    "\n",
    "        for c in columns:   \n",
    "            cols=[]\n",
    "            for i in np.sort(X[affect_feature].unique()):\n",
    "                cols.append(X.ix[X[affect_feature]==i, c])\n",
    "            try:\n",
    "                H, pval = sc.stats.mannwhitneyu(cols[k],cols[l],alternative=alt)\n",
    "                if pval < 0.05:\n",
    "                    amount_cols_stat.append(c)\n",
    "            except ValueError:\n",
    "                pass\n",
    "       \n",
    "    def anova(self, columns,  affect_feature):\n",
    "        print (\"Reject NULL hypothesis - Significant difference between groups.\")\n",
    "        for c in columns:\n",
    "            cols=[]\n",
    "            for i in self.data[affect_feature].unique():\n",
    "                cols.append(self.data.ix[self.data[affect_feature]==i, c])\n",
    "            H, pval = sc.stats.f_oneway(cols[0],cols[1],cols[2],cols[3])\n",
    "\n",
    "            if pval < 0.05:\n",
    "                print (c)\n",
    "                \n",
    "    def city(self, ddata, city_col):\n",
    "        ddata['city']='other'\n",
    "        with warn.catch_warnings():\n",
    "            warn.simplefilter(\"ignore\")\n",
    "\n",
    "            ddata.ix[ddata[city_col]=='Moscow','city']='Moscow'\n",
    "            ddata.ix[ddata[ddata[city_col]=='St.Peterburg'].index.tolist(),'city']='St.Peterburg'\n",
    "            ddata.ix[ddata[ddata[city_col]=='Saint-Petersburg'].index.tolist(),'city']='St.Peterburg'\n",
    "\n",
    "            ddata.ix[ddata[ddata[city_col]=='Samara'].index.tolist(),'city']='big_city'\n",
    "            ddata.ix[ddata[ddata[city_col]=='Nizhny Novgorod'].index.tolist(),'city']='big_city'\n",
    "            ddata.ix[ddata[ddata[city_col]=='Ekaterinburg'].index.tolist(),'city']= 'big_city'\n",
    "            ddata.ix[ddata[ddata[city_col]=='Kazan'].index.tolist(),'city']= 'big_city'\n",
    "            ddata.ix[ddata[ddata[city_col]=='Krasnoyarsk'].index.tolist(),'city']= 'big_city'\n",
    "            ddata.ix[ddata[ddata[city_col]=='Ufa'].index.tolist(),'city']= 'big_city'\n",
    "            ddata.ix[ddata[ddata[city_col]=='Omsk'].index.tolist(),'city']='big_city'\n",
    "            ddata.ix[ddata[ddata[city_col]=='Volgograd'].index.tolist(),'city']= 'big_city'\n",
    "            ddata.ix[ddata[ddata[city_col]=='Voronezh'].index.tolist(),'city']= 'big_city'\n",
    "            ddata.ix[ddata[ddata[city_col]=='Rostov-na-Donu'].index.tolist(),'city']= 'big_city'\n",
    "            ddata.ix[ddata[ddata[city_col]=='Volgograd'].index.tolist(),'city'] = 'big_city'\n",
    "            ddata.ix[ddata[ddata[city_col]=='Novosibirsk'].index.tolist(),'city']='big_city'\n",
    "            ddata.ix[ddata[ddata[city_col]=='Chelyabinsk'].index.tolist(),'city'] = 'big_city'\n",
    "        return ddata\n",
    "    \n",
    "    def clust_personal_analytics(self, X, i, cols, label_col='final_labels'):\n",
    "        with warn.catch_warnings():\n",
    "            warn.simplefilter(\"ignore\")\n",
    "            Y=X[X[final_col]==i]\n",
    "            for col in cols:\n",
    "                X['avg_col']=X[col].map(Y.groupby(col).size()/X[X[label_col]==i].shape[0])  \n",
    "                fig = plt.figure()\n",
    "                sns.barplot(x=col,y='avg_col', data=X)\n",
    "                plt.show()\n",
    "                \n",
    "    def crosstb_plot(self, X, feature1, feature2):\n",
    "\n",
    "        ct=pd.crosstab(X[feature1], X[feature2],normalize=1)\n",
    "        ct.plot(kind='bar', title=feature1, figsize=(8,5), cmap=\"YlGnBu\")\n",
    "        plt.xlabel('')\n",
    "        plt.ylabel('share,%')\n",
    "        plt.show()\n",
    "     \n",
    "    def box_plot(self,df, col1, col2,  non_zero=False):\n",
    "        fig, ax = plt.subplots(1)\n",
    "        if non_zero==False:\n",
    "            X=df\n",
    "        else:\n",
    "            X=df[df[col1]!=0]\n",
    "        sns.boxplot(y = col1, x=col2 , data=X)\n",
    "        ax.set_ylim([0,X[col1].quantile(0.95)])\n",
    "        plt.show()\n",
    "        \n",
    "        \n",
    "    def barplot_analytics(self,df, cols, labels_col, n_clusters,title,non_zero=True):\n",
    "        bar_data=np.zeros((len(cols),n_clusters))\n",
    "        for i,col in enumerate(cols):\n",
    "            if non_zero==False:\n",
    "                X=df\n",
    "            else:\n",
    "                X=df[df[col]!=0]\n",
    "            for j in range(n_clusters):\n",
    "                bar_data[i,j]=X.groupby(labels_col)[col].median().values[j]\n",
    "        bar_data=pd.DataFrame(bar_data, columns=range(n_clusters+1)[1:], index=cols)\n",
    "\n",
    "        bar_data.plot(kind='bar', figsize=(10,5),cmap=\"YlGnBu\" )\n",
    "        plt.ylabel(title)\n",
    "        plt.title(title)\n",
    "        plt.show()\n",
    "        \n",
    "        \n",
    "    def make_conj(self, X, feature1, feature2, feature3):\n",
    "        X[feature1+ '+' + feature2 + '+' + feature3]=X[feature1].astype(str) + '+' + X[feature2].astype(str)+ '+' + X[feature3].astype(str)\n",
    "        return (X) \n",
    "    \n",
    "    def category_heatmap(self, feature1, feature2, cols):\n",
    "        sizes=self.data.groupby([feature1, feature2]).size().values.astype(str).reshape((self.data[feature1].unique().shape[0],self.data[feature2].unique().shape[0]))\n",
    "        #salary=np.around(np.array(young_salary.groupby([feature1, feature2])['salary'].median().values)).astype(int).astype(str)\n",
    "        #annot=np.array([('Size  ' + coli+'\\n'+ 'Salary ' + '\\n' + colj) for i,coli in enumerate(sizes) for  j,colj in enumerate(salary) if i==j]).reshape((4,4))\n",
    "        for col in cols:\n",
    "            df = pd.DataFrame({feature1:np.repeat(np.array(self.data.groupby([feature1, feature2])[col].median().index.levels[0]),self.data[feature2].unique().shape[0]), \n",
    "                               feature2:list(self.data.groupby([feature1, feature2])[col].median().index.levels[1])*self.data[feature1].unique().shape[0], \n",
    "                              'value': self.data.groupby([feature1, feature2])[col].median().values \n",
    "                              })\n",
    "            pivot=df.pivot(feature1, feature2, 'value')\n",
    "            ax=sns.heatmap(pivot,  annot=sizes, cmap=\"YlGnBu\", fmt='s', cbar_kws={'label': 'median of spend share'})\n",
    "            plt.title(col)\n",
    "            plt.show()\n",
    "            \n",
    "    def pca_visualization(self, X, n_clusters):\n",
    "        svd = preprocessing.TruncatedSVD(2)\n",
    "        data_2d_pca = svd.fit_transform(X)\n",
    "        plt.figure(figsize = (10, 6))\n",
    "        plt.scatter(data_2d_pca[:, 0], data_2d_pca[:, 1],cmap='jet', c = final['final_labels'])\n",
    "        #plt.xlim((115,135))\n",
    "        #plt.legend()\n",
    "        plt.title('n_clusters=', n_clusters)    \n",
    "        plt.show()\n",
    "        \n",
    "        \n",
    "    def tSNE_sample(self, X, label_col, sample_size, svd_num_components):\n",
    "        sample_index=np.random.choice(X.index, sample_size)\n",
    "        sample=data.ix[sample_index,:]\n",
    "        sample_labels=data.ix[sample_index,label_col]\n",
    "        svd=decomposition.TruncatedSVD(n_components=svd_num_components,random_state=0)\n",
    "        X=svd.fit_transform(data)\n",
    "        tsne = manifold.TSNE(n_components = 2, perplexity=80, random_state = 0)\n",
    "        data_2d_tsne = tsne.fit_transform(X)\n",
    "        plt.figure(figsize = (10, 6))\n",
    "        plt.scatter(data_2d_tsne[:, 0], data_2d_tsne[:, 1], cmap='prism' ,c = final['final_labels'])\n",
    "        #plt.title('n_clusters=4')\n",
    "        pl.show()\n",
    "        \n",
    "        \n",
    "    def silhouette_score_plot(self, X, range_n_clusters):\n",
    "        \n",
    "\n",
    "        print(__doc__)\n",
    "\n",
    "\n",
    "        import warnings\n",
    "\n",
    "    \n",
    "        for n_clusters in range_n_clusters:\n",
    "   \n",
    "               data_new_index=X\n",
    "   \n",
    "               with warnings.catch_warnings():\n",
    "                  warnings.simplefilter(\"ignore\")\n",
    "                  clusterer = cluster.MiniBatchKMeans(n_clusters=n_clusters, batch_size=1000, random_state=6)\n",
    "                  labels = clusterer.fit_predict(data_new_index)\n",
    "    \n",
    "               np.random.seed(0)\n",
    "    \n",
    "   \n",
    "               cluster_labels = labels\n",
    "    \n",
    "\n",
    "               # The silhouette_score gives the average value for all the samples.\n",
    "               # This gives a perspective into the density and separation of the formed\n",
    "               # clusters\n",
    "               silhouette_avg = silhouette_score(X, cluster_labels)\n",
    "               sample_silhouette_values = silhouette_samples(X, cluster_labels)\n",
    "    \n",
    "            # Create a subplot with 1 row and 2 columns\n",
    "               fig, ax = plt.subplots(1)\n",
    "    \n",
    "        # The 1st subplot is the silhouette plot\n",
    "        # The silhouette coefficient can range from -1, 1 but in this example all\n",
    "        #  lie within [-0.1, 1]\n",
    "               ax.set_xlim([-0.1, 1])\n",
    "        # The (n_clusters+1)*10 is for inserting blank space between silhouette\n",
    "        # plots of individual clusters, to demarcate them clearly.\n",
    "               ax.set_ylim([1, len(X) + (n_clusters + 1) * 10])\n",
    "\n",
    "\n",
    "               y_lower = 10\n",
    "               for i in range(n_clusters):\n",
    "            # Aggregate the silhouette scores for samples belonging to\n",
    "            # cluster i, and sort them\n",
    "                 ith_cluster_silhouette_values = \\\n",
    "                 sample_silhouette_values[cluster_labels == i]\n",
    "\n",
    "                 ith_cluster_silhouette_values.sort()\n",
    "\n",
    "                 size_cluster_i = ith_cluster_silhouette_values.shape[0]\n",
    "                 y_upper = y_lower + size_cluster_i\n",
    "\n",
    "                 color = cm.spectral(float(i) / n_clusters)\n",
    "                 ax.fill_betweenx(np.arange(y_lower, y_upper),\n",
    "                             0, ith_cluster_silhouette_values,\n",
    "                             facecolor=color, edgecolor=color, alpha=0.7)\n",
    "\n",
    "            # Label the silhouette plots with their cluster numbers at the middle\n",
    "                 ax.text(-0.05, y_lower + 0.5 * size_cluster_i, str(i))\n",
    "\n",
    "            # Compute the new y_lower for next plot\n",
    "                 y_lower = y_upper + 10  # 10 for the 0 samples\n",
    "\n",
    "        ax.set_title(\"The silhouette plot for the various clusters.\")\n",
    "        ax.set_xlabel(\"The silhouette coefficient values\")\n",
    "        ax.set_ylabel(\"Cluster label\")\n",
    "\n",
    "        # The vertical line for average silhouette score of all the values\n",
    "        ax.axvline(x=silhouette_avg, color=\"red\", linestyle=\"--\")\n",
    " \n",
    "        ax.set_yticks([])  # Clear the yaxis labels / ticks\n",
    "        ax.set_xticks([-0.1, 0, 0.2, 0.4, 0.6, 0.8, 1])\n",
    "\n",
    "    \n",
    "        plt.show()  \n",
    "        \n",
    "       \n",
    "    def Hopkins(self, sample_size):\n",
    "        scaler=preprocessing.MinMaxScaler()\n",
    "        data_mM=self.data.copy()\n",
    "        data_mM=scaler.fit_transform(data_mM.toarray())\n",
    "    \n",
    "        np.random.seed(1)\n",
    "        sample_index=np.random.choice(young_ordinary_avg.index, sample_size)\n",
    "        sample=data_mM[sample_index]\n",
    "        X_rand = pd.DataFrame(np.random.uniform(low=0,high=1,size=(sample.shape[0],sample.shape[1])))\n",
    "    \n",
    "    \n",
    "        knn=neighbors.NearestNeighbors(n_neighbors=2, n_jobs=-1)\n",
    "        knn.fit(sample)\n",
    "        min_distance,_=knn.kneighbors(sample)\n",
    "        min_distance=min_distance[:,1]\n",
    "    \n",
    "        min_distance_rand,_=knn.kneighbors(X_rand)\n",
    "        min_distance_rand=min_distance_rand[:,0]\n",
    "    \n",
    "        H=np.sum(min_distance_rand)/(np.sum(min_distance_rand)+np.sum(min_distance))\n",
    "    \n",
    "        print (\"If objects are uniformly distributed, qi and wi will be similar, and the statistic will be close to 0.5. If clustering are present, the distances for artificial objects will be larger than for the real ones, because these artificial objects are homogeneously distributed whereas the real ones are grouped together, and the value of H will increase. A value for H higher than 0.75 indicates a clustering tendency at the 90% confidence level\")\n",
    "        return H"
   ]
  },
  {
   "cell_type": "code",
   "execution_count": null,
   "metadata": {
    "collapsed": true
   },
   "outputs": [],
   "source": [
    "X=young_ordinary_avg.copy()"
   ]
  },
  {
   "cell_type": "code",
   "execution_count": null,
   "metadata": {
    "collapsed": true
   },
   "outputs": [],
   "source": [
    "X['CU_BRANCH_CITY_TOWN']=young_raw['CU_BRANCH_CITY_TOWN']"
   ]
  },
  {
   "cell_type": "code",
   "execution_count": null,
   "metadata": {
    "collapsed": false
   },
   "outputs": [],
   "source": [
    "X['CU_BRANCH_CITY_TOWN'].unique()"
   ]
  },
  {
   "cell_type": "code",
   "execution_count": null,
   "metadata": {
    "collapsed": true
   },
   "outputs": [],
   "source": [
    "a=ClusterAnalysis(X)"
   ]
  },
  {
   "cell_type": "code",
   "execution_count": null,
   "metadata": {
    "collapsed": false
   },
   "outputs": [],
   "source": [
    "cat_cols=['CU_BRANCH_CITY_TOWN']\n",
    "bin_cols=a.binary_features()\n",
    "real_cols=list(set(X.columns)-set(cat_cols)-set(bin_cols))"
   ]
  },
  {
   "cell_type": "code",
   "execution_count": null,
   "metadata": {
    "collapsed": false
   },
   "outputs": [],
   "source": [
    "new=a.feature_processing(cat_cols, bin_cols, real_cols).toarray()"
   ]
  },
  {
   "cell_type": "code",
   "execution_count": null,
   "metadata": {
    "collapsed": false
   },
   "outputs": [],
   "source": [
    "final = a.cluster_labels(X, 162)"
   ]
  },
  {
   "cell_type": "code",
   "execution_count": null,
   "metadata": {
    "collapsed": false
   },
   "outputs": [],
   "source": [
    "a.kruskalwallis(final, txn_cols_amount, 'final_labels')"
   ]
  },
  {
   "cell_type": "code",
   "execution_count": null,
   "metadata": {
    "collapsed": false
   },
   "outputs": [],
   "source": [
    "final_city=a.city(young_raw, 'CU_BRANCH_CITY_TOWN')"
   ]
  },
  {
   "cell_type": "code",
   "execution_count": null,
   "metadata": {
    "collapsed": false
   },
   "outputs": [],
   "source": [
    "a.crosstb_plot(final_city, 'CU_GENDER', 'city')"
   ]
  },
  {
   "cell_type": "code",
   "execution_count": null,
   "metadata": {
    "collapsed": false
   },
   "outputs": [],
   "source": [
    "a.box_plot(final, 'Clothes', 'final_labels')"
   ]
  },
  {
   "cell_type": "code",
   "execution_count": null,
   "metadata": {
    "collapsed": false
   },
   "outputs": [],
   "source": [
    "a.barplot_analytics(final,txn_cols_amount, 'final_labels', 3, 'afff',non_zero=False)"
   ]
  },
  {
   "cell_type": "code",
   "execution_count": null,
   "metadata": {
    "collapsed": false
   },
   "outputs": [],
   "source": [
    "a=[1,2]\n",
    "a*4"
   ]
  },
  {
   "cell_type": "code",
   "execution_count": null,
   "metadata": {
    "collapsed": false
   },
   "outputs": [],
   "source": [
    "a.category_heatmap('CU_GENDER', 'CU_MARITAL_STATUS', txn_cols_amount)"
   ]
  },
  {
   "cell_type": "code",
   "execution_count": null,
   "metadata": {
    "collapsed": true
   },
   "outputs": [],
   "source": []
  }
 ],
 "metadata": {
  "anaconda-cloud": {},
  "kernelspec": {
   "display_name": "Python 3",
   "language": "python",
   "name": "python3"
  },
  "language_info": {
   "codemirror_mode": {
    "name": "ipython",
    "version": 2
   },
   "file_extension": ".py",
   "mimetype": "text/x-python",
   "name": "python",
   "nbconvert_exporter": "python",
   "pygments_lexer": "ipython2",
   "version": "2.7.5"
  }
 },
 "nbformat": 4,
 "nbformat_minor": 1
}
