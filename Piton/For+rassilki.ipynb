{
 "cells": [
  {
   "cell_type": "code",
   "execution_count": 3,
   "metadata": {
    "collapsed": false
   },
   "outputs": [],
   "source": [
    "import pandas as pd\n",
    "import numpy as np\n",
    "from sklearn.preprocessing import StandardScaler\n",
    "from sklearn.preprocessing import LabelEncoder\n",
    "import matplotlib.pyplot as plt\n",
    "from pandas import ExcelWriter\n",
    "from sklearn.grid_search import GridSearchCV\n",
    "from sklearn.cross_validation import KFold\n",
    "from sklearn.feature_extraction import DictVectorizer as DV\n",
    "from sklearn.cross_validation import cross_val_score\n",
    "from sklearn.cross_validation import train_test_split\n",
    "#classificators\n",
    "from sklearn.linear_model import LogisticRegression\n",
    "from sklearn.ensemble import GradientBoostingClassifier\n",
    "from sklearn.ensemble import RandomForestClassifier\n",
    "from sklearn.ensemble import ExtraTreesClassifier\n",
    "#clustering\n",
    "from sklearn.cluster import KMeans\n",
    "from sklearn.decomposition import PCA\n",
    "from sklearn.manifold import TSNE\n",
    "from scipy.cluster.hierarchy import dendrogram, linkage,fcluster"
   ]
  },
  {
   "cell_type": "code",
   "execution_count": 4,
   "metadata": {
    "collapsed": true
   },
   "outputs": [],
   "source": [
    "scaler = StandardScaler()\n",
    "label = LabelEncoder()"
   ]
  },
  {
   "cell_type": "code",
   "execution_count": 5,
   "metadata": {
    "collapsed": false
   },
   "outputs": [],
   "source": [
    "location='RUASVII_SEG_RANDSAMP.xlsx'\n",
    "df=pd.read_excel(location)"
   ]
  },
  {
   "cell_type": "code",
   "execution_count": 6,
   "metadata": {
    "collapsed": true
   },
   "outputs": [],
   "source": [
    "df2=df.copy()"
   ]
  },
  {
   "cell_type": "code",
   "execution_count": 25,
   "metadata": {
    "collapsed": true
   },
   "outputs": [],
   "source": [
    "df=df2.copy()"
   ]
  },
  {
   "cell_type": "code",
   "execution_count": 7,
   "metadata": {
    "collapsed": false
   },
   "outputs": [
    {
     "data": {
      "text/plain": [
       "Index(['Customer', 'Category', 'Client_Category', 'SEGMENT', 'Client_Type',\n",
       "       'Age', 'AgeGroup', 'Gender', 'Married', 'BUNDLECODE', 'HomeBranch',\n",
       "       'Branch_HB', 'Hub_HB', 'ClientBranch', 'Branch_C', 'Hub_C',\n",
       "       'First_Account', 'COUNT_of_AccountN', 'SUM_BALANCE', 'IS_CARD',\n",
       "       'COUNT_CARD', 'IS_CC', 'COUNT_CC_Main', 'COUNT_CC_Suppl', 'IS_DC',\n",
       "       'COUNT_DC_Main', 'COUNT_DC_Suppl', 'Count_UNSECURED', 'Count_MORTGAGE',\n",
       "       'Count_CARLOAN', 'Sum_UNSECURED', 'Sum_MORTGAGE', 'Sum_CARLOAN',\n",
       "       'COUNT_TD', 'SUM_TD', 'DATE_LAST_SESSION', 'SESS_1M_COUNT',\n",
       "       'SESS_3M_COUNT', 'SESS_6M_COUNT', 'SESS_12M_COUNT', 'COUNT_YM_12m',\n",
       "       'A12', 'A6', 'A3', 'A1', 'Active_months', 'COUNT_12', 'SumR_12',\n",
       "       'COUNT_6', 'SumR_6', 'COUNT_3', 'SumR_3', 'COUNT_1', 'SumR_1', 'Last_A',\n",
       "       'First_TrRC', 'Second_TrRC', 'A12RC', 'A6RC', 'A3RC', 'A1RC',\n",
       "       'Active_months_RC', 'COUNT_12RC', 'SumR_12RC', 'COUNT_6RC', 'SumR_6RC',\n",
       "       'COUNT_3RC', 'SumR_3RC', 'COUNT_1RC', 'SumR_1RC', 'Last_A_RC', 'A12ATM',\n",
       "       'A3ATM', 'A1ATM', 'Active_months_ATM', 'COUNT_12ATM', 'SumR_12ATM',\n",
       "       'COUNT_3ATM', 'SumR_3ATM', 'COUNT_1ATM', 'SumR_1ATM', 'A12POS', 'A3POS',\n",
       "       'A1POS', 'Active_months_POS', 'COUNT_12POS', 'SumR_12POS', 'COUNT_3POS',\n",
       "       'SumR_3POS', 'COUNT_1POS', 'SumR_1POS', 'A12Br', 'A3Br', 'A1Br',\n",
       "       'Active_months_Br', 'COUNT_12Br', 'SumR_12Br', 'COUNT_3Br', 'SumR_3Br',\n",
       "       'COUNT_1Br'],\n",
       "      dtype='object')"
      ]
     },
     "execution_count": 7,
     "metadata": {},
     "output_type": "execute_result"
    }
   ],
   "source": [
    "df.columns[:100]"
   ]
  },
  {
   "cell_type": "code",
   "execution_count": 26,
   "metadata": {
    "collapsed": false
   },
   "outputs": [],
   "source": [
    "#заменяем пропуски на нули\n",
    "torep=['Customer',     'Age',  'First_Account', 'COUNT_of_AccountN', 'SUM_BALANCE', 'IS_CARD',\n",
    "       'COUNT_CARD', 'IS_CC', 'COUNT_CC_Main', 'COUNT_CC_Suppl', 'IS_DC',\n",
    "       'COUNT_DC_Main', 'COUNT_DC_Suppl', 'Count_UNSECURED', 'Count_MORTGAGE',\n",
    "       'Count_CARLOAN', 'Sum_UNSECURED', 'Sum_MORTGAGE', 'Sum_CARLOAN',\n",
    "       'COUNT_TD', 'SUM_TD', 'DATE_LAST_SESSION', 'SESS_1M_COUNT',\n",
    "       'SESS_3M_COUNT', 'SESS_6M_COUNT', 'SESS_12M_COUNT', 'COUNT_YM_12m',\n",
    "       'A12', 'A6', 'A3', 'A1', 'Active_months', 'COUNT_12', 'SumR_12',\n",
    "       'COUNT_6', 'SumR_6', 'COUNT_3', 'SumR_3', 'COUNT_1', 'SumR_1', 'Last_A',\n",
    "       'First_TrRC', 'Second_TrRC', 'A12RC', 'A6RC', 'A3RC', 'A1RC',\n",
    "       'Active_months_RC', 'COUNT_12RC', 'SumR_12RC', 'COUNT_6RC', 'SumR_6RC',\n",
    "       'COUNT_3RC', 'SumR_3RC', 'COUNT_1RC', 'SumR_1RC', 'Last_A_RC', 'A12ATM',\n",
    "       'A3ATM', 'A1ATM', 'Active_months_ATM', 'COUNT_12ATM', 'SumR_12ATM',\n",
    "       'COUNT_3ATM', 'SumR_3ATM', 'COUNT_1ATM', 'SumR_1ATM', 'A12POS', 'A3POS',\n",
    "       'A1POS', 'Active_months_POS', 'COUNT_12POS', 'SumR_12POS', 'COUNT_3POS',\n",
    "       'SumR_3POS', 'COUNT_1POS', 'SumR_1POS', 'A12Br', 'A3Br', 'A1Br',\n",
    "       'Active_months_Br', 'COUNT_12Br', 'SumR_12Br', 'COUNT_3Br', 'SumR_3Br',\n",
    "       'COUNT_1Br', 'SumR_1Br', 'CountTr', 'SumTr', 'CountTr_Vyvod_', 'SumTrVyvod',\n",
    "       'Part_CountTrVyvod', 'Part_SumTrVyvod', 'SMS_ALERTING',\n",
    "       'TR_MB', 'TR_IB', 'PIN1_D', 'sum_PINk', 'PINk1_D', 'PINk_Last_D',\n",
    "       'PINk_Last_Channel', 'LOG1_D', 'SESS_D_First', 'SESS_D_Last', 'IS_RCAS',\n",
    "       'AUTH_FIRST_D', 'IS_CA', 'IS_B1000', 'IS_B2500', 'IS_TD', 'IS_CREDIT',\n",
    "       'IS_SMS_ALERT', 'IS_PIN', '#_MWS_Добавление Push ID',\n",
    "       '#_MWS_Оплата услуг', '#_MWS_перевод на чужую карту Рай',\n",
    "       '#_RC_Открытие депозита', '#_RC_перевод на карту другого ба',\n",
    "       '#_RC_Оплата услуг', '#_RC_перевод средств между своим',\n",
    "       '#_MWS_Внутренние Переводы/Конвер', '#_MWS_Перевод с карты на карту',\n",
    "       '#_MWS_Рублевые переводы', '#_MWS_Заявление на ЧДП кредита У',\n",
    "       '#_MWS_перевод на карту другого б', '#_RC_Рублевые переводы',\n",
    "       '#_RC_Перевод с карты другого бан', '#_RC_Заявление на ЧДП кредита Ум',\n",
    "       '#_RC_Перевод с карты на карту', '#_RC_Частичное снятие депозита',\n",
    "       '#_RC_Рублевый перевод по номеру', '#_MWS_Перевод с карты другого ба',\n",
    "       '#_RC_Заявление на полное досрочн', '#_RC_Внутренние Переводы/Конверт',\n",
    "       '#_RC_перевод с зп карты на карту', '#_RC_Изменение контактного телеф',\n",
    "       '#_RC_перевод на чужую карту Райф', '#_RC_Изменение телефона для СМС-',\n",
    "       '#_MWS_Изменение телефона для SMS', '#_RC_Платежи в бюджет (РФ)',\n",
    "       '#_RC_Подтверждение входа однораз', '#_RC_Изменение лимитов по карте',\n",
    "       '#_RC_Рублёвый перевод со счёта И', '#_RC_Пополнение депозита',\n",
    "       '#_MWS_Пополнение депозита', '#_RC_Валютные переводы за рубеж',\n",
    "       '#_RC_Оплата паев', '#_MWS_перевод средств между свои',\n",
    "       '#_RC_Создание нового счета', '#_MWS_Частичное снятие депозита',\n",
    "       '#_MWS_Заявление на полное досроч', '#_MWS_Платежи в бюджет (РФ)',\n",
    "       '#_RCP_Рублевые переводы', '#_MBG_Оплата услуг',\n",
    "       '#_RC_Создание/изменение поездки', '#_RC_Подписанный шаблон на оплат',\n",
    "       '#_MWS_Оплата паев', '#_RC_Изменение телефона для SMS',\n",
    "       '#_MWS_Открытие депозита', '#_RC_Валютные переводы РФ',\n",
    "       '#_RC_Подписание пакета документо', '#_MWS_Создание нового счета',\n",
    "       '#_RC_Создание доверенности на пр', '#_RC_Рублевый перевод по e-mail',\n",
    "       '#_RC_Создание доверенности на ис', '#_MWS_перевод с зп карты на карт',\n",
    "       '#_MWS_Рублевый перевод по номеру', '#_RCP_Перевод с карты на карту',\n",
    "       '#_RC_Подписанный шаблон на рубле', '#_RCP_Внутренние Переводы/Конвер',\n",
    "       '#_RCP_Валютные переводы за рубеж', '#_RCP_перевод средств между свои',\n",
    "       '#_RCP_Заявление на ЧДП кредита У', '#_RCP_Заявление на полное досроч',\n",
    "       '#_RCP_Оплата услуг', '#_RCP_Платежи в бюджет (РФ)',\n",
    "       '#_RCP_Валютные переводы РФ', '#_RCP_Частичное снятие депозита',\n",
    "       '#_RCP_перевод на карту другого б', '#_RC_Подключение СМС-ОТР',\n",
    "       '#_RCP_Открытие депозита', 'S_MWS_Добавление Push ID',\n",
    "       'S_MWS_Оплата услуг', 'S_MWS_перевод на чужую карту Рай',\n",
    "       'S_RC_Открытие депозита','S_RC_перевод на карту другого ба', 'S_RC_Оплата услуг',\n",
    "       'S_RC_перевод средств между своим', 'S_MWS_Внутренние Переводы/Конвер',\n",
    "       'S_MWS_Перевод с карты на карту', 'S_MWS_Рублевые переводы',\n",
    "       'S_MWS_Заявление на ЧДП кредита У', 'S_MWS_перевод на карту другого б',\n",
    "       'S_RC_Рублевые переводы', 'S_RC_Перевод с карты другого бан',\n",
    "       'S_RC_Заявление на ЧДП кредита Ум', 'S_RC_Перевод с карты на карту',\n",
    "       'S_RC_Частичное снятие депозита', 'S_RC_Рублевый перевод по номеру',\n",
    "       'S_MWS_Перевод с карты другого ба', 'S_RC_Заявление на полное досрочн',\n",
    "       'S_RC_Внутренние Переводы/Конверт', 'S_RC_перевод с зп карты на карту',\n",
    "       'S_RC_Изменение контактного телеф', 'S_RC_перевод на чужую карту Райф',\n",
    "       'S_RC_Изменение телефона для СМС-', 'S_MWS_Изменение телефона для SMS',\n",
    "       'S_RC_Платежи в бюджет (РФ)', 'S_RC_Подтверждение входа однораз',\n",
    "       'S_RC_Изменение лимитов по карте', 'S_RC_Рублёвый перевод со счёта И',\n",
    "       'S_RC_Пополнение депозита', 'S_MWS_Пополнение депозита',\n",
    "       'S_RC_Валютные переводы за рубеж', 'S_RC_Оплата паев',\n",
    "       'S_MWS_перевод средств между свои', 'S_RC_Создание нового счета',\n",
    "       'S_MWS_Частичное снятие депозита', 'S_MWS_Заявление на полное досроч',\n",
    "       'S_MWS_Платежи в бюджет (РФ)', 'S_RCP_Рублевые переводы',\n",
    "       'S_MBG_Оплата услуг', 'S_RC_Создание/изменение поездки',\n",
    "       'S_RC_Подписанный шаблон на оплат', 'S_MWS_Оплата паев',\n",
    "       'S_RC_Изменение телефона для SMS', 'S_MWS_Открытие депозита',\n",
    "       'S_RC_Валютные переводы РФ', 'S_RC_Подписание пакета документо',\n",
    "       'S_MWS_Создание нового счета', 'S_RC_Создание доверенности на пр',\n",
    "       'S_RC_Рублевый перевод по e-mail', 'S_RC_Создание доверенности на ис',\n",
    "       'S_MWS_перевод с зп карты на карт', 'S_MWS_Рублевый перевод по номеру',\n",
    "       'S_RCP_Перевод с карты на карту', 'S_RC_Подписанный шаблон на рубле',\n",
    "       'S_RCP_Внутренние Переводы/Конвер', 'S_RCP_Валютные переводы за рубеж',\n",
    "       'S_RCP_перевод средств между свои', 'S_RCP_Заявление на ЧДП кредита У',\n",
    "       'S_RCP_Заявление на полное досроч', 'S_RCP_Оплата услуг',\n",
    "       'S_RCP_Платежи в бюджет (РФ)', 'S_RCP_Валютные переводы РФ',\n",
    "       'S_RCP_Частичное снятие депозита', 'S_RCP_перевод на карту другого б',\n",
    "       'S_RC_Подключение СМС-ОТР', 'S_RCP_Открытие депозита', 'SUM_ALL',\n",
    "       '/_MWS_Добавление Push ID', '/_MWS_Оплата услуг',\n",
    "       '/_MWS_перевод на чужую карту Рай', '/_RC_Открытие депозита',\n",
    "       '/_RC_перевод на карту другого ба', '/_RC_Оплата услуг',\n",
    "       '/_RC_перевод средств между своим', '/_MWS_Внутренние Переводы/Конвер',\n",
    "       '/_MWS_Перевод с карты на карту', '/_MWS_Рублевые переводы',\n",
    "       '/_MWS_Заявление на ЧДП кредита У', '/_MWS_перевод на карту другого б',\n",
    "       '/_RC_Рублевые переводы', '/_RC_Перевод с карты другого бан',\n",
    "       '/_RC_Заявление на ЧДП кредита Ум', '/_RC_Перевод с карты на карту',\n",
    "       '/_RC_Частичное снятие депозита', '/_RC_Рублевый перевод по номеру',\n",
    "       '/_MWS_Перевод с карты другого ба', '/_RC_Заявление на полное досрочн',\n",
    "       '/_RC_Внутренние Переводы/Конверт', '/_RC_перевод с зп карты на карту',\n",
    "       '/_RC_Изменение контактного телеф', '/_RC_перевод на чужую карту Райф',\n",
    "       '/_RC_Изменение телефона для СМС-', '/_MWS_Изменение телефона для SMS',\n",
    "       '/_RC_Платежи в бюджет (РФ)', '/_RC_Подтверждение входа однораз',\n",
    "       '/_RC_Изменение лимитов по карте', '/_RC_Рублёвый перевод со счёта И',\n",
    "       '/_RC_Пополнение депозита', '/_MWS_Пополнение депозита',\n",
    "       '/_RC_Валютные переводы за рубеж', '/_RC_Оплата паев',\n",
    "       '/_MWS_перевод средств между свои','/_RC_Создание нового счета', '/_MWS_Частичное снятие депозита',\n",
    "       '/_MWS_Заявление на полное досроч', '/_MWS_Платежи в бюджет (РФ)',\n",
    "       '/_RCP_Рублевые переводы', '/_MBG_Оплата услуг',\n",
    "       '/_RC_Создание/изменение поездки', '/_RC_Подписанный шаблон на оплат',\n",
    "       '/_MWS_Оплата паев', '/_RC_Изменение телефона для SMS',\n",
    "       '/_MWS_Открытие депозита', '/_RC_Валютные переводы РФ',\n",
    "       '/_RC_Подписание пакета документо', '/_MWS_Создание нового счета',\n",
    "       '/_RC_Создание доверенности на пр', '/_RC_Рублевый перевод по e-mail',\n",
    "       '/_RC_Создание доверенности на ис', '/_MWS_перевод с зп карты на карт',\n",
    "       '/_MWS_Рублевый перевод по номеру', '/_RCP_Перевод с карты на карту',\n",
    "       '/_RC_Подписанный шаблон на рубле', '/_RCP_Внутренние Переводы/Конвер',\n",
    "       '/_RCP_Валютные переводы за рубеж', '/_RCP_перевод средств между свои',\n",
    "       '/_RCP_Заявление на ЧДП кредита У', '/_RCP_Заявление на полное досроч',\n",
    "       '/_RCP_Оплата услуг', '/_RCP_Платежи в бюджет (РФ)',\n",
    "       '/_RCP_Валютные переводы РФ', '/_RCP_Частичное снятие депозита',\n",
    "       '/_RCP_перевод на карту другого б', '/_RC_Подключение СМС-ОТР',\n",
    "       '/_RCP_Открытие депозита', 'COUNT_Comp_Mob', 'COUNT_of_Browser',\n",
    "       'CNT_send_cards', 'CNT_recieve_banks', 'CNT_distinct_sums',\n",
    "       'MAX_of_OP_IS_MTC', 'MAX_of_OP_IS_Beeline', 'MAX_of_OP_IS_Megafon',\n",
    "       'MAX_of_OP_IS_Tele2', 'MAX_of_OP_IS_other', 'Is_second_trans']\n",
    "for q in torep:\n",
    "    df[q]=df[q].fillna(0) "
   ]
  },
  {
   "cell_type": "code",
   "execution_count": 27,
   "metadata": {
    "collapsed": true
   },
   "outputs": [],
   "source": [
    "cltype=pd.get_dummies(df.Client_Type) \n",
    "df = pd.concat([df, cltype], axis=1)"
   ]
  },
  {
   "cell_type": "code",
   "execution_count": 28,
   "metadata": {
    "collapsed": false
   },
   "outputs": [],
   "source": [
    "#создаем новые фичи по датам\n",
    "df['DIF_1-2Trans']=df['Second_TrRC']-df['First_TrRC']\n",
    "df['DIF_1-2Trans']=df['DIF_1-2Trans'].fillna(df['DIF_1-2Trans'].mean())\n",
    "df['dif_A']=df['DATE_LAST_SESSION'] - df['Last_A_RC']\n",
    "df['dif_A']=df['dif_A'].fillna(df['dif_A'].mean())\n",
    "df['years_acc']=df['DATE_LAST_SESSION'] - df['First_Account']\n",
    "df['years_acc']=df['years_acc'].fillna(df['years_acc'].mean())\n",
    "df['SESS_2M_COUNT']=df['SESS_3M_COUNT'] - df['SESS_1M_COUNT']\n",
    "df['DIF_1-2Trans']=df['DIF_1-2Trans'].apply(lambda x: x.days)\n",
    "df['dif_A']=df['dif_A'].apply(lambda x: x.days)\n",
    "df['years_acc']=df['years_acc'].apply(lambda x: x.days)\n",
    "\n",
    "to_drop=['Client_Type','IS_CARD', 'IS_DC', 'IS_CC', 'Customer', 'Last_A', 'Last_A_RC','First_Account','DATE_LAST_SESSION','First_TrRC','Second_TrRC']\n",
    "df=df.drop(to_drop,axis=1)  "
   ]
  },
  {
   "cell_type": "code",
   "execution_count": 29,
   "metadata": {
    "collapsed": false
   },
   "outputs": [],
   "source": [
    "df.BUNDLECODE=df.BUNDLECODE.fillna('NONE')  \n",
    "df.BUNDLECODE=label.fit_transform(df.BUNDLECODE)\n",
    "df.Married=df.Married.fillna('nan')\n",
    "df.Married=label.fit_transform(df.Married)\n",
    "df.Gender=df.Gender.fillna('nan')\n",
    "df.Gender = label.fit_transform(df.Gender)\n",
    "df.SEGMENT=df.SEGMENT.fillna('NONE')\n",
    "df.SEGMENT=label.fit_transform(df.SEGMENT)\n",
    "df.Вывод=df.Вывод.fillna('no info')\n",
    "df.Вывод=label.fit_transform(df.Вывод)\n",
    "df.Hub_HB=df.Hub_HB.fillna('nan')\n",
    "df.Hub_HB=label.fit_transform(df.Hub_HB)\n",
    "df.AgeGroup=df.AgeGroup.fillna('nan')\n",
    "df.AgeGroup=label.fit_transform(df.AgeGroup)\n",
    "df.SMS_ALERTING=df.SMS_ALERTING.fillna('nan')\n",
    "df.SMS_ALERTING = label.fit_transform(df.SMS_ALERTING)\n",
    "df.Client_Category=df.Client_Category.fillna('nan')\n",
    "#df.Client_Type=df.Client_Type.fillna('nan')\n",
    "df.Client_Category=label.fit_transform(df.Client_Category)\n",
    "#df.Client_Type=label.fit_transform(df.Client_Type)\n",
    "df.Category=df.Category.fillna('nan')   \n",
    "df.Category=label.fit_transform(df.Category)\n",
    "df.HomeBranch=df.HomeBranch.fillna('nan')   \n",
    "df.HomeBranch=label.fit_transform(df.HomeBranch)\n",
    "df.Branch_HB=df.Branch_HB.fillna('nan')   \n",
    "df.Branch_HB=label.fit_transform(df.Branch_HB)\n",
    "df.ClientBranch=df.ClientBranch.fillna('nan')   \n",
    "df.ClientBranch=label.fit_transform(df.ClientBranch)\n",
    "df.Branch_C=df.Branch_C.fillna('nan')   \n",
    "df.Branch_C=label.fit_transform(df.Branch_C)\n",
    "df.Hub_C=df.Hub_C.fillna('nan')   \n",
    "df.Hub_C=label.fit_transform(df.Hub_C)\n",
    "df.Вывод=df.Вывод.fillna('nan')   \n",
    "df.Вывод=label.fit_transform(df.Вывод)\n",
    "df.Branch_C=df.Branch_C.fillna('nan')   \n",
    "df.Branch_C=label.fit_transform(df.Branch_C)\n",
    "df.Hub_C=df.Hub_C.fillna('nan')   \n",
    "df.Hub_C=label.fit_transform(df.Hub_C)"
   ]
  },
  {
   "cell_type": "code",
   "execution_count": null,
   "metadata": {
    "collapsed": true
   },
   "outputs": [],
   "source": [
    "df1=df.copy()"
   ]
  },
  {
   "cell_type": "code",
   "execution_count": 12,
   "metadata": {
    "collapsed": false
   },
   "outputs": [],
   "source": [
    "to_drop=['Category', 'Client_Category', 'SEGMENT', 'Age', 'AgeGroup',\n",
    "       'Gender', 'Married', 'BUNDLECODE', 'HomeBranch', 'Branch_HB', 'Hub_HB',\n",
    "       'ClientBranch', 'Branch_C', 'Hub_C', 'COUNT_of_AccountN', 'SUM_BALANCE',\n",
    "       'COUNT_CARD', 'COUNT_CC_Main', 'COUNT_CC_Suppl', 'COUNT_DC_Main',\n",
    "       'COUNT_DC_Suppl', 'Count_UNSECURED', 'Count_MORTGAGE', 'Count_CARLOAN',\n",
    "       'Sum_UNSECURED', 'Sum_MORTGAGE', 'Sum_CARLOAN', 'COUNT_TD', 'SUM_TD',\n",
    "       'A12', 'A6', 'A3',\n",
    "       'A1', 'Active_months', 'COUNT_12', 'SumR_12', 'COUNT_6', 'SumR_6',\n",
    "       'COUNT_3', 'SumR_3', 'COUNT_1', 'SumR_1',       \n",
    "      'A12ATM', 'A3ATM', 'A1ATM', 'Active_months_ATM',\n",
    "       'COUNT_12ATM', 'SumR_12ATM', 'COUNT_3ATM','SumR_3ATM', 'COUNT_1ATM', 'SumR_1ATM', 'A12POS', 'A3POS', 'A1POS',\n",
    "       'Active_months_POS', 'COUNT_12POS', 'SumR_12POS', 'COUNT_3POS',\n",
    "       'SumR_3POS', 'COUNT_1POS', 'SumR_1POS', 'A12Br', 'A3Br', 'A1Br',\n",
    "       'Active_months_Br', 'COUNT_12Br', 'SumR_12Br', 'COUNT_3Br', 'SumR_3Br',\n",
    "       'COUNT_1Br', 'SumR_1Br', 'CountTr', 'SumTr', 'CountTr_Vyvod_',\n",
    "       'SumTrVyvod', 'Part_CountTrVyvod', 'Part_SumTrVyvod', 'Вывод',\n",
    "       'SMS_ALERTING', 'IS_RCAS', 'Branch_C', 'Hub_C', 'IS_CA', 'IS_B1000',\n",
    "       'IS_TD', 'IS_CREDIT', 'IS_SMS_ALERT',  'Employee', 'Payroll', 'Walk-in', 'DIF_1-2Trans', 'dif_A', 'years_acc',\n",
    "         'PIN1_D', 'PINk1_D','PINk_Last_D', 'PINk_Last_Channel','LOG1_D', 'SESS_D_First', 'SESS_D_Last','AUTH_FIRST_D'\n",
    "     ]\n",
    "df=df.drop(to_drop,axis=1)  "
   ]
  },
  {
   "cell_type": "markdown",
   "metadata": {},
   "source": [
    "# Сегментируем"
   ]
  },
  {
   "cell_type": "markdown",
   "metadata": {},
   "source": [
    "Как ни странно, k_means++ показал результат лучше других методов (дбскана, иерархической и тд), к тому же быстрее работает и отлично разделяет классы, оставляем его"
   ]
  },
  {
   "cell_type": "code",
   "execution_count": null,
   "metadata": {
    "collapsed": true
   },
   "outputs": [],
   "source": [
    "X=scaler.fit_transform(df)\n",
    "X=pd.DataFrame(X)"
   ]
  },
  {
   "cell_type": "code",
   "execution_count": null,
   "metadata": {
    "collapsed": false,
    "scrolled": false
   },
   "outputs": [],
   "source": [
    "kmeans = KMeans(n_clusters=20, init='k-means++', random_state=1).fit(X)"
   ]
  },
  {
   "cell_type": "code",
   "execution_count": 19,
   "metadata": {
    "collapsed": true
   },
   "outputs": [],
   "source": [
    "labels=kmeans.labels_"
   ]
  },
  {
   "cell_type": "code",
   "execution_count": 18,
   "metadata": {
    "collapsed": false,
    "scrolled": false
   },
   "outputs": [
    {
     "data": {
      "text/plain": [
       "0     29916\n",
       "4     28427\n",
       "3     18573\n",
       "17     7117\n",
       "9      6572\n",
       "12     6023\n",
       "2      1184\n",
       "14      826\n",
       "8       530\n",
       "5       353\n",
       "1       325\n",
       "19       75\n",
       "16       53\n",
       "18       10\n",
       "15        9\n",
       "7         2\n",
       "6         2\n",
       "13        1\n",
       "11        1\n",
       "10        1\n",
       "dtype: int64"
      ]
     },
     "execution_count": 18,
     "metadata": {},
     "output_type": "execute_result"
    }
   ],
   "source": [
    "pd.Series(kmeans.labels_).value_counts()"
   ]
  },
  {
   "cell_type": "markdown",
   "metadata": {},
   "source": [
    "######################################Пролистать этот раздел##################################################"
   ]
  },
  {
   "cell_type": "code",
   "execution_count": 54,
   "metadata": {
    "collapsed": false
   },
   "outputs": [],
   "source": [
    "from sklearn.decomposition import PCA\n",
    "pca=PCA(n_components=120)\n",
    "df1=pca.fit_transform(df)"
   ]
  },
  {
   "cell_type": "code",
   "execution_count": 56,
   "metadata": {
    "collapsed": true
   },
   "outputs": [],
   "source": [
    "def fancy_dendrogram(*args, **kwargs):\n",
    "    max_d = kwargs.pop('max_d', None)\n",
    "    if max_d and 'color_threshold' not in kwargs:\n",
    "        kwargs['color_threshold'] = max_d\n",
    "    annotate_above = kwargs.pop('annotate_above', 0)\n",
    "\n",
    "    ddata = dendrogram(*args, **kwargs)\n",
    "\n",
    "    if not kwargs.get('no_plot', False):\n",
    "        plt.title('Hierarchical Clustering Dendrogram (truncated)')\n",
    "        plt.xlabel('sample index or (cluster size)')\n",
    "        plt.ylabel('distance')\n",
    "        for i, d, c in zip(ddata['icoord'], ddata['dcoord'], ddata['color_list']):\n",
    "            x = 0.5 * sum(i[1:3])\n",
    "            y = d[1]\n",
    "            if y > annotate_above:\n",
    "                plt.plot(x, y, 'o', c=c)\n",
    "                plt.annotate(\"%.3g\" % y, (x, y), xytext=(0, -5),\n",
    "                             textcoords='offset points',\n",
    "                             va='top', ha='center')\n",
    "        if max_d:\n",
    "            plt.axhline(y=max_d, c='k')\n",
    "    return ddata"
   ]
  },
  {
   "cell_type": "code",
   "execution_count": 57,
   "metadata": {
    "collapsed": false
   },
   "outputs": [
    {
     "data": {
      "image/png": "[encoded data removed]",
      "text/plain": [
       "<matplotlib.figure.Figure at 0x7f7f29c644a8>"
      ]
     },
     "metadata": {},
     "output_type": "display_data"
    }
   ],
   "source": [
    "plt.title('Hierarchical Clustering Dendrogram (truncated)')\n",
    "plt.xlabel('sample index or (cluster size)')\n",
    "plt.ylabel('distance')\n",
    "dendrogram(\n",
    "    Z,\n",
    "    truncate_mode='lastp',  # show only the last p merged clusters\n",
    "    p=53,  # show only the last p merged clusters\n",
    "    leaf_rotation=90.,\n",
    "    leaf_font_size=12.,\n",
    "    show_contracted=True,  # to get a distribution impression in truncated branches\n",
    ")\n",
    "plt.show()"
   ]
  },
  {
   "cell_type": "code",
   "execution_count": 82,
   "metadata": {
    "collapsed": true
   },
   "outputs": [],
   "source": [
    "def cluster_labels(X, threshold):\n",
    "    Z = linkage(X, method='ward')\n",
    "    h_labels=fcluster(Z, threshold , criterion='distance')\n",
    "    final=df.copy()\n",
    "    final['final_labels']=h_labels\n",
    "    unique_labels=final['final_labels'].value_counts().index.tolist()\n",
    "    final.final_labels.replace(unique_labels,[i+1 for i in range(len(unique_labels))],inplace=True)\n",
    "    return final"
   ]
  },
  {
   "cell_type": "code",
   "execution_count": null,
   "metadata": {
    "collapsed": false
   },
   "outputs": [],
   "source": [
    "Z = linkage(X, method='ward')"
   ]
  },
  {
   "cell_type": "code",
   "execution_count": 16,
   "metadata": {
    "collapsed": true
   },
   "outputs": [],
   "source": [
    "h_labels=fcluster(Z, 130 , criterion='distance')"
   ]
  },
  {
   "cell_type": "markdown",
   "metadata": {},
   "source": [
    "############################################################################################################"
   ]
  },
  {
   "cell_type": "markdown",
   "metadata": {},
   "source": [
    "## Создаем конечный файл"
   ]
  },
  {
   "cell_type": "code",
   "execution_count": 21,
   "metadata": {
    "collapsed": false
   },
   "outputs": [],
   "source": [
    "final=pd.concat([df, pd.Series(kmeans.labels_)], axis=1)"
   ]
  },
  {
   "cell_type": "code",
   "execution_count": 41,
   "metadata": {
    "collapsed": false
   },
   "outputs": [
    {
     "data": {
      "text/html": [
       "<div>\n",
       "<table border=\"1\" class=\"dataframe\">\n",
       "  <thead>\n",
       "    <tr style=\"text-align: right;\">\n",
       "      <th></th>\n",
       "      <th>SESS_1M_COUNT</th>\n",
       "      <th>SESS_3M_COUNT</th>\n",
       "      <th>SESS_6M_COUNT</th>\n",
       "      <th>SESS_12M_COUNT</th>\n",
       "      <th>COUNT_YM_12m</th>\n",
       "      <th>A12RC</th>\n",
       "      <th>A6RC</th>\n",
       "      <th>A3RC</th>\n",
       "      <th>A1RC</th>\n",
       "      <th>Active_months_RC</th>\n",
       "      <th>...</th>\n",
       "      <th>CNT_recieve_banks</th>\n",
       "      <th>CNT_distinct_sums</th>\n",
       "      <th>MAX_of_OP_IS_MTC</th>\n",
       "      <th>MAX_of_OP_IS_Beeline</th>\n",
       "      <th>MAX_of_OP_IS_Megafon</th>\n",
       "      <th>MAX_of_OP_IS_Tele2</th>\n",
       "      <th>MAX_of_OP_IS_other</th>\n",
       "      <th>Is_second_trans</th>\n",
       "      <th>SESS_2M_COUNT</th>\n",
       "      <th>0</th>\n",
       "    </tr>\n",
       "  </thead>\n",
       "  <tbody>\n",
       "    <tr>\n",
       "      <th>0</th>\n",
       "      <td>11.0</td>\n",
       "      <td>22.0</td>\n",
       "      <td>45.0</td>\n",
       "      <td>176.0</td>\n",
       "      <td>12.0</td>\n",
       "      <td>1</td>\n",
       "      <td>1</td>\n",
       "      <td>1</td>\n",
       "      <td>1</td>\n",
       "      <td>12</td>\n",
       "      <td>...</td>\n",
       "      <td>1.0</td>\n",
       "      <td>1.0</td>\n",
       "      <td>0.0</td>\n",
       "      <td>1.0</td>\n",
       "      <td>1.0</td>\n",
       "      <td>0.0</td>\n",
       "      <td>0.0</td>\n",
       "      <td>1</td>\n",
       "      <td>11.0</td>\n",
       "      <td>40</td>\n",
       "    </tr>\n",
       "    <tr>\n",
       "      <th>1</th>\n",
       "      <td>13.0</td>\n",
       "      <td>36.0</td>\n",
       "      <td>75.0</td>\n",
       "      <td>161.0</td>\n",
       "      <td>12.0</td>\n",
       "      <td>1</td>\n",
       "      <td>1</td>\n",
       "      <td>1</td>\n",
       "      <td>1</td>\n",
       "      <td>10</td>\n",
       "      <td>...</td>\n",
       "      <td>0.0</td>\n",
       "      <td>0.0</td>\n",
       "      <td>0.0</td>\n",
       "      <td>0.0</td>\n",
       "      <td>0.0</td>\n",
       "      <td>0.0</td>\n",
       "      <td>0.0</td>\n",
       "      <td>1</td>\n",
       "      <td>23.0</td>\n",
       "      <td>40</td>\n",
       "    </tr>\n",
       "    <tr>\n",
       "      <th>2</th>\n",
       "      <td>23.0</td>\n",
       "      <td>92.0</td>\n",
       "      <td>92.0</td>\n",
       "      <td>95.0</td>\n",
       "      <td>5.0</td>\n",
       "      <td>1</td>\n",
       "      <td>1</td>\n",
       "      <td>1</td>\n",
       "      <td>1</td>\n",
       "      <td>3</td>\n",
       "      <td>...</td>\n",
       "      <td>0.0</td>\n",
       "      <td>0.0</td>\n",
       "      <td>0.0</td>\n",
       "      <td>0.0</td>\n",
       "      <td>1.0</td>\n",
       "      <td>0.0</td>\n",
       "      <td>0.0</td>\n",
       "      <td>1</td>\n",
       "      <td>69.0</td>\n",
       "      <td>19</td>\n",
       "    </tr>\n",
       "    <tr>\n",
       "      <th>3</th>\n",
       "      <td>17.0</td>\n",
       "      <td>24.0</td>\n",
       "      <td>24.0</td>\n",
       "      <td>24.0</td>\n",
       "      <td>2.0</td>\n",
       "      <td>1</td>\n",
       "      <td>1</td>\n",
       "      <td>1</td>\n",
       "      <td>1</td>\n",
       "      <td>1</td>\n",
       "      <td>...</td>\n",
       "      <td>1.0</td>\n",
       "      <td>1.0</td>\n",
       "      <td>0.0</td>\n",
       "      <td>0.0</td>\n",
       "      <td>0.0</td>\n",
       "      <td>0.0</td>\n",
       "      <td>0.0</td>\n",
       "      <td>0</td>\n",
       "      <td>7.0</td>\n",
       "      <td>46</td>\n",
       "    </tr>\n",
       "    <tr>\n",
       "      <th>4</th>\n",
       "      <td>8.0</td>\n",
       "      <td>23.0</td>\n",
       "      <td>36.0</td>\n",
       "      <td>54.0</td>\n",
       "      <td>12.0</td>\n",
       "      <td>1</td>\n",
       "      <td>1</td>\n",
       "      <td>1</td>\n",
       "      <td>1</td>\n",
       "      <td>12</td>\n",
       "      <td>...</td>\n",
       "      <td>0.0</td>\n",
       "      <td>0.0</td>\n",
       "      <td>0.0</td>\n",
       "      <td>1.0</td>\n",
       "      <td>0.0</td>\n",
       "      <td>0.0</td>\n",
       "      <td>0.0</td>\n",
       "      <td>1</td>\n",
       "      <td>15.0</td>\n",
       "      <td>40</td>\n",
       "    </tr>\n",
       "  </tbody>\n",
       "</table>\n",
       "<p>5 rows × 241 columns</p>\n",
       "</div>"
      ],
      "text/plain": [
       "   SESS_1M_COUNT  SESS_3M_COUNT  SESS_6M_COUNT  SESS_12M_COUNT  COUNT_YM_12m  \\\n",
       "0           11.0           22.0           45.0           176.0          12.0   \n",
       "1           13.0           36.0           75.0           161.0          12.0   \n",
       "2           23.0           92.0           92.0            95.0           5.0   \n",
       "3           17.0           24.0           24.0            24.0           2.0   \n",
       "4            8.0           23.0           36.0            54.0          12.0   \n",
       "\n",
       "   A12RC  A6RC  A3RC  A1RC  Active_months_RC ...  CNT_recieve_banks  \\\n",
       "0      1     1     1     1                12 ...                1.0   \n",
       "1      1     1     1     1                10 ...                0.0   \n",
       "2      1     1     1     1                 3 ...                0.0   \n",
       "3      1     1     1     1                 1 ...                1.0   \n",
       "4      1     1     1     1                12 ...                0.0   \n",
       "\n",
       "   CNT_distinct_sums  MAX_of_OP_IS_MTC  MAX_of_OP_IS_Beeline  \\\n",
       "0                1.0               0.0                   1.0   \n",
       "1                0.0               0.0                   0.0   \n",
       "2                0.0               0.0                   0.0   \n",
       "3                1.0               0.0                   0.0   \n",
       "4                0.0               0.0                   1.0   \n",
       "\n",
       "   MAX_of_OP_IS_Megafon  MAX_of_OP_IS_Tele2  MAX_of_OP_IS_other  \\\n",
       "0                   1.0                 0.0                 0.0   \n",
       "1                   0.0                 0.0                 0.0   \n",
       "2                   1.0                 0.0                 0.0   \n",
       "3                   0.0                 0.0                 0.0   \n",
       "4                   0.0                 0.0                 0.0   \n",
       "\n",
       "   Is_second_trans  SESS_2M_COUNT   0  \n",
       "0                1           11.0  40  \n",
       "1                1           23.0  40  \n",
       "2                1           69.0  19  \n",
       "3                0            7.0  46  \n",
       "4                1           15.0  40  \n",
       "\n",
       "[5 rows x 241 columns]"
      ]
     },
     "execution_count": 41,
     "metadata": {},
     "output_type": "execute_result"
    }
   ],
   "source": [
    "final.head()"
   ]
  },
  {
   "cell_type": "code",
   "execution_count": 37,
   "metadata": {
    "collapsed": false
   },
   "outputs": [],
   "source": [
    "final.to_csv('final.csv')"
   ]
  },
  {
   "cell_type": "code",
   "execution_count": null,
   "metadata": {
    "collapsed": false
   },
   "outputs": [],
   "source": [
    "writer = ExcelWriter('final_kmeans1.xlsx')\n",
    "final.to_excel(writer)\n",
    "writer.save() "
   ]
  },
  {
   "cell_type": "markdown",
   "metadata": {},
   "source": [
    "# Предсказываем лейбл (мультиклассовая классификация) "
   ]
  },
  {
   "cell_type": "markdown",
   "metadata": {},
   "source": [
    "## Предобработка"
   ]
  },
  {
   "cell_type": "code",
   "execution_count": 24,
   "metadata": {
    "collapsed": false
   },
   "outputs": [
    {
     "data": {
      "text/html": [
       "<div>\n",
       "<table border=\"1\" class=\"dataframe\">\n",
       "  <thead>\n",
       "    <tr style=\"text-align: right;\">\n",
       "      <th></th>\n",
       "      <th>Customer</th>\n",
       "      <th>Category</th>\n",
       "      <th>Client_Category</th>\n",
       "      <th>SEGMENT</th>\n",
       "      <th>Client_Type</th>\n",
       "      <th>Age</th>\n",
       "      <th>AgeGroup</th>\n",
       "      <th>Gender</th>\n",
       "      <th>Married</th>\n",
       "      <th>BUNDLECODE</th>\n",
       "      <th>...</th>\n",
       "      <th>COUNT_of_Browser</th>\n",
       "      <th>CNT_send_cards</th>\n",
       "      <th>CNT_recieve_banks</th>\n",
       "      <th>CNT_distinct_sums</th>\n",
       "      <th>MAX_of_OP_IS_MTC</th>\n",
       "      <th>MAX_of_OP_IS_Beeline</th>\n",
       "      <th>MAX_of_OP_IS_Megafon</th>\n",
       "      <th>MAX_of_OP_IS_Tele2</th>\n",
       "      <th>MAX_of_OP_IS_other</th>\n",
       "      <th>Is_second_trans</th>\n",
       "    </tr>\n",
       "  </thead>\n",
       "  <tbody>\n",
       "    <tr>\n",
       "      <th>0</th>\n",
       "      <td>001011</td>\n",
       "      <td>50</td>\n",
       "      <td>PI</td>\n",
       "      <td>MassAffluent</td>\n",
       "      <td>Payroll</td>\n",
       "      <td>33</td>\n",
       "      <td>30-34</td>\n",
       "      <td>M</td>\n",
       "      <td>N</td>\n",
       "      <td>STAN</td>\n",
       "      <td>...</td>\n",
       "      <td>0.0</td>\n",
       "      <td>1.0</td>\n",
       "      <td>1.0</td>\n",
       "      <td>1.0</td>\n",
       "      <td>0.0</td>\n",
       "      <td>1.0</td>\n",
       "      <td>1.0</td>\n",
       "      <td>0.0</td>\n",
       "      <td>0.0</td>\n",
       "      <td>1</td>\n",
       "    </tr>\n",
       "    <tr>\n",
       "      <th>1</th>\n",
       "      <td>001191</td>\n",
       "      <td>70</td>\n",
       "      <td>PI</td>\n",
       "      <td>MassAffluent</td>\n",
       "      <td>Walk-in</td>\n",
       "      <td>46</td>\n",
       "      <td>45-49</td>\n",
       "      <td>F</td>\n",
       "      <td>Y</td>\n",
       "      <td>NONE</td>\n",
       "      <td>...</td>\n",
       "      <td>NaN</td>\n",
       "      <td>NaN</td>\n",
       "      <td>NaN</td>\n",
       "      <td>NaN</td>\n",
       "      <td>NaN</td>\n",
       "      <td>NaN</td>\n",
       "      <td>NaN</td>\n",
       "      <td>NaN</td>\n",
       "      <td>NaN</td>\n",
       "      <td>1</td>\n",
       "    </tr>\n",
       "    <tr>\n",
       "      <th>2</th>\n",
       "      <td>001416</td>\n",
       "      <td>50</td>\n",
       "      <td>PI</td>\n",
       "      <td>Mass</td>\n",
       "      <td>Payroll</td>\n",
       "      <td>29</td>\n",
       "      <td>25-29</td>\n",
       "      <td>M</td>\n",
       "      <td>Y</td>\n",
       "      <td>NONE</td>\n",
       "      <td>...</td>\n",
       "      <td>NaN</td>\n",
       "      <td>NaN</td>\n",
       "      <td>NaN</td>\n",
       "      <td>NaN</td>\n",
       "      <td>0.0</td>\n",
       "      <td>0.0</td>\n",
       "      <td>1.0</td>\n",
       "      <td>0.0</td>\n",
       "      <td>0.0</td>\n",
       "      <td>1</td>\n",
       "    </tr>\n",
       "    <tr>\n",
       "      <th>3</th>\n",
       "      <td>001446</td>\n",
       "      <td>50</td>\n",
       "      <td>PI</td>\n",
       "      <td>MassAffluent</td>\n",
       "      <td>Payroll</td>\n",
       "      <td>35</td>\n",
       "      <td>35-39</td>\n",
       "      <td>F</td>\n",
       "      <td>NaN</td>\n",
       "      <td>GOLD</td>\n",
       "      <td>...</td>\n",
       "      <td>NaN</td>\n",
       "      <td>1.0</td>\n",
       "      <td>1.0</td>\n",
       "      <td>1.0</td>\n",
       "      <td>NaN</td>\n",
       "      <td>NaN</td>\n",
       "      <td>NaN</td>\n",
       "      <td>NaN</td>\n",
       "      <td>NaN</td>\n",
       "      <td>0</td>\n",
       "    </tr>\n",
       "    <tr>\n",
       "      <th>4</th>\n",
       "      <td>001546</td>\n",
       "      <td>50</td>\n",
       "      <td>PI</td>\n",
       "      <td>Affluent</td>\n",
       "      <td>Payroll</td>\n",
       "      <td>32</td>\n",
       "      <td>30-34</td>\n",
       "      <td>F</td>\n",
       "      <td>N</td>\n",
       "      <td>NONE</td>\n",
       "      <td>...</td>\n",
       "      <td>1.0</td>\n",
       "      <td>NaN</td>\n",
       "      <td>NaN</td>\n",
       "      <td>NaN</td>\n",
       "      <td>0.0</td>\n",
       "      <td>1.0</td>\n",
       "      <td>0.0</td>\n",
       "      <td>0.0</td>\n",
       "      <td>0.0</td>\n",
       "      <td>1</td>\n",
       "    </tr>\n",
       "  </tbody>\n",
       "</table>\n",
       "<p>5 rows × 344 columns</p>\n",
       "</div>"
      ],
      "text/plain": [
       "  Customer  Category Client_Category       SEGMENT Client_Type  Age AgeGroup  \\\n",
       "0   001011        50              PI  MassAffluent     Payroll   33    30-34   \n",
       "1   001191        70              PI  MassAffluent     Walk-in   46    45-49   \n",
       "2   001416        50              PI          Mass     Payroll   29    25-29   \n",
       "3   001446        50              PI  MassAffluent     Payroll   35    35-39   \n",
       "4   001546        50              PI      Affluent     Payroll   32    30-34   \n",
       "\n",
       "  Gender Married BUNDLECODE       ...         COUNT_of_Browser CNT_send_cards  \\\n",
       "0      M       N       STAN       ...                      0.0            1.0   \n",
       "1      F       Y       NONE       ...                      NaN            NaN   \n",
       "2      M       Y       NONE       ...                      NaN            NaN   \n",
       "3      F     NaN       GOLD       ...                      NaN            1.0   \n",
       "4      F       N       NONE       ...                      1.0            NaN   \n",
       "\n",
       "  CNT_recieve_banks  CNT_distinct_sums MAX_of_OP_IS_MTC MAX_of_OP_IS_Beeline  \\\n",
       "0               1.0                1.0              0.0                  1.0   \n",
       "1               NaN                NaN              NaN                  NaN   \n",
       "2               NaN                NaN              0.0                  0.0   \n",
       "3               1.0                1.0              NaN                  NaN   \n",
       "4               NaN                NaN              0.0                  1.0   \n",
       "\n",
       "  MAX_of_OP_IS_Megafon  MAX_of_OP_IS_Tele2  MAX_of_OP_IS_other  \\\n",
       "0                  1.0                 0.0                 0.0   \n",
       "1                  NaN                 NaN                 NaN   \n",
       "2                  1.0                 0.0                 0.0   \n",
       "3                  NaN                 NaN                 NaN   \n",
       "4                  0.0                 0.0                 0.0   \n",
       "\n",
       "   Is_second_trans  \n",
       "0                1  \n",
       "1                1  \n",
       "2                1  \n",
       "3                0  \n",
       "4                1  \n",
       "\n",
       "[5 rows x 344 columns]"
      ]
     },
     "execution_count": 24,
     "metadata": {},
     "output_type": "execute_result"
    }
   ],
   "source": [
    "Customer=df2.Customer"
   ]
  },
  {
   "cell_type": "code",
   "execution_count": 57,
   "metadata": {
    "collapsed": false,
    "scrolled": true
   },
   "outputs": [],
   "source": [
    "to_drop=['Category', 'Client_Category', 'SEGMENT', 'Age', 'AgeGroup',\n",
    "       'Gender', 'Married', 'BUNDLECODE', 'HomeBranch', 'Branch_HB', 'Hub_HB',\n",
    "       'ClientBranch', 'Branch_C', 'Hub_C', 'COUNT_of_AccountN', 'SUM_BALANCE',\n",
    "       'COUNT_CARD', 'COUNT_CC_Main', 'COUNT_CC_Suppl', 'COUNT_DC_Main',\n",
    "       'COUNT_DC_Suppl', 'Count_UNSECURED', 'Count_MORTGAGE', 'Count_CARLOAN',\n",
    "       'Sum_UNSECURED', 'Sum_MORTGAGE', 'Sum_CARLOAN', 'COUNT_TD', 'SUM_TD',\n",
    "       'A12', 'A6', 'A3', 'A1', 'Active_months', 'COUNT_12', 'SumR_12', 'COUNT_6', 'SumR_6',\n",
    "       'COUNT_3', 'SumR_3', 'COUNT_1', 'SumR_1',       \n",
    "      'A12ATM', 'A3ATM', 'A1ATM', 'Active_months_ATM',\n",
    "       'COUNT_12ATM', 'SumR_12ATM', 'COUNT_3ATM','SumR_3ATM', 'COUNT_1ATM', 'SumR_1ATM', 'A12POS', 'A3POS', 'A1POS',\n",
    "       'Active_months_POS', 'COUNT_12POS', 'SumR_12POS', 'COUNT_3POS',\n",
    "       'SumR_3POS', 'COUNT_1POS', 'SumR_1POS', 'A12Br', 'A3Br', 'A1Br',\n",
    "       'Active_months_Br', 'COUNT_12Br', 'SumR_12Br', 'COUNT_3Br', 'SumR_3Br',\n",
    "       'COUNT_1Br', 'SumR_1Br', 'CountTr', 'SumTr', 'CountTr_Vyvod_',\n",
    "       'SumTrVyvod', 'Part_CountTrVyvod', 'Part_SumTrVyvod', 'Вывод',\n",
    "       'SMS_ALERTING', 'IS_RCAS', 'Branch_C', 'Hub_C', 'IS_CA', 'IS_B1000',\n",
    "       'IS_TD', 'IS_CREDIT', 'IS_SMS_ALERT',  'Employee', 'Payroll', 'Walk-in', 'dif_A']\n",
    "drop=set(df.columns)-set(to_drop)"
   ]
  },
  {
   "cell_type": "code",
   "execution_count": null,
   "metadata": {
    "collapsed": false
   },
   "outputs": [],
   "source": [
    "df=df.drop(drop,axis=1)  "
   ]
  },
  {
   "cell_type": "code",
   "execution_count": 65,
   "metadata": {
    "collapsed": false
   },
   "outputs": [
    {
     "data": {
      "text/plain": [
       "array([dtype('int64'), dtype('float64')], dtype=object)"
      ]
     },
     "execution_count": 65,
     "metadata": {},
     "output_type": "execute_result"
    }
   ],
   "source": [
    "df.head().dtypes.unique()"
   ]
  },
  {
   "cell_type": "code",
   "execution_count": 91,
   "metadata": {
    "collapsed": false
   },
   "outputs": [],
   "source": [
    "Train=pd.concat([df, final.ix[:, -1]], axis=1)\n",
    "q=list(Train.columns)[:-1].append('Label')\n",
    "Train.columns=q"
   ]
  },
  {
   "cell_type": "code",
   "execution_count": 116,
   "metadata": {
    "collapsed": false
   },
   "outputs": [
    {
     "data": {
      "text/plain": [
       "Index(['Category', 'Client_Category', 'SEGMENT', 'Age', 'AgeGroup', 'Gender',\n",
       "       'Married', 'BUNDLECODE', 'HomeBranch', 'Branch_HB', 'Hub_HB',\n",
       "       'ClientBranch', 'Branch_C', 'Hub_C', 'COUNT_of_AccountN', 'SUM_BALANCE',\n",
       "       'COUNT_CARD', 'COUNT_CC_Main', 'COUNT_CC_Suppl', 'COUNT_DC_Main',\n",
       "       'COUNT_DC_Suppl', 'Count_UNSECURED', 'Count_MORTGAGE', 'Count_CARLOAN',\n",
       "       'Sum_UNSECURED', 'Sum_MORTGAGE', 'Sum_CARLOAN', 'COUNT_TD', 'SUM_TD',\n",
       "       'A12', 'A6', 'A3', 'A1', 'Active_months', 'COUNT_12', 'SumR_12',\n",
       "       'COUNT_6', 'SumR_6', 'COUNT_3', 'SumR_3', 'COUNT_1', 'SumR_1', 'A12ATM',\n",
       "       'A3ATM', 'A1ATM', 'Active_months_ATM', 'COUNT_12ATM', 'SumR_12ATM',\n",
       "       'COUNT_3ATM', 'SumR_3ATM', 'COUNT_1ATM', 'SumR_1ATM', 'A12POS', 'A3POS',\n",
       "       'A1POS', 'Active_months_POS', 'COUNT_12POS', 'SumR_12POS', 'COUNT_3POS',\n",
       "       'SumR_3POS', 'COUNT_1POS', 'SumR_1POS', 'A12Br', 'A3Br', 'A1Br',\n",
       "       'Active_months_Br', 'COUNT_12Br', 'SumR_12Br', 'COUNT_3Br', 'SumR_3Br',\n",
       "       'COUNT_1Br', 'SumR_1Br', 'CountTr', 'SumTr', 'CountTr_Vyvod_',\n",
       "       'SumTrVyvod', 'Part_CountTrVyvod', 'Part_SumTrVyvod', 'Вывод',\n",
       "       'SMS_ALERTING', 'IS_RCAS', 'IS_CA', 'IS_B1000', 'IS_TD', 'IS_CREDIT',\n",
       "       'IS_SMS_ALERT', 'Employee', 'Payroll', 'Walk-in', 'dif_A', 'years_acc',\n",
       "       'Label'],\n",
       "      dtype='object')"
      ]
     },
     "execution_count": 116,
     "metadata": {},
     "output_type": "execute_result"
    }
   ],
   "source": [
    "Train.columns"
   ]
  },
  {
   "cell_type": "code",
   "execution_count": 162,
   "metadata": {
    "collapsed": false
   },
   "outputs": [],
   "source": [
    "X=pd.concat([Train[Train['Label']==0],Train[Train['Label']==4],Train[Train['Label']==3],\n",
    "           Train[Train['Label']==17],Train[Train['Label']==9],Train[Train['Label']==12],\n",
    "           Train[Train['Label']==8],Train[Train['Label']==14],Train[Train['Label']==2]])"
   ]
  },
  {
   "cell_type": "code",
   "execution_count": 163,
   "metadata": {
    "collapsed": false
   },
   "outputs": [
    {
     "data": {
      "text/plain": [
       "False"
      ]
     },
     "execution_count": 163,
     "metadata": {},
     "output_type": "execute_result"
    }
   ],
   "source": [
    "X.isnull().values.any()"
   ]
  },
  {
   "cell_type": "code",
   "execution_count": null,
   "metadata": {
    "collapsed": true
   },
   "outputs": [],
   "source": [
    "X[X['Label']==0]"
   ]
  },
  {
   "cell_type": "code",
   "execution_count": 164,
   "metadata": {
    "collapsed": false
   },
   "outputs": [],
   "source": [
    "Y=X.Label\n",
    "X=X.drop('Label', axis=1)"
   ]
  },
  {
   "cell_type": "code",
   "execution_count": 165,
   "metadata": {
    "collapsed": true
   },
   "outputs": [],
   "source": [
    "X=scaler.fit_transform(X)\n",
    "X=pd.DataFrame(X)"
   ]
  },
  {
   "cell_type": "code",
   "execution_count": 166,
   "metadata": {
    "collapsed": false
   },
   "outputs": [],
   "source": [
    "X.columns=Train.columns[:-1]"
   ]
  },
  {
   "cell_type": "markdown",
   "metadata": {},
   "source": [
    "## Модель"
   ]
  },
  {
   "cell_type": "code",
   "execution_count": 178,
   "metadata": {
    "collapsed": false
   },
   "outputs": [],
   "source": [
    "import matplotlib.pyplot as plt\n",
    "from pandas import ExcelWriter\n",
    "from sklearn.grid_search import GridSearchCV\n",
    "from sklearn.cross_validation import KFold\n",
    "from sklearn.cross_validation import cross_val_score\n",
    "from sklearn.cross_validation import train_test_split\n",
    "from sklearn.metrics import f1_score,mean_squared_error,auc,precision_recall_curve,label_ranking_average_precision_score\n",
    "import sklearn.metrics\n",
    "#classificators\n",
    "from sklearn.linear_model import LogisticRegression\n",
    "from sklearn.ensemble import GradientBoostingClassifier\n",
    "from sklearn.ensemble import RandomForestClassifier\n",
    "from sklearn.ensemble import ExtraTreesClassifier"
   ]
  },
  {
   "cell_type": "code",
   "execution_count": 179,
   "metadata": {
    "collapsed": true
   },
   "outputs": [],
   "source": [
    "X_train, X_test, y_train, y_test = train_test_split(X, Y, test_size=0.33, random_state=0)"
   ]
  },
  {
   "cell_type": "code",
   "execution_count": 190,
   "metadata": {
    "collapsed": true
   },
   "outputs": [],
   "source": [
    "clf = RandomForestClassifier(random_state=0,class_weight=\"balanced\")\n",
    "tuned_parameters = [{'min_samples_split':np.arange(1, 4, 1)},\n",
    "                     {'n_estimators':np.arange(5, 25, 5)},\n",
    "                      {'max_depth':np.arange(1, 6, 1)}]\n",
    "gs = GridSearchCV(clf, tuned_parameters, cv=5,scoring=\"f1_weighted\" ,verbose=True)"
   ]
  },
  {
   "cell_type": "code",
   "execution_count": 191,
   "metadata": {
    "collapsed": false,
    "scrolled": true
   },
   "outputs": [
    {
     "name": "stdout",
     "output_type": "stream",
     "text": [
      "Fitting 5 folds for each of 12 candidates, totalling 60 fits\n"
     ]
    },
    {
     "name": "stderr",
     "output_type": "stream",
     "text": [
      "/opt/anaconda3/lib/python3.5/site-packages/sklearn/metrics/classification.py:1074: UndefinedMetricWarning: F-score is ill-defined and being set to 0.0 in labels with no predicted samples.\n",
      "  'precision', 'predicted', average, warn_for)\n",
      "/opt/anaconda3/lib/python3.5/site-packages/sklearn/metrics/classification.py:1074: UndefinedMetricWarning: F-score is ill-defined and being set to 0.0 in labels with no predicted samples.\n",
      "  'precision', 'predicted', average, warn_for)\n",
      "/opt/anaconda3/lib/python3.5/site-packages/sklearn/metrics/classification.py:1074: UndefinedMetricWarning: F-score is ill-defined and being set to 0.0 in labels with no predicted samples.\n",
      "  'precision', 'predicted', average, warn_for)\n",
      "/opt/anaconda3/lib/python3.5/site-packages/sklearn/metrics/classification.py:1074: UndefinedMetricWarning: F-score is ill-defined and being set to 0.0 in labels with no predicted samples.\n",
      "  'precision', 'predicted', average, warn_for)\n",
      "/opt/anaconda3/lib/python3.5/site-packages/sklearn/metrics/classification.py:1074: UndefinedMetricWarning: F-score is ill-defined and being set to 0.0 in labels with no predicted samples.\n",
      "  'precision', 'predicted', average, warn_for)\n",
      "/opt/anaconda3/lib/python3.5/site-packages/sklearn/metrics/classification.py:1074: UndefinedMetricWarning: F-score is ill-defined and being set to 0.0 in labels with no predicted samples.\n",
      "  'precision', 'predicted', average, warn_for)\n",
      "/opt/anaconda3/lib/python3.5/site-packages/sklearn/metrics/classification.py:1074: UndefinedMetricWarning: F-score is ill-defined and being set to 0.0 in labels with no predicted samples.\n",
      "  'precision', 'predicted', average, warn_for)\n",
      "/opt/anaconda3/lib/python3.5/site-packages/sklearn/metrics/classification.py:1074: UndefinedMetricWarning: F-score is ill-defined and being set to 0.0 in labels with no predicted samples.\n",
      "  'precision', 'predicted', average, warn_for)\n",
      "/opt/anaconda3/lib/python3.5/site-packages/sklearn/metrics/classification.py:1074: UndefinedMetricWarning: F-score is ill-defined and being set to 0.0 in labels with no predicted samples.\n",
      "  'precision', 'predicted', average, warn_for)\n",
      "/opt/anaconda3/lib/python3.5/site-packages/sklearn/metrics/classification.py:1074: UndefinedMetricWarning: F-score is ill-defined and being set to 0.0 in labels with no predicted samples.\n",
      "  'precision', 'predicted', average, warn_for)\n",
      "/opt/anaconda3/lib/python3.5/site-packages/sklearn/metrics/classification.py:1074: UndefinedMetricWarning: F-score is ill-defined and being set to 0.0 in labels with no predicted samples.\n",
      "  'precision', 'predicted', average, warn_for)\n",
      "/opt/anaconda3/lib/python3.5/site-packages/sklearn/metrics/classification.py:1074: UndefinedMetricWarning: F-score is ill-defined and being set to 0.0 in labels with no predicted samples.\n",
      "  'precision', 'predicted', average, warn_for)\n",
      "/opt/anaconda3/lib/python3.5/site-packages/sklearn/metrics/classification.py:1074: UndefinedMetricWarning: F-score is ill-defined and being set to 0.0 in labels with no predicted samples.\n",
      "  'precision', 'predicted', average, warn_for)\n",
      "/opt/anaconda3/lib/python3.5/site-packages/sklearn/metrics/classification.py:1074: UndefinedMetricWarning: F-score is ill-defined and being set to 0.0 in labels with no predicted samples.\n",
      "  'precision', 'predicted', average, warn_for)\n",
      "/opt/anaconda3/lib/python3.5/site-packages/sklearn/metrics/classification.py:1074: UndefinedMetricWarning: F-score is ill-defined and being set to 0.0 in labels with no predicted samples.\n",
      "  'precision', 'predicted', average, warn_for)\n",
      "/opt/anaconda3/lib/python3.5/site-packages/sklearn/metrics/classification.py:1074: UndefinedMetricWarning: F-score is ill-defined and being set to 0.0 in labels with no predicted samples.\n",
      "  'precision', 'predicted', average, warn_for)\n",
      "/opt/anaconda3/lib/python3.5/site-packages/sklearn/metrics/classification.py:1074: UndefinedMetricWarning: F-score is ill-defined and being set to 0.0 in labels with no predicted samples.\n",
      "  'precision', 'predicted', average, warn_for)\n",
      "/opt/anaconda3/lib/python3.5/site-packages/sklearn/metrics/classification.py:1074: UndefinedMetricWarning: F-score is ill-defined and being set to 0.0 in labels with no predicted samples.\n",
      "  'precision', 'predicted', average, warn_for)\n",
      "/opt/anaconda3/lib/python3.5/site-packages/sklearn/metrics/classification.py:1074: UndefinedMetricWarning: F-score is ill-defined and being set to 0.0 in labels with no predicted samples.\n",
      "  'precision', 'predicted', average, warn_for)\n",
      "/opt/anaconda3/lib/python3.5/site-packages/sklearn/metrics/classification.py:1074: UndefinedMetricWarning: F-score is ill-defined and being set to 0.0 in labels with no predicted samples.\n",
      "  'precision', 'predicted', average, warn_for)\n",
      "/opt/anaconda3/lib/python3.5/site-packages/sklearn/metrics/classification.py:1074: UndefinedMetricWarning: F-score is ill-defined and being set to 0.0 in labels with no predicted samples.\n",
      "  'precision', 'predicted', average, warn_for)\n",
      "/opt/anaconda3/lib/python3.5/site-packages/sklearn/metrics/classification.py:1074: UndefinedMetricWarning: F-score is ill-defined and being set to 0.0 in labels with no predicted samples.\n",
      "  'precision', 'predicted', average, warn_for)\n",
      "/opt/anaconda3/lib/python3.5/site-packages/sklearn/metrics/classification.py:1074: UndefinedMetricWarning: F-score is ill-defined and being set to 0.0 in labels with no predicted samples.\n",
      "  'precision', 'predicted', average, warn_for)\n",
      "/opt/anaconda3/lib/python3.5/site-packages/sklearn/metrics/classification.py:1074: UndefinedMetricWarning: F-score is ill-defined and being set to 0.0 in labels with no predicted samples.\n",
      "  'precision', 'predicted', average, warn_for)\n",
      "/opt/anaconda3/lib/python3.5/site-packages/sklearn/metrics/classification.py:1074: UndefinedMetricWarning: F-score is ill-defined and being set to 0.0 in labels with no predicted samples.\n",
      "  'precision', 'predicted', average, warn_for)\n",
      "/opt/anaconda3/lib/python3.5/site-packages/sklearn/metrics/classification.py:1074: UndefinedMetricWarning: F-score is ill-defined and being set to 0.0 in labels with no predicted samples.\n",
      "  'precision', 'predicted', average, warn_for)\n",
      "/opt/anaconda3/lib/python3.5/site-packages/sklearn/metrics/classification.py:1074: UndefinedMetricWarning: F-score is ill-defined and being set to 0.0 in labels with no predicted samples.\n",
      "  'precision', 'predicted', average, warn_for)\n",
      "[Parallel(n_jobs=1)]: Done  49 tasks       | elapsed:  3.1min\n",
      "[Parallel(n_jobs=1)]: Done  60 out of  60 | elapsed:  3.3min finished\n"
     ]
    },
    {
     "data": {
      "text/plain": [
       "GridSearchCV(cv=5, error_score='raise',\n",
       "       estimator=RandomForestClassifier(bootstrap=True, class_weight='balanced',\n",
       "            criterion='gini', max_depth=None, max_features='auto',\n",
       "            max_leaf_nodes=None, min_samples_leaf=1, min_samples_split=2,\n",
       "            min_weight_fraction_leaf=0.0, n_estimators=10, n_jobs=1,\n",
       "            oob_score=False, random_state=0, verbose=0, warm_start=False),\n",
       "       fit_params={}, iid=True, n_jobs=1,\n",
       "       param_grid=[{'min_samples_split': array([1, 2, 3])}, {'n_estimators': array([ 5, 10, 15, 20])}, {'max_depth': array([1, 2, 3, 4, 5])}],\n",
       "       pre_dispatch='2*n_jobs', refit=True, scoring='f1_weighted',\n",
       "       verbose=True)"
      ]
     },
     "execution_count": 191,
     "metadata": {},
     "output_type": "execute_result"
    }
   ],
   "source": [
    "gs.fit(X_train, y_train)"
   ]
  },
  {
   "cell_type": "code",
   "execution_count": 173,
   "metadata": {
    "collapsed": false
   },
   "outputs": [
    {
     "data": {
      "text/plain": [
       "RandomForestClassifier(bootstrap=True, class_weight='balanced',\n",
       "            criterion='gini', max_depth=None, max_features='auto',\n",
       "            max_leaf_nodes=None, min_samples_leaf=1, min_samples_split=2,\n",
       "            min_weight_fraction_leaf=0.0, n_estimators=20, n_jobs=1,\n",
       "            oob_score=False, random_state=0, verbose=0, warm_start=False)"
      ]
     },
     "execution_count": 173,
     "metadata": {},
     "output_type": "execute_result"
    }
   ],
   "source": [
    "gs.best_estimator_"
   ]
  },
  {
   "cell_type": "code",
   "execution_count": 192,
   "metadata": {
    "collapsed": false
   },
   "outputs": [
    {
     "data": {
      "text/plain": [
       "0     20085\n",
       "4     19153\n",
       "3     12317\n",
       "17     4786\n",
       "9      4346\n",
       "12     4063\n",
       "2       806\n",
       "14      539\n",
       "8       347\n",
       "dtype: int64"
      ]
     },
     "execution_count": 192,
     "metadata": {},
     "output_type": "execute_result"
    }
   ],
   "source": [
    "preds_train=pd.Series(gs.predict(X_train))\n",
    "preds_train.value_counts()[:15]"
   ]
  },
  {
   "cell_type": "markdown",
   "metadata": {},
   "source": [
    "Трейн"
   ]
  },
  {
   "cell_type": "code",
   "execution_count": 194,
   "metadata": {
    "collapsed": false
   },
   "outputs": [
    {
     "name": "stdout",
     "output_type": "stream",
     "text": [
      "MSE:  0.0774961620662\n",
      "F-мера:  0.999157388196\n"
     ]
    },
    {
     "name": "stderr",
     "output_type": "stream",
     "text": [
      "/opt/anaconda3/lib/python3.5/site-packages/sklearn/metrics/classification.py:756: DeprecationWarning: The default `weighted` averaging is deprecated, and from version 0.18, use of precision, recall or F-score with multiclass or multilabel data or pos_label=None will result in an exception. Please set an explicit value for `average`, one of (None, 'micro', 'macro', 'weighted', 'samples'). In cross validation use, for instance, scoring=\"f1_weighted\" instead of scoring=\"f1\".\n",
      "  sample_weight=sample_weight)\n"
     ]
    }
   ],
   "source": [
    "print (\"MSE: \", mean_squared_error(y_train, preds_train))\n",
    "print (\"F-мера: \", f1_score(y_train, preds_train))"
   ]
  },
  {
   "cell_type": "markdown",
   "metadata": {},
   "source": [
    "Тест"
   ]
  },
  {
   "cell_type": "code",
   "execution_count": 195,
   "metadata": {
    "collapsed": false
   },
   "outputs": [
    {
     "name": "stdout",
     "output_type": "stream",
     "text": [
      "MSE:  30.0030251176\n",
      "F-мера:  0.40894442999\n"
     ]
    },
    {
     "name": "stderr",
     "output_type": "stream",
     "text": [
      "/opt/anaconda3/lib/python3.5/site-packages/sklearn/metrics/classification.py:756: DeprecationWarning: The default `weighted` averaging is deprecated, and from version 0.18, use of precision, recall or F-score with multiclass or multilabel data or pos_label=None will result in an exception. Please set an explicit value for `average`, one of (None, 'micro', 'macro', 'weighted', 'samples'). In cross validation use, for instance, scoring=\"f1_weighted\" instead of scoring=\"f1\".\n",
      "  sample_weight=sample_weight)\n",
      "/opt/anaconda3/lib/python3.5/site-packages/sklearn/metrics/classification.py:1074: UndefinedMetricWarning: F-score is ill-defined and being set to 0.0 in labels with no predicted samples.\n",
      "  'precision', 'predicted', average, warn_for)\n"
     ]
    }
   ],
   "source": [
    "print (\"MSE: \",mean_squared_error(y_test, gs.predict(X_test)))\n",
    "print (\"F-мера: \",f1_score(y_test, gs.predict(X_test)))"
   ]
  },
  {
   "cell_type": "markdown",
   "metadata": {},
   "source": []
  },
  {
   "cell_type": "code",
   "execution_count": null,
   "metadata": {
    "collapsed": true
   },
   "outputs": [],
   "source": []
  },
  {
   "cell_type": "code",
   "execution_count": null,
   "metadata": {
    "collapsed": true
   },
   "outputs": [],
   "source": []
  },
  {
   "cell_type": "code",
   "execution_count": null,
   "metadata": {
    "collapsed": true
   },
   "outputs": [],
   "source": []
  }
 ],
 "metadata": {
  "anaconda-cloud": {},
  "kernelspec": {
   "display_name": "Python 3",
   "language": "python",
   "name": "python3"
  },
  "language_info": {
   "codemirror_mode": {
    "name": "ipython",
    "version": 3
   },
   "file_extension": ".py",
   "mimetype": "text/x-python",
   "name": "python",
   "nbconvert_exporter": "python",
   "pygments_lexer": "ipython3",
   "version": "3.5.2"
  }
 },
 "nbformat": 4,
 "nbformat_minor": 1
}
