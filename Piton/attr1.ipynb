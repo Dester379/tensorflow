{
 "cells": [
  {
   "cell_type": "code",
   "execution_count": 1,
   "metadata": {
    "collapsed": false
   },
   "outputs": [
    {
     "name": "stderr",
     "output_type": "stream",
     "text": [
      "/opt/anaconda3/lib/python3.5/site-packages/matplotlib/font_manager.py:273: UserWarning: Matplotlib is building the font cache using fc-list. This may take a moment.\n",
      "  warnings.warn('Matplotlib is building the font cache using fc-list. This may take a moment.')\n",
      "/opt/anaconda3/lib/python3.5/site-packages/matplotlib/font_manager.py:273: UserWarning: Matplotlib is building the font cache using fc-list. This may take a moment.\n",
      "  warnings.warn('Matplotlib is building the font cache using fc-list. This may take a moment.')\n"
     ]
    }
   ],
   "source": [
    "import pandas as pd\n",
    "import numpy as np\n",
    "from sklearn.preprocessing import StandardScaler\n",
    "import matplotlib.pyplot as plt\n",
    "from sklearn.preprocessing import LabelEncoder\n",
    "from sklearn.dummy import DummyClassifier\n",
    "from pandas import ExcelWriter\n",
    "import matplotlib.pyplot as plt\n",
    "from sklearn.preprocessing import OneHotEncoder\n",
    "from sklearn.preprocessing import MinMaxScaler\n",
    "from sklearn.preprocessing import StandardScaler\n",
    "from sklearn.grid_search import GridSearchCV\n",
    "from sklearn.cross_validation import KFold\n",
    "from sklearn.cluster import KMeans\n",
    "from sklearn.decomposition import PCA\n",
    "from sklearn.manifold import TSNE\n",
    "from sklearn.linear_model import LogisticRegression\n",
    "from sklearn.metrics import accuracy_score\n",
    "from sklearn.feature_extraction import DictVectorizer as DV\n",
    "from os import system\n",
    "from sklearn.cross_validation import cross_val_score\n",
    "from sklearn import tree\n",
    "from sklearn.ensemble import RandomForestClassifier"
   ]
  },
  {
   "cell_type": "code",
   "execution_count": 2,
   "metadata": {
    "collapsed": true
   },
   "outputs": [],
   "source": [
    "vec = DV(sparse=False)\n",
    "scaler = StandardScaler()\n",
    "label = LabelEncoder()\n",
    "dicts = {}"
   ]
  },
  {
   "cell_type": "code",
   "execution_count": null,
   "metadata": {
    "collapsed": true
   },
   "outputs": [],
   "source": [
    "#считываем\n",
    "location=u'Z:\\RBA\\MSK\\Krasnogorsk\\Workgroups\\Products Development\\Remote Channels\\R-CONNECT\\Иван Серов\\PORTFOLIO_2016_12_3_excel.xlsx'\n",
    "location2=u'Z:\\RBA\\MSK\\Krasnogorsk\\Workgroups\\Products Development\\Remote Channels\\R-CONNECT\\Иван Серов\\PORTFOLIO_1_excel_done.xlsx'\n",
    "df=pd.read_excel(location)"
   ]
  },
  {
   "cell_type": "code",
   "execution_count": null,
   "metadata": {
    "collapsed": true
   },
   "outputs": [],
   "source": [
    "#заменяем пропуски на нули\n",
    "torep=['COUNT_CARD', 'COUNT_of_AccountN', 'IS_CARD','IS_CC', 'COUNT_CC_Main', 'COUNT_CC_Suppl', 'COUNT_DC_Main',\n",
    "'COUNT_DC_Suppl','Count_UNSECURED','Count_MORTGAGE','COUNT_TD','Sum_UNSECURED',\n",
    "'SUM_TD','COUNT_of_AccountN','IS_DC','Sum_UNSECURED','Sum_MORTGAGE','COUNT_TD','SUM_TD',\n",
    "'SESS_1M_COUNT','SESS_3M_COUNT','SESS_6M_COUNT','SESS_12M_COUNT','COUNT_YM_12m',\n",
    "'A12','A3','A1',\t'Active_months',\t'COUNT_12',\t'SumR_12',\t'COUNT_3',\t'SumR_3',\t'COUNT_1',\t'SumR_1',\n",
    "'A12RC','A3RC',\t'A1RC',\t'Active_months_RC',\t'COUNT_12RC',\t'SumR_12RC',\t'COUNT_3RC',\t'SumR_3RC',\n",
    "'COUNT_1RC','SumR_1RC', 'A12ATM',\t'A3ATM',\t'A1ATM',\t'Active_months_ATM',\t'COUNT_12ATM',\t'SumR_12ATM',\t\n",
    " 'COUNT_3ATM','SumR_3ATM',\t'COUNT_1ATM',\t'SumR_1ATM',\t'A12POS',\t'A3POS',\t'A1POS',\t'Active_months_POS',\n",
    "'COUNT_12POS','SumR_12POS',\t'COUNT_3POS',\t'SumR_3POS',\t'COUNT_1POS',\t'SumR_1POS',\t'A12Br',\t'A3Br',\n",
    "'A1Br','Active_months_Br', 'COUNT_12Br',\t'SumR_12Br'\t, 'COUNT_3Br', 'SumR_3Br',\t'COUNT_1Br',\t'SumR_1Br',\n",
    "'CountTr',\t'SumTr',\t'CountTr_Vyvod_', 'SumTrVyvod','Part_CountTrVyvod','Part_SumTrVyvod', 'IS_CA', 'IS_B1000', \n",
    " 'IS_TD','IS_CREDIT',\t'IS_SMS_ALERT',\t'IS_PIN','Sum_UNSECURED','SumTr','SumTrVyvod', 'sum_PINk', 'COUNT_6RC', 'SumR_6RC', 'SumR_3']\n",
    "for q in torep:\n",
    "    df[q]=df[q].fillna(0)"
   ]
  },
  {
   "cell_type": "code",
   "execution_count": null,
   "metadata": {
    "collapsed": true
   },
   "outputs": [],
   "source": [
    "to_drop=['Month', 'SDate','EDate','Customer', '_TEMA001', 'PINk_Last_Channel','SMSOTPАктивно',\t'PUSHOTPАктивно',\t'EMVCAPАктивно',\n",
    "        'SMSOTPЗаблокировано',\t'EMVCAPЗаблокировано',\n",
    "         'HomeBranch', 'Branch_HB', 'ClientBranch', 'CLIENT_ID','REGISTER_ID',  'Branch_C', 'Hub_C',\n",
    "        'BranchResult', 'IS_RCAS',\t'AUTH_FIRST_D',\t'Branch_BR',\t\n",
    "        'HUB_BR', 'RANDOM', 'Count_CARLOAN', 'Sum_CARLOAN', 'DATE_LAST_SESSION' ]\n",
    "df=df.drop(to_drop,axis=1)   "
   ]
  },
  {
   "cell_type": "code",
   "execution_count": null,
   "metadata": {
    "collapsed": true
   },
   "outputs": [],
   "source": [
    "#создаем новые графы\n",
    "df['DIF_1-2Trans']=df['Second_TrRC']-df['First_TrRC']\n",
    "df['DIF_1-2Trans']=df['DIF_1-2Trans'].fillna(df['DIF_1-2Trans'].mean())\n",
    "df['dif_A']=df['Last_A'] - df['Last_A_RC']\n",
    "df['dif_A']=df['dif_A'].fillna(df['dif_A'].mean())\n",
    "df['SUM_BALANCE']=df['SUM_BALANCE'].fillna(df['SUM_BALANCE'].mean())\n",
    "df['sess_diff']=df['SESS_D_Last'] - df['Last_A_RC']\n",
    "df['sess_diff']=df['sess_diff'].fillna(df['sess_diff'].mean())\n"
   ]
  },
  {
   "cell_type": "code",
   "execution_count": null,
   "metadata": {
    "collapsed": true
   },
   "outputs": [],
   "source": [
    "\n",
    "#time=df[['First_Account', 'Last_A', 'First_TrRC', 'Second_TrRC', 'Last_A_RC', 'PINk1_D', 'PINk_Last_D', 'LOG1_D', 'SESS_D_First','SESS_D_Last']]\n",
    "df.BUNDLECODE=df.BUNDLECODE.fillna('NONE')  \n",
    "df.BUNDLECODE=label.fit_transform(df.BUNDLECODE)\n",
    "df.Married=df.Married.fillna('nan')\n",
    "df.Married=label.fit_transform(df.Married)\n",
    "df.Gender=df.Gender.fillna('nan')\n",
    "df.Gender = label.fit_transform(df.Gender)\n",
    "df.segment=df.segment.fillna('NONE')\n",
    "df.segment=label.fit_transform(df.segment)\n",
    "df.Вывод=df.Вывод.fillna('no info')\n",
    "df.Вывод=label.fit_transform(df.Вывод)\n",
    "df.Hub_HB=df.Hub_HB.fillna('nan')\n",
    "df.Hub_HB=label.fit_transform(df.Hub_HB)\n",
    "df.AgeGroup=df.AgeGroup.fillna('nan')\n",
    "df.AgeGroup=label.fit_transform(df.AgeGroup)\n",
    "df.SMS_ALERTING=df.SMS_ALERTING.fillna('nan')\n",
    "df.SMS_ALERTING = label.fit_transform(df.SMS_ALERTING)\n",
    "\n",
    "df.Client_Category=df.Client_Category.fillna('nan')\n",
    "df.Client_Type=df.Client_Type.fillna('nan')\n",
    "df.Client_Category=label.fit_transform(df.Client_Category)\n",
    "df.Client_Type=label.fit_transform(df.Client_Type)\n",
    "#corr=df.corr()\n",
    "#descr=df.describe()"
   ]
  },
  {
   "cell_type": "code",
   "execution_count": null,
   "metadata": {
    "collapsed": true
   },
   "outputs": [],
   "source": [
    "df.BUNDLECODE=df.BUNDLECODE.fillna('NONE')  \n",
    "df.BUNDLECODE=label.fit_transform(df.BUNDLECODE)\n",
    "df.Married=df.Married.fillna('nan')\n",
    "df.Married=label.fit_transform(df.Married)\n",
    "df.Gender=df.Gender.fillna('nan')\n",
    "df.Gender = label.fit_transform(df.Gender)\n",
    "df.segment=df.segment.fillna('NONE')\n",
    "df.segment=label.fit_transform(df.segment)\n",
    "df.Вывод=df.Вывод.fillna('no info')\n",
    "df.Вывод=label.fit_transform(df.Вывод)\n",
    "df.Hub_HB=df.Hub_HB.fillna('nan')\n",
    "df.Hub_HB=label.fit_transform(df.Hub_HB)\n",
    "df.AgeGroup=df.AgeGroup.fillna('nan')\n",
    "df.AgeGroup=label.fit_transform(df.AgeGroup)\n",
    "df.SMS_ALERTING=df.SMS_ALERTING.fillna('nan')\n",
    "df.SMS_ALERTING = label.fit_transform(df.SMS_ALERTING)\n",
    "df.Client_Category=df.Client_Category.fillna('nan')\n",
    "df.Client_Type=df.Client_Type.fillna('nan')\n",
    "df.Client_Category=label.fit_transform(df.Client_Category)\n",
    "df.Client_Type=label.fit_transform(df.Client_Type)\n"
   ]
  },
  {
   "cell_type": "code",
   "execution_count": null,
   "metadata": {
    "collapsed": true
   },
   "outputs": [],
   "source": [
    "to_drop=['A1', 'A3', 'A6', 'A12', \n",
    "        'A1RC', 'A12RC', 'A6RC', 'A3RC',\n",
    "        'COUNT_3RC', 'COUNT_1RC', \n",
    "       'COUNT_6RC'   , \n",
    "      'Active_months_RC',  'SumR_3RC', 'SumR_1RC', 'SESS_3M_COUNT', 'COUNT_12RC', 'COUNT_1',\n",
    "      'COUNT_3', 'COUNT_6','SumR_12RC', 'SumR_6RC', 'COUNT_12', 'SESS_1M_COUNT',\n",
    "'SESS_6M_COUNT','SESS_12M_COUNT', 'COUNT_6RC',\t'COUNT_1RC',\t'SumR_1RC',\n",
    "'A12ATM', 'A1ATM', 'COUNT_12ATM',\t'SumR_12ATM', 'COUNT_1ATM',\t'SumR_1ATM',\t'A12POS', 'A1POS',\n",
    "'COUNT_12POS',\t'SumR_12POS', 'COUNT_1POS',\t'SumR_1POS',\t'A12Br', 'A1Br',\n",
    "'COUNT_12Br',\t'SumR_12Br',\n",
    "'COUNT_1Br',\t'SumR_1Br', 'dif_A','SumR_3','SumR_6','SumR_12' ]\n",
    "df=df.drop(to_drop,axis=1)"
   ]
  },
  {
   "cell_type": "code",
   "execution_count": null,
   "metadata": {
    "collapsed": true
   },
   "outputs": [],
   "source": [
    "y=df.A1RC[:20000]\n",
    "\n",
    "dftest=scaler.fit_transform(df[:20000])\n",
    "dftest=pd.DataFrame(dftest)"
   ]
  },
  {
   "cell_type": "code",
   "execution_count": null,
   "metadata": {
    "collapsed": true
   },
   "outputs": [],
   "source": [
    "df.drop(['A1RC'], axis=1, inplace=True)"
   ]
  },
  {
   "cell_type": "code",
   "execution_count": null,
   "metadata": {
    "collapsed": true
   },
   "outputs": [],
   "source": [
    "from sklearn.ensemble import ExtraTreesRegressor\n",
    "clf = ExtraTreesRegressor()\n",
    "clf.fit(dftest, y)\n",
    "col=df.columns\n",
    "imp=clf.feature_importances_\n",
    "fet=[list(col), list(imp)]\n",
    "fordata=pd.DataFrame(np.array(fet).T)\n",
    "fordata.sort_values(by=1, ascending=False)"
   ]
  },
  {
   "cell_type": "code",
   "execution_count": null,
   "metadata": {
    "collapsed": true
   },
   "outputs": [],
   "source": [
    "score = cross_val_score(clf, dftest, y).mean()\n",
    "score"
   ]
  },
  {
   "cell_type": "code",
   "execution_count": null,
   "metadata": {
    "collapsed": true
   },
   "outputs": [],
   "source": [
    "#saving\n",
    "sort=fordata.sort_values(by=1, ascending=False)\n",
    "writer = ExcelWriter(location2)\n",
    "sort.to_excel(writer,'uhod')\n",
    "writer.save() \n"
   ]
  },
  {
   "cell_type": "markdown",
   "metadata": {},
   "source": [
    "# segmentation"
   ]
  },
  {
   "cell_type": "code",
   "execution_count": null,
   "metadata": {
    "collapsed": true
   },
   "outputs": [],
   "source": [
    "col=df.columns[:16]\n",
    "for q in col:\n",
    "    df[q]=df[q].fillna(0)\n",
    "col2=df.columns[16:]\n",
    "for q in col2:\n",
    "    df[q]=df[q].fillna(1)"
   ]
  },
  {
   "cell_type": "code",
   "execution_count": null,
   "metadata": {
    "collapsed": true
   },
   "outputs": [],
   "source": [
    "kmeans = KMeans(n_clusters=10, init='k-means++').fit(df[col2])\n",
    "kmeans.labels_ "
   ]
  },
  {
   "cell_type": "code",
   "execution_count": null,
   "metadata": {
    "collapsed": true
   },
   "outputs": [],
   "source": [
    "from sklearn.cluster import DBSCAN\n",
    "db = DBSCAN(eps=0.3, min_samples=10).fit(df[col2])\n",
    "\n",
    "df[\"kLabels\"]=pd.Series(kmeans.labels_) "
   ]
  },
  {
   "cell_type": "code",
   "execution_count": null,
   "metadata": {
    "collapsed": true
   },
   "outputs": [],
   "source": [
    "df[col2]=scaler.fit_transform(df[col2])\n",
    "\n",
    "df['CLV']=0.087*df.R + 0.345*df.F + 0.653*df.M"
   ]
  },
  {
   "cell_type": "code",
   "execution_count": null,
   "metadata": {
    "collapsed": true
   },
   "outputs": [],
   "source": [
    "writer = ExcelWriter(location2)\n",
    "df.to_excel(writer)\n",
    "writer.save()"
   ]
  },
  {
   "cell_type": "code",
   "execution_count": null,
   "metadata": {
    "collapsed": true
   },
   "outputs": [],
   "source": [
    "y=df.claster\n",
    "X=df[['BD_code', 'IS_TD','IS_CREDIT', 'IS_CARD', 'IS_CC', 'IS_DC', 'Unsecured', 'mortgage',\n",
    "       'A3RC', 'A3ATM', 'A3POS', 'A3Br']]"
   ]
  },
  {
   "cell_type": "code",
   "execution_count": null,
   "metadata": {
    "collapsed": true
   },
   "outputs": [],
   "source": [
    "scores = cross_val_score(clf, X, y)"
   ]
  },
  {
   "cell_type": "code",
   "execution_count": null,
   "metadata": {
    "collapsed": true
   },
   "outputs": [],
   "source": [
    "clf = RandomForestClassifier(n_estimators=10, max_depth=None, min_samples_split=2, random_state=0).fit(X,y)\n",
    "scores = cross_val_score(clf, X, y)\n",
    "scores.mean()  \n",
    "col=X.columns\n",
    "imp=clf.feature_importances_\n",
    "fet=[col, imp]\n",
    "fordata=pd.DataFrame(np.array(fet).T)\n",
    "fordata.sort(1, ascending=False)"
   ]
  },
  {
   "cell_type": "code",
   "execution_count": null,
   "metadata": {
    "collapsed": true
   },
   "outputs": [],
   "source": [
    "#регрессия на clv\n",
    "y=df.CLV\n",
    "clf=LogisticRegression(penalty='l1', multi_class='multinomial')\n",
    "clf.fit(X, y)\n",
    "clf = ExtraTreesRegressor()\n",
    "clf.fit(X, y)"
   ]
  }
 ],
 "metadata": {
  "anaconda-cloud": {},
  "kernelspec": {
   "display_name": "Python 3",
   "language": "python",
   "name": "python3"
  },
  "language_info": {
   "codemirror_mode": {
    "name": "ipython",
    "version": 2
   },
   "file_extension": ".py",
   "mimetype": "text/x-python",
   "name": "python",
   "nbconvert_exporter": "python",
   "pygments_lexer": "ipython2",
   "version": "2.7.5"
  }
 },
 "nbformat": 4,
 "nbformat_minor": 1
}
