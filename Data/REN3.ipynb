{
 "cells": [
  {
   "cell_type": "code",
   "execution_count": 1,
   "metadata": {
    "collapsed": false
   },
   "outputs": [],
   "source": [
    "import pandas as pd\n",
    "import numpy as np\n",
    "from sklearn.preprocessing import StandardScaler\n",
    "from sklearn.preprocessing import LabelEncoder\n",
    "from pandas import ExcelWriter\n",
    "import seaborn as sns\n",
    "import matplotlib.pyplot as plt\n",
    "sns.set(style=\"white\", color_codes=True)\n",
    "%matplotlib inline"
   ]
  },
  {
   "cell_type": "code",
   "execution_count": 40,
   "metadata": {
    "collapsed": false
   },
   "outputs": [],
   "source": [
    "location='выборка.xlsx'\n",
    "df=pd.read_excel(location)"
   ]
  },
  {
   "cell_type": "code",
   "execution_count": 41,
   "metadata": {
    "collapsed": false
   },
   "outputs": [
    {
     "data": {
      "text/plain": [
       "Index(['№ страхового события', 'Участник 1', 'Участник 2'], dtype='object')"
      ]
     },
     "execution_count": 41,
     "metadata": {},
     "output_type": "execute_result"
    }
   ],
   "source": [
    "df.columns"
   ]
  },
  {
   "cell_type": "code",
   "execution_count": 42,
   "metadata": {
    "collapsed": false
   },
   "outputs": [],
   "source": [
    "df=df.drop('№ страхового события', axis=1)"
   ]
  },
  {
   "cell_type": "markdown",
   "metadata": {},
   "source": [
    "Смотрим на наличие пропусков"
   ]
  },
  {
   "cell_type": "code",
   "execution_count": 43,
   "metadata": {
    "collapsed": false
   },
   "outputs": [
    {
     "data": {
      "text/plain": [
       "False"
      ]
     },
     "execution_count": 43,
     "metadata": {},
     "output_type": "execute_result"
    }
   ],
   "source": [
    "df.isnull().values.any()"
   ]
  },
  {
   "cell_type": "markdown",
   "metadata": {},
   "source": [
    "Смотрим, кто был во многих ДТП"
   ]
  },
  {
   "cell_type": "code",
   "execution_count": 44,
   "metadata": {
    "collapsed": false
   },
   "outputs": [
    {
     "data": {
      "text/plain": [
       "Дорофеева Гулия Николаевна       2\n",
       "Мамонтов Мстислав Георгиевич     2\n",
       "Сенчукова Екатерина Семеновна    2\n",
       "Воробьев Иван Александрович      1\n",
       "Мамонтова Саида Никифоровна      1\n",
       "Name: Участник 2, dtype: int64"
      ]
     },
     "execution_count": 44,
     "metadata": {},
     "output_type": "execute_result"
    }
   ],
   "source": [
    "df['Участник 2'].value_counts().head()"
   ]
  },
  {
   "cell_type": "code",
   "execution_count": 45,
   "metadata": {
    "collapsed": false
   },
   "outputs": [
    {
     "data": {
      "text/plain": [
       "Дорофеева Гулия Николаевна         3\n",
       "Стрелков Евгений Егорович          2\n",
       "Котова Виктория Архиповна          2\n",
       "Мухамадеев Александр Валерьевич    2\n",
       "Дмитриев Радик Иванович            1\n",
       "Name: Участник 1, dtype: int64"
      ]
     },
     "execution_count": 45,
     "metadata": {},
     "output_type": "execute_result"
    }
   ],
   "source": [
    "df['Участник 1'].value_counts().head()"
   ]
  },
  {
   "cell_type": "markdown",
   "metadata": {},
   "source": [
    "Дорофеева Гулия Николаевна была несколько раз и 1 и 2 участником, скорее всего фрод"
   ]
  },
  {
   "cell_type": "markdown",
   "metadata": {},
   "source": [
    "Разобьем ФИО на составляющие и проверим, были ли ДТП с одинаковыми фамилиями, возможно это родственники, которые подстроили ДТП"
   ]
  },
  {
   "cell_type": "code",
   "execution_count": 46,
   "metadata": {
    "collapsed": false
   },
   "outputs": [],
   "source": [
    "df1=df['Участник 1'].str.split(' ', expand=True)\n",
    "df1.columns=['S1', 'N1', 'P1']\n",
    "df2=df['Участник 2'].str.split(' ', expand=True)\n",
    "df2.columns=['S2', 'N2', 'P2']"
   ]
  },
  {
   "cell_type": "code",
   "execution_count": 47,
   "metadata": {
    "collapsed": false
   },
   "outputs": [],
   "source": [
    "df = pd.concat([df1, df2], axis=1)"
   ]
  },
  {
   "cell_type": "code",
   "execution_count": 48,
   "metadata": {
    "collapsed": false,
    "scrolled": true
   },
   "outputs": [
    {
     "data": {
      "text/html": [
       "<div>\n",
       "<table border=\"1\" class=\"dataframe\">\n",
       "  <thead>\n",
       "    <tr style=\"text-align: right;\">\n",
       "      <th></th>\n",
       "      <th>S1</th>\n",
       "      <th>N1</th>\n",
       "      <th>P1</th>\n",
       "      <th>S2</th>\n",
       "      <th>N2</th>\n",
       "      <th>P2</th>\n",
       "    </tr>\n",
       "  </thead>\n",
       "  <tbody>\n",
       "    <tr>\n",
       "      <th>0</th>\n",
       "      <td>Беляев</td>\n",
       "      <td>Владислав</td>\n",
       "      <td>Аркадьевич</td>\n",
       "      <td>Ефимов</td>\n",
       "      <td>Малик</td>\n",
       "      <td>Константинович</td>\n",
       "    </tr>\n",
       "    <tr>\n",
       "      <th>1</th>\n",
       "      <td>Давыдова</td>\n",
       "      <td>Ануш</td>\n",
       "      <td>Оскаровна</td>\n",
       "      <td>Никифорова</td>\n",
       "      <td>Божена</td>\n",
       "      <td>Львовна</td>\n",
       "    </tr>\n",
       "    <tr>\n",
       "      <th>2</th>\n",
       "      <td>Белов</td>\n",
       "      <td>Сергей</td>\n",
       "      <td>Михайлович</td>\n",
       "      <td>Третьяков</td>\n",
       "      <td>Никита</td>\n",
       "      <td>Харитонович</td>\n",
       "    </tr>\n",
       "    <tr>\n",
       "      <th>3</th>\n",
       "      <td>Власов</td>\n",
       "      <td>Артём</td>\n",
       "      <td>Михайлович</td>\n",
       "      <td>Аксенова</td>\n",
       "      <td>Вероника</td>\n",
       "      <td>Кузьминична</td>\n",
       "    </tr>\n",
       "    <tr>\n",
       "      <th>4</th>\n",
       "      <td>Яковлев</td>\n",
       "      <td>Алан</td>\n",
       "      <td>Макарович</td>\n",
       "      <td>Сысоев</td>\n",
       "      <td>Елисей</td>\n",
       "      <td>Тимофеевич</td>\n",
       "    </tr>\n",
       "  </tbody>\n",
       "</table>\n",
       "</div>"
      ],
      "text/plain": [
       "         S1         N1          P1          S2        N2              P2\n",
       "0    Беляев  Владислав  Аркадьевич      Ефимов     Малик  Константинович\n",
       "1  Давыдова       Ануш   Оскаровна  Никифорова    Божена         Львовна\n",
       "2     Белов     Сергей  Михайлович   Третьяков    Никита     Харитонович\n",
       "3    Власов      Артём  Михайлович    Аксенова  Вероника     Кузьминична\n",
       "4   Яковлев       Алан   Макарович      Сысоев    Елисей      Тимофеевич"
      ]
     },
     "execution_count": 48,
     "metadata": {},
     "output_type": "execute_result"
    }
   ],
   "source": [
    "df.head()"
   ]
  },
  {
   "cell_type": "code",
   "execution_count": 50,
   "metadata": {
    "collapsed": false
   },
   "outputs": [
    {
     "data": {
      "text/html": [
       "<div>\n",
       "<table border=\"1\" class=\"dataframe\">\n",
       "  <thead>\n",
       "    <tr style=\"text-align: right;\">\n",
       "      <th></th>\n",
       "      <th>S1</th>\n",
       "      <th>N1</th>\n",
       "      <th>P1</th>\n",
       "      <th>S2</th>\n",
       "      <th>N2</th>\n",
       "      <th>P2</th>\n",
       "    </tr>\n",
       "  </thead>\n",
       "  <tbody>\n",
       "  </tbody>\n",
       "</table>\n",
       "</div>"
      ],
      "text/plain": [
       "Empty DataFrame\n",
       "Columns: [S1, N1, P1, S2, N2, P2]\n",
       "Index: []"
      ]
     },
     "execution_count": 50,
     "metadata": {},
     "output_type": "execute_result"
    }
   ],
   "source": [
    "df[df.S1==df.S2]"
   ]
  },
  {
   "cell_type": "code",
   "execution_count": 53,
   "metadata": {
    "collapsed": false
   },
   "outputs": [
    {
     "data": {
      "text/html": [
       "<div>\n",
       "<table border=\"1\" class=\"dataframe\">\n",
       "  <thead>\n",
       "    <tr style=\"text-align: right;\">\n",
       "      <th></th>\n",
       "      <th>S1</th>\n",
       "      <th>N1</th>\n",
       "      <th>P1</th>\n",
       "      <th>S2</th>\n",
       "      <th>N2</th>\n",
       "      <th>P2</th>\n",
       "    </tr>\n",
       "  </thead>\n",
       "  <tbody>\n",
       "  </tbody>\n",
       "</table>\n",
       "</div>"
      ],
      "text/plain": [
       "Empty DataFrame\n",
       "Columns: [S1, N1, P1, S2, N2, P2]\n",
       "Index: []"
      ]
     },
     "execution_count": 53,
     "metadata": {},
     "output_type": "execute_result"
    }
   ],
   "source": [
    "df[df.N1==df.N2]"
   ]
  },
  {
   "cell_type": "code",
   "execution_count": 52,
   "metadata": {
    "collapsed": false
   },
   "outputs": [
    {
     "data": {
      "text/html": [
       "<div>\n",
       "<table border=\"1\" class=\"dataframe\">\n",
       "  <thead>\n",
       "    <tr style=\"text-align: right;\">\n",
       "      <th></th>\n",
       "      <th>S1</th>\n",
       "      <th>N1</th>\n",
       "      <th>P1</th>\n",
       "      <th>S2</th>\n",
       "      <th>N2</th>\n",
       "      <th>P2</th>\n",
       "    </tr>\n",
       "  </thead>\n",
       "  <tbody>\n",
       "    <tr>\n",
       "      <th>252</th>\n",
       "      <td>Мишин</td>\n",
       "      <td>Ратибор</td>\n",
       "      <td>Денисович</td>\n",
       "      <td>Алексеев</td>\n",
       "      <td>Игорь</td>\n",
       "      <td>Денисович</td>\n",
       "    </tr>\n",
       "  </tbody>\n",
       "</table>\n",
       "</div>"
      ],
      "text/plain": [
       "        S1       N1         P1        S2     N2         P2\n",
       "252  Мишин  Ратибор  Денисович  Алексеев  Игорь  Денисович"
      ]
     },
     "execution_count": 52,
     "metadata": {},
     "output_type": "execute_result"
    }
   ],
   "source": [
    "df[df.P1==df.P2]"
   ]
  },
  {
   "cell_type": "markdown",
   "metadata": {},
   "source": [
    "Нет совпадающих фамилий и даже имён, есть одно отчестно, но это похоже на совпадение, надо проверить схожие фамилии, удалим букву \"а\" с конца фамилий"
   ]
  },
  {
   "cell_type": "code",
   "execution_count": 76,
   "metadata": {
    "collapsed": false
   },
   "outputs": [],
   "source": [
    "for i in range(len(df.S1)):\n",
    "    if df.S1[i][-1]=='а':\n",
    "        df.S1[i]=df.S1[i][:-1]\n",
    "for i in range(len(df.S2)):\n",
    "    if df.S2[i][-1]=='а':\n",
    "        df.S2[i]=df.S2[i][:-1]"
   ]
  },
  {
   "cell_type": "code",
   "execution_count": 78,
   "metadata": {
    "collapsed": false,
    "scrolled": true
   },
   "outputs": [
    {
     "data": {
      "text/html": [
       "<div>\n",
       "<table border=\"1\" class=\"dataframe\">\n",
       "  <thead>\n",
       "    <tr style=\"text-align: right;\">\n",
       "      <th></th>\n",
       "      <th>S1</th>\n",
       "      <th>N1</th>\n",
       "      <th>P1</th>\n",
       "      <th>S2</th>\n",
       "      <th>N2</th>\n",
       "      <th>P2</th>\n",
       "    </tr>\n",
       "  </thead>\n",
       "  <tbody>\n",
       "  </tbody>\n",
       "</table>\n",
       "</div>"
      ],
      "text/plain": [
       "Empty DataFrame\n",
       "Columns: [S1, N1, P1, S2, N2, P2]\n",
       "Index: []"
      ]
     },
     "execution_count": 78,
     "metadata": {},
     "output_type": "execute_result"
    }
   ],
   "source": [
    "df[df.S1==df.S2]"
   ]
  },
  {
   "cell_type": "markdown",
   "metadata": {},
   "source": [
    "Смотрим популярные Фамилии без пола, снова Дорофеев, еще добавились Стрелков, Павлов, Мамонтов, но возможно, что это совпадение"
   ]
  },
  {
   "cell_type": "code",
   "execution_count": 83,
   "metadata": {
    "collapsed": false
   },
   "outputs": [
    {
     "name": "stdout",
     "output_type": "stream",
     "text": [
      "Павлов          3\n",
      "Стрелков        3\n",
      "Дорофеев        3\n",
      "Ситников        2\n",
      "Шестаков        2\n",
      "Морозов         2\n",
      "Красильников    2\n",
      "Селиверстов     2\n",
      "Кириллов        2\n",
      "Савельев        2\n",
      "Name: S1, dtype: int64 \n",
      "\n",
      "Дорофеев      3\n",
      "Мамонтов      3\n",
      "Семенов       2\n",
      "Беляков       2\n",
      "Калашников    2\n",
      "Чернов        2\n",
      "Степанов      2\n",
      "Пахомов       2\n",
      "Белоусов      2\n",
      "Лихачев       2\n",
      "Name: S2, dtype: int64\n"
     ]
    }
   ],
   "source": [
    "print (df.S1.value_counts()[:10], '\\n')\n",
    "print (df.S2.value_counts()[:10])"
   ]
  },
  {
   "cell_type": "code",
   "execution_count": 85,
   "metadata": {
    "collapsed": false
   },
   "outputs": [
    {
     "data": {
      "text/html": [
       "<div>\n",
       "<table border=\"1\" class=\"dataframe\">\n",
       "  <thead>\n",
       "    <tr style=\"text-align: right;\">\n",
       "      <th></th>\n",
       "      <th>S1</th>\n",
       "      <th>N1</th>\n",
       "      <th>P1</th>\n",
       "      <th>S2</th>\n",
       "      <th>N2</th>\n",
       "      <th>P2</th>\n",
       "    </tr>\n",
       "  </thead>\n",
       "  <tbody>\n",
       "  </tbody>\n",
       "</table>\n",
       "</div>"
      ],
      "text/plain": [
       "Empty DataFrame\n",
       "Columns: [S1, N1, P1, S2, N2, P2]\n",
       "Index: []"
      ]
     },
     "execution_count": 85,
     "metadata": {},
     "output_type": "execute_result"
    }
   ],
   "source": [
    "df[df.S1==df.S2]"
   ]
  },
  {
   "cell_type": "markdown",
   "metadata": {},
   "source": [
    "Всё равно не нашли тех, кто мог подстроить ДТП с родственниками"
   ]
  }
 ],
 "metadata": {
  "anaconda-cloud": {},
  "kernelspec": {
   "display_name": "Python 3",
   "language": "python",
   "name": "python3"
  },
  "language_info": {
   "codemirror_mode": {
    "name": "ipython",
    "version": 3
   },
   "file_extension": ".py",
   "mimetype": "text/x-python",
   "name": "python",
   "nbconvert_exporter": "python",
   "pygments_lexer": "ipython3",
   "version": "3.5.2"
  }
 },
 "nbformat": 4,
 "nbformat_minor": 1
}
