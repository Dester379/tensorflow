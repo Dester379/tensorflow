{
 "cells": [
  {
   "cell_type": "markdown",
   "metadata": {},
   "source": [
    "# 1.\tPython"
   ]
  },
  {
   "cell_type": "markdown",
   "metadata": {},
   "source": [
    "a)В python2.7 есть ф-ции range, и xrange, в чем разница? "
   ]
  },
  {
   "cell_type": "raw",
   "metadata": {},
   "source": [
    "range возвращает лист и держит весь лист в памяти сразу\n",
    "xrange возвращает итератор и держит лишь одно значение в памяти в один момент"
   ]
  },
  {
   "cell_type": "markdown",
   "metadata": {},
   "source": [
    "b)\tНаписать на python 2 или 3 генератор чисел фибоначи."
   ]
  },
  {
   "cell_type": "code",
   "execution_count": 22,
   "metadata": {
    "collapsed": true
   },
   "outputs": [],
   "source": [
    "def fibonacci_generator(n):\n",
    "    df=np.zeros(n+1, dtype=int) \n",
    "    df[0]=0\n",
    "    df[1]=1\n",
    "    for i in range(2, n+1):\n",
    "        df[i]=df[i-1]+df[i-2]\n",
    "    yield df"
   ]
  },
  {
   "cell_type": "code",
   "execution_count": 24,
   "metadata": {
    "collapsed": false
   },
   "outputs": [
    {
     "name": "stdout",
     "output_type": "stream",
     "text": [
      "[ 0  1  1  2  3  5  8 13 21 34 55]\n"
     ]
    }
   ],
   "source": [
    "# вывести первые 10 числе фибоначи\n",
    "n = 10\n",
    "for num in fibonacci_generator(n):\n",
    "              print(num)"
   ]
  },
  {
   "cell_type": "markdown",
   "metadata": {},
   "source": [
    "# 2.\tНаписать Sql-запросы"
   ]
  },
  {
   "cell_type": "markdown",
   "metadata": {},
   "source": [
    "1.\tВывести отдел с наибольшим числом сотрудников;"
   ]
  },
  {
   "cell_type": "raw",
   "metadata": {},
   "source": [
    "#Код для SAS \n",
    "PROC SQL outobs=1;   CREATE TABLE q1 AS \n",
    "SELECT count(t1.id) as count,t2.name \n",
    "FROM personal t1 left join department t2 on t1.id_dep=t2.id\n",
    "group by id_dep, t2.name\n",
    "order by count desc\n",
    ";QUIT;\n",
    "\n",
    "#для MySQL\n",
    "SELECT top 1count(t1.id) as count,t2.name \n",
    "FROM personal t1 left join department t2 on t1.id_dep=t2.id\n",
    "group by id_dep, t2.name\n",
    "order by count desc"
   ]
  },
  {
   "cell_type": "markdown",
   "metadata": {},
   "source": [
    "2.\tВывести список сотрудников, получающих заработную плату выше, чем у руководителя;"
   ]
  },
  {
   "cell_type": "raw",
   "metadata": {},
   "source": [
    "PROC SQL;   CREATE TABLE q2 AS \n",
    "SELECT t1.name, t1.sal \n",
    "FROM personal t1 left join \n",
    "\t(select *, sal as head_sal\n",
    "\tfrom  personal\n",
    "\twhere id=id_head) \n",
    "\tt2 on t1.id_dep=t2.id_dep\n",
    "where t1.sal>t2.head_sal;QUIT;"
   ]
  },
  {
   "cell_type": "markdown",
   "metadata": {},
   "source": [
    "# 3.\tMachine Learning"
   ]
  },
  {
   "cell_type": "code",
   "execution_count": 149,
   "metadata": {
    "collapsed": false
   },
   "outputs": [],
   "source": [
    "import pandas as pd\n",
    "import numpy as np\n",
    "from sklearn.preprocessing import StandardScaler\n",
    "from sklearn.preprocessing import LabelEncoder\n",
    "import matplotlib.pyplot as plt\n",
    "from pandas import ExcelWriter\n",
    "from sklearn.grid_search import GridSearchCV\n",
    "from sklearn.cross_validation import KFold\n",
    "from sklearn.cross_validation import cross_val_score\n",
    "from sklearn.cross_validation import train_test_split\n",
    "from sklearn.metrics import f1_score, coverage_error, label_ranking_loss, mean_squared_error\n",
    "#classificators\n",
    "from sklearn.linear_model import LogisticRegression\n",
    "from sklearn.ensemble import GradientBoostingClassifier\n",
    "from sklearn.ensemble import RandomForestClassifier\n",
    "from sklearn.ensemble import ExtraTreesClassifier"
   ]
  },
  {
   "cell_type": "code",
   "execution_count": 150,
   "metadata": {
    "collapsed": true
   },
   "outputs": [],
   "source": [
    "scaler = StandardScaler()\n",
    "label = LabelEncoder()"
   ]
  },
  {
   "cell_type": "code",
   "execution_count": 151,
   "metadata": {
    "collapsed": true
   },
   "outputs": [],
   "source": [
    "df=pd.read_excel('train.xlsx')\n",
    "test=pd.read_excel('test.xlsx')"
   ]
  },
  {
   "cell_type": "code",
   "execution_count": 152,
   "metadata": {
    "collapsed": true
   },
   "outputs": [],
   "source": [
    "df2=df.copy()\n",
    "test2=test.copy()"
   ]
  },
  {
   "cell_type": "markdown",
   "metadata": {},
   "source": [
    "Были созданы фичи: к-во переводов с региона, к-во переводов на регион, максимальное, минимальное, среднее количество, сумма, std переводов от 1 компании к другой и т.д."
   ]
  },
  {
   "cell_type": "raw",
   "metadata": {},
   "source": [
    "\n",
    "/*Zadacha*/\n",
    "/*TRAIN*/\n",
    "PROC SQL;   CREATE TABLE q3 AS \n",
    "SELECT t1.*, t2.Feat4 as reg1, t3.Feat4 as reg2\n",
    "FROM df_edges_orig t1 left join df_nodes_train t2 on t1.NodeLeft=t2.Node left join df_nodes_train t3 on t1.NodeRight=t3.Node\t\n",
    ";QUIT;\n",
    "\n",
    "PROC SQL; CREATE TABLE from_reg AS SELECT (COUNT(t1.NodeLeft)) AS fCOUNT_of_NodeLeft, \n",
    "(MEAN(t1.Feat1)) FORMAT=BEST20. AS fMEAN_of_Feat1, (MAX(t1.Feat1)) FORMAT=BEST20. AS fMAX_of_Feat1, (MIN(t1.Feat1)) FORMAT=BEST20. AS fMIN_of_Feat1, \n",
    "(STD(t1.Feat1)) AS fSTD_of_Feat1, (STD(t1.Feat2)) AS fSTD_of_Feat1,\n",
    "(MEAN(t1.Feat2)) FORMAT=BEST22. AS fMEAN_of_Feat2,(MAX(t1.Feat2)) FORMAT=BEST22. AS fMAX_of_Feat2,(MIN(t1.Feat2)) FORMAT=BEST22. AS fMIN_of_Feat2, t1.reg1, \n",
    "(COUNT(DISTINCT(t1.NodeLeft))) AS fCOUNT_DISTINCT_of_NodeLeft, (COUNT(DISTINCT(t1.NodeRight))) AS fCOUNT_DISTINCT_of_NodeRight FROM WORK.Q3 t1 GROUP BY t1.reg1;QUIT;\n",
    "\n",
    "PROC SQL; CREATE TABLE to_reg AS SELECT (COUNT(t1.NodeLeft)) AS COUNT_of_NodeLeft, \n",
    "(MEAN(t1.Feat1)) FORMAT=BEST20. AS MEAN_of_Feat1, (MAX(t1.Feat1)) FORMAT=BEST20. AS MAX_of_Feat1, (MIN(t1.Feat1)) FORMAT=BEST20. AS MIN_of_Feat1, \n",
    " (STD(t1.Feat1)) AS STD_of_Feat1, (STD(t1.Feat2)) AS STD_of_Feat1,\n",
    "(MEAN(t1.Feat2)) FORMAT=BEST22. AS MEAN_of_Feat2,(MAX(t1.Feat2)) FORMAT=BEST22. AS MAX_of_Feat2,(MIN(t1.Feat2)) FORMAT=BEST22. AS MIN_of_Feat2, t1.reg2, \n",
    "(COUNT(DISTINCT(t1.NodeLeft))) AS COUNT_DISTINCT_of_NodeLeft, (COUNT(DISTINCT(t1.NodeRight))) AS COUNT_DISTINCT_of_NodeRight FROM WORK.Q3 t1 GROUP BY t1.reg2;QUIT;\n",
    "\n",
    "\n",
    "/*Количество компаний каждой отрасли в данном регионе*/\n",
    "PROC SQL;\tCREATE VIEW WORK.SORTTEMPTABLESORTED_0000 AS\n",
    "\t\tSELECT T.COUNT_of_Node, T.Y, T.Feat4\n",
    "\tFROM WORK.QUERY_FOR_DF_NODES_TRAIN as T;QUIT;\n",
    "PROC TRANSPOSE DATA=WORK.SORTTEMPTABLESORTED_0000\tOUT=WORK.TRNSTransposed(LABEL=\"Transposed WORK.QUERY_FOR_DF_NODES_TRAIN\")\tPREFIX=Column\tLET\tNAME=Source\tLABEL=Label;\tBY Feat4;\tID Y;\tVAR COUNT_of_Node;RUN; QUIT;\n",
    "\n",
    "PROC SQL;   CREATE TABLE q4 AS \n",
    "SELECT t1.*, t2.*, t3.*\n",
    "FROM df_nodes_train t1 left join TRNSTransposed t2 on t1.feat4=t2.feat4 left join from_reg t3 on t1.feat4=t3.reg1 left join to_reg t3 on t1.feat4=t3.reg2\t\n",
    ";QUIT;\n",
    "\n",
    "PROC SQL; CREATE TABLE from_node AS \n",
    "   SELECT t1.NodeLeft, \n",
    "            (COUNT(t1.NodeRight)) AS qCOUNT_of_NodeRight, \n",
    "            (COUNT(DISTINCT(t1.NodeRight))) AS qCOUNT_DISTINCT_of_NodeRight, \n",
    "            (MEAN(t1.Feat1)) FORMAT=BEST20. AS qMEAN_of_Feat1, \n",
    "          /* MAX_of_Feat1 */\n",
    "            (MAX(t1.Feat1)) FORMAT=BEST20. AS qMAX_of_Feat1, \n",
    "          /* STD_of_Feat1 */\n",
    "            (STD(t1.Feat1)) AS qSTD_of_Feat1, \n",
    "            (MEAN(t1.Feat2)) FORMAT=BEST22. AS qMEAN_of_Feat2, \n",
    "            (MAX(t1.Feat2)) FORMAT=BEST22. AS qMAX_of_Feat2, \n",
    "            (STD(t1.Feat2)) AS qSTD_of_Feat2, \n",
    "            (COUNT(DISTINCT(t1.reg1))) AS qCOUNT_DISTINCT_of_reg1, \n",
    "            (COUNT(DISTINCT(t1.reg2))) AS qCOUNT_DISTINCT_of_reg2\n",
    "      FROM WORK.Q3 t1\n",
    "      GROUP BY t1.NodeLeft;\n",
    "QUIT;\n",
    "\n",
    "PROC SQL; CREATE TABLE to_node AS \n",
    "   SELECT t1.NodeRight, \n",
    "            (COUNT(t1.NodeLeft)) AS wCOUNT_of_NodeLeft, \n",
    "            (COUNT(DISTINCT(t1.NodeLeft))) AS wCOUNT_DISTINCT_of_NodeLeft, \n",
    "            (MEAN(t1.Feat1)) FORMAT=BEST20. AS wMEAN_of_Feat1, \n",
    "          /* MAX_of_Feat1 */\n",
    "            (MAX(t1.Feat1)) FORMAT=BEST20. AS wMAX_of_Feat1, \n",
    "          /* STD_of_Feat1 */\n",
    "            (STD(t1.Feat1)) AS wSTD_of_Feat1, \n",
    "            (MEAN(t1.Feat2)) FORMAT=BEST22. AS wMEAN_of_Feat2, \n",
    "            (MAX(t1.Feat2)) FORMAT=BEST22. AS wMAX_of_Feat2, \n",
    "            (STD(t1.Feat2)) AS wSTD_of_Feat2, \n",
    "            (COUNT(DISTINCT(t1.reg1))) AS wCOUNT_DISTINCT_of_reg1, \n",
    "            (COUNT(DISTINCT(t1.reg2))) AS wCOUNT_DISTINCT_of_reg2\n",
    "      FROM WORK.Q3 t1\n",
    "      GROUP BY t1.NodeRight;\n",
    "QUIT;\n",
    "\n",
    "PROC SQL;   CREATE TABLE q5 AS \n",
    "SELECT t1.*, t2.*, t3.*\n",
    "FROM q4 t1 left join from_node t2 on t1.Node=t2.NodeLeft left join to_node t3 on t1.Node=t3.NodeRight \n",
    ";QUIT;\n",
    "\n",
    "/*TEST*/\n",
    "PROC SQL;   CREATE TABLE te1 AS \n",
    "SELECT t1.*, t2.*, t3.*\n",
    "FROM df_nodes_test_publ t1 left join TRNSTransposed t2 on t1.feat4=t2.feat4 left join from_reg t3 on t1.feat4=t3.reg1 left join to_reg t3 on t1.feat4=t3.reg2\t\n",
    ";QUIT;\n",
    "PROC SQL;   CREATE TABLE te2 AS \n",
    "SELECT t1.*, t2.*, t3.*\n",
    "FROM te1 t1 left join from_node t2 on t1.Node=t2.NodeLeft left join to_node t3 on t1.Node=t3.NodeRight \n",
    ";QUIT;"
   ]
  },
  {
   "cell_type": "code",
   "execution_count": 153,
   "metadata": {
    "collapsed": false
   },
   "outputs": [
    {
     "data": {
      "text/html": [
       "<div>\n",
       "<table border=\"1\" class=\"dataframe\">\n",
       "  <thead>\n",
       "    <tr style=\"text-align: right;\">\n",
       "      <th></th>\n",
       "      <th>Node</th>\n",
       "      <th>Feat4</th>\n",
       "      <th>Y</th>\n",
       "      <th>Column0</th>\n",
       "      <th>Column4</th>\n",
       "      <th>Column6</th>\n",
       "      <th>Column7</th>\n",
       "      <th>Column10</th>\n",
       "      <th>Column12</th>\n",
       "      <th>Column13</th>\n",
       "      <th>...</th>\n",
       "      <th>wCOUNT_of_NodeLeft</th>\n",
       "      <th>wCOUNT_DISTINCT_of_NodeLeft</th>\n",
       "      <th>wMEAN_of_Feat1</th>\n",
       "      <th>wMAX_of_Feat1</th>\n",
       "      <th>wSTD_of_Feat1</th>\n",
       "      <th>wMEAN_of_Feat2</th>\n",
       "      <th>wMAX_of_Feat2</th>\n",
       "      <th>wSTD_of_Feat2</th>\n",
       "      <th>wCOUNT_DISTINCT_of_reg1</th>\n",
       "      <th>wCOUNT_DISTINCT_of_reg2</th>\n",
       "    </tr>\n",
       "  </thead>\n",
       "  <tbody>\n",
       "    <tr>\n",
       "      <th>0</th>\n",
       "      <td>0</td>\n",
       "      <td>0</td>\n",
       "      <td>35</td>\n",
       "      <td>20.0</td>\n",
       "      <td>1.0</td>\n",
       "      <td>4.0</td>\n",
       "      <td>19.0</td>\n",
       "      <td>2.0</td>\n",
       "      <td>6.0</td>\n",
       "      <td>1.0</td>\n",
       "      <td>...</td>\n",
       "      <td>NaN</td>\n",
       "      <td>NaN</td>\n",
       "      <td>NaN</td>\n",
       "      <td>NaN</td>\n",
       "      <td>NaN</td>\n",
       "      <td>NaN</td>\n",
       "      <td>NaN</td>\n",
       "      <td>NaN</td>\n",
       "      <td>NaN</td>\n",
       "      <td>NaN</td>\n",
       "    </tr>\n",
       "    <tr>\n",
       "      <th>1</th>\n",
       "      <td>1</td>\n",
       "      <td>0</td>\n",
       "      <td>7</td>\n",
       "      <td>20.0</td>\n",
       "      <td>1.0</td>\n",
       "      <td>4.0</td>\n",
       "      <td>19.0</td>\n",
       "      <td>2.0</td>\n",
       "      <td>6.0</td>\n",
       "      <td>1.0</td>\n",
       "      <td>...</td>\n",
       "      <td>4.0</td>\n",
       "      <td>4.0</td>\n",
       "      <td>0.047986</td>\n",
       "      <td>0.139597</td>\n",
       "      <td>0.065871</td>\n",
       "      <td>0.005768</td>\n",
       "      <td>0.013179</td>\n",
       "      <td>0.005402</td>\n",
       "      <td>2.0</td>\n",
       "      <td>1.0</td>\n",
       "    </tr>\n",
       "    <tr>\n",
       "      <th>2</th>\n",
       "      <td>2</td>\n",
       "      <td>0</td>\n",
       "      <td>35</td>\n",
       "      <td>20.0</td>\n",
       "      <td>1.0</td>\n",
       "      <td>4.0</td>\n",
       "      <td>19.0</td>\n",
       "      <td>2.0</td>\n",
       "      <td>6.0</td>\n",
       "      <td>1.0</td>\n",
       "      <td>...</td>\n",
       "      <td>4.0</td>\n",
       "      <td>1.0</td>\n",
       "      <td>0.008725</td>\n",
       "      <td>0.008725</td>\n",
       "      <td>0.000000</td>\n",
       "      <td>0.000524</td>\n",
       "      <td>0.000524</td>\n",
       "      <td>0.000000</td>\n",
       "      <td>1.0</td>\n",
       "      <td>1.0</td>\n",
       "    </tr>\n",
       "    <tr>\n",
       "      <th>3</th>\n",
       "      <td>3</td>\n",
       "      <td>0</td>\n",
       "      <td>42</td>\n",
       "      <td>20.0</td>\n",
       "      <td>1.0</td>\n",
       "      <td>4.0</td>\n",
       "      <td>19.0</td>\n",
       "      <td>2.0</td>\n",
       "      <td>6.0</td>\n",
       "      <td>1.0</td>\n",
       "      <td>...</td>\n",
       "      <td>1.0</td>\n",
       "      <td>1.0</td>\n",
       "      <td>0.000000</td>\n",
       "      <td>0.000000</td>\n",
       "      <td>NaN</td>\n",
       "      <td>0.001064</td>\n",
       "      <td>0.001064</td>\n",
       "      <td>NaN</td>\n",
       "      <td>1.0</td>\n",
       "      <td>1.0</td>\n",
       "    </tr>\n",
       "    <tr>\n",
       "      <th>4</th>\n",
       "      <td>4</td>\n",
       "      <td>0</td>\n",
       "      <td>37</td>\n",
       "      <td>20.0</td>\n",
       "      <td>1.0</td>\n",
       "      <td>4.0</td>\n",
       "      <td>19.0</td>\n",
       "      <td>2.0</td>\n",
       "      <td>6.0</td>\n",
       "      <td>1.0</td>\n",
       "      <td>...</td>\n",
       "      <td>NaN</td>\n",
       "      <td>NaN</td>\n",
       "      <td>NaN</td>\n",
       "      <td>NaN</td>\n",
       "      <td>NaN</td>\n",
       "      <td>NaN</td>\n",
       "      <td>NaN</td>\n",
       "      <td>NaN</td>\n",
       "      <td>NaN</td>\n",
       "      <td>NaN</td>\n",
       "    </tr>\n",
       "  </tbody>\n",
       "</table>\n",
       "<p>5 rows × 111 columns</p>\n",
       "</div>"
      ],
      "text/plain": [
       "   Node  Feat4   Y  Column0  Column4  Column6  Column7  Column10  Column12  \\\n",
       "0     0      0  35     20.0      1.0      4.0     19.0       2.0       6.0   \n",
       "1     1      0   7     20.0      1.0      4.0     19.0       2.0       6.0   \n",
       "2     2      0  35     20.0      1.0      4.0     19.0       2.0       6.0   \n",
       "3     3      0  42     20.0      1.0      4.0     19.0       2.0       6.0   \n",
       "4     4      0  37     20.0      1.0      4.0     19.0       2.0       6.0   \n",
       "\n",
       "   Column13           ...             wCOUNT_of_NodeLeft  \\\n",
       "0       1.0           ...                            NaN   \n",
       "1       1.0           ...                            4.0   \n",
       "2       1.0           ...                            4.0   \n",
       "3       1.0           ...                            1.0   \n",
       "4       1.0           ...                            NaN   \n",
       "\n",
       "   wCOUNT_DISTINCT_of_NodeLeft  wMEAN_of_Feat1  wMAX_of_Feat1  wSTD_of_Feat1  \\\n",
       "0                          NaN             NaN            NaN            NaN   \n",
       "1                          4.0        0.047986       0.139597       0.065871   \n",
       "2                          1.0        0.008725       0.008725       0.000000   \n",
       "3                          1.0        0.000000       0.000000            NaN   \n",
       "4                          NaN             NaN            NaN            NaN   \n",
       "\n",
       "   wMEAN_of_Feat2  wMAX_of_Feat2  wSTD_of_Feat2  wCOUNT_DISTINCT_of_reg1  \\\n",
       "0             NaN            NaN            NaN                      NaN   \n",
       "1        0.005768       0.013179       0.005402                      2.0   \n",
       "2        0.000524       0.000524       0.000000                      1.0   \n",
       "3        0.001064       0.001064            NaN                      1.0   \n",
       "4             NaN            NaN            NaN                      NaN   \n",
       "\n",
       "   wCOUNT_DISTINCT_of_reg2  \n",
       "0                      NaN  \n",
       "1                      1.0  \n",
       "2                      1.0  \n",
       "3                      1.0  \n",
       "4                      NaN  \n",
       "\n",
       "[5 rows x 111 columns]"
      ]
     },
     "execution_count": 153,
     "metadata": {},
     "output_type": "execute_result"
    }
   ],
   "source": [
    "df.head()"
   ]
  },
  {
   "cell_type": "code",
   "execution_count": 154,
   "metadata": {
    "collapsed": false
   },
   "outputs": [
    {
     "data": {
      "text/plain": [
       "True"
      ]
     },
     "execution_count": 154,
     "metadata": {},
     "output_type": "execute_result"
    }
   ],
   "source": [
    "df.isnull().values.any()"
   ]
  },
  {
   "cell_type": "code",
   "execution_count": 210,
   "metadata": {
    "collapsed": false
   },
   "outputs": [],
   "source": [
    "def preproc(data):\n",
    "    data=data.fillna(0)\n",
    "    X=scaler.fit_transform(data)\n",
    "    return X"
   ]
  },
  {
   "cell_type": "code",
   "execution_count": 211,
   "metadata": {
    "collapsed": false
   },
   "outputs": [
    {
     "data": {
      "text/plain": [
       "34    15441\n",
       "35    14190\n",
       "32     6466\n",
       "50     6375\n",
       "37     3878\n",
       "45     3816\n",
       "40     2806\n",
       "52     2792\n",
       "0      2551\n",
       "46     2510\n",
       "36     2245\n",
       "33     2080\n",
       "55     1788\n",
       "7      1466\n",
       "58     1294\n",
       "Name: Y, dtype: int64"
      ]
     },
     "execution_count": 211,
     "metadata": {},
     "output_type": "execute_result"
    }
   ],
   "source": [
    "df.Y.value_counts()[:15]"
   ]
  },
  {
   "cell_type": "code",
   "execution_count": 212,
   "metadata": {
    "collapsed": true
   },
   "outputs": [],
   "source": [
    "Y=df.Y\n",
    "df=df.drop('Y',axis=1)\n",
    "X=preproc(df)"
   ]
  },
  {
   "cell_type": "code",
   "execution_count": 215,
   "metadata": {
    "collapsed": true
   },
   "outputs": [],
   "source": [
    "X_train, X_test, y_train, y_test = train_test_split(X, Y, test_size=0.33, random_state=0)"
   ]
  },
  {
   "cell_type": "code",
   "execution_count": 243,
   "metadata": {
    "collapsed": false
   },
   "outputs": [],
   "source": [
    "clf = RandomForestClassifier(random_state=0,class_weight=\"balanced\")\n",
    "tuned_parameters = [{'min_samples_split':np.arange(1, 4, 1)},\n",
    "                     {'n_estimators':np.arange(5, 25, 5)},\n",
    "                      {'max_depth':np.arange(1, 6, 1)}]\n",
    "gs = GridSearchCV(clf, tuned_parameters, cv=8,scoring=\"f1_weighted\" ,verbose=True)"
   ]
  },
  {
   "cell_type": "code",
   "execution_count": 244,
   "metadata": {
    "collapsed": false
   },
   "outputs": [
    {
     "name": "stdout",
     "output_type": "stream",
     "text": [
      "Fitting 8 folds for each of 12 candidates, totalling 96 fits\n"
     ]
    },
    {
     "name": "stderr",
     "output_type": "stream",
     "text": [
      "[Parallel(n_jobs=1)]: Done  49 tasks       | elapsed:  3.4min\n",
      "[Parallel(n_jobs=1)]: Done  96 out of  96 | elapsed:  4.8min finished\n"
     ]
    },
    {
     "data": {
      "text/plain": [
       "GridSearchCV(cv=8, error_score='raise',\n",
       "       estimator=RandomForestClassifier(bootstrap=True, class_weight='balanced',\n",
       "            criterion='gini', max_depth=None, max_features='auto',\n",
       "            max_leaf_nodes=None, min_samples_leaf=1, min_samples_split=2,\n",
       "            min_weight_fraction_leaf=0.0, n_estimators=10, n_jobs=1,\n",
       "            oob_score=False, random_state=0, verbose=0, warm_start=False),\n",
       "       fit_params={}, iid=True, n_jobs=1,\n",
       "       param_grid=[{'min_samples_split': array([1, 2, 3])}, {'n_estimators': array([ 5, 10, 15, 20])}, {'max_depth': array([1, 2, 3, 4, 5])}],\n",
       "       pre_dispatch='2*n_jobs', refit=True, scoring='f1_weighted',\n",
       "       verbose=True)"
      ]
     },
     "execution_count": 244,
     "metadata": {},
     "output_type": "execute_result"
    }
   ],
   "source": [
    "gs.fit(X_train, y_train)"
   ]
  },
  {
   "cell_type": "code",
   "execution_count": 245,
   "metadata": {
    "collapsed": false
   },
   "outputs": [
    {
     "data": {
      "text/plain": [
       "RandomForestClassifier(bootstrap=True, class_weight='balanced',\n",
       "            criterion='gini', max_depth=None, max_features='auto',\n",
       "            max_leaf_nodes=None, min_samples_leaf=1, min_samples_split=2,\n",
       "            min_weight_fraction_leaf=0.0, n_estimators=20, n_jobs=1,\n",
       "            oob_score=False, random_state=0, verbose=0, warm_start=False)"
      ]
     },
     "execution_count": 245,
     "metadata": {},
     "output_type": "execute_result"
    }
   ],
   "source": [
    "gs.best_estimator_"
   ]
  },
  {
   "cell_type": "code",
   "execution_count": 246,
   "metadata": {
    "collapsed": false
   },
   "outputs": [
    {
     "data": {
      "text/plain": [
       "34    10397\n",
       "35     9454\n",
       "32     4345\n",
       "50     4277\n",
       "37     2633\n",
       "45     2550\n",
       "40     1879\n",
       "52     1834\n",
       "0      1724\n",
       "46     1674\n",
       "36     1477\n",
       "33     1385\n",
       "55     1222\n",
       "7      1025\n",
       "58      834\n",
       "dtype: int64"
      ]
     },
     "execution_count": 246,
     "metadata": {},
     "output_type": "execute_result"
    }
   ],
   "source": [
    "preds_train=pd.Series(gs.predict(X_train))\n",
    "preds_train.value_counts()[:15]"
   ]
  },
  {
   "cell_type": "code",
   "execution_count": 247,
   "metadata": {
    "collapsed": false
   },
   "outputs": [
    {
     "name": "stdout",
     "output_type": "stream",
     "text": [
      "MSE:  1.83412765957\n",
      "F-мера:  0.993046201687\n"
     ]
    }
   ],
   "source": [
    "print (\"MSE: \", mean_squared_error(y_train, preds_train))\n",
    "print (\"F-мера: \", f1_score(y_train, preds_train))"
   ]
  },
  {
   "cell_type": "markdown",
   "metadata": {},
   "source": [
    "Смотрим на валидацию"
   ]
  },
  {
   "cell_type": "code",
   "execution_count": 248,
   "metadata": {
    "collapsed": false
   },
   "outputs": [
    {
     "name": "stdout",
     "output_type": "stream",
     "text": [
      "MSE:  224.21716142\n",
      "F-мера:  0.179487877491\n"
     ]
    }
   ],
   "source": [
    "print (\"MSE: \",mean_squared_error(y_test, gs.predict(X_test)))\n",
    "print (\"F-мера: \",f1_score(y_test, gs.predict(X_test)))"
   ]
  },
  {
   "cell_type": "markdown",
   "metadata": {},
   "source": [
    "# TEST"
   ]
  },
  {
   "cell_type": "code",
   "execution_count": 217,
   "metadata": {
    "collapsed": true
   },
   "outputs": [],
   "source": [
    "test=preproc(test)"
   ]
  },
  {
   "cell_type": "code",
   "execution_count": 249,
   "metadata": {
    "collapsed": false
   },
   "outputs": [
    {
     "data": {
      "text/plain": [
       "34    10025\n",
       "35     2896\n",
       "50     1334\n",
       "32     1199\n",
       "7       648\n",
       "0       523\n",
       "40      489\n",
       "46      376\n",
       "57      261\n",
       "55      260\n",
       "33      255\n",
       "27      177\n",
       "37      158\n",
       "15      145\n",
       "45      139\n",
       "dtype: int64"
      ]
     },
     "execution_count": 249,
     "metadata": {},
     "output_type": "execute_result"
    }
   ],
   "source": [
    "ans=gs.predict(test)\n",
    "ans.value_counts()[:15]"
   ]
  },
  {
   "cell_type": "code",
   "execution_count": 237,
   "metadata": {
    "collapsed": false
   },
   "outputs": [
    {
     "data": {
      "text/html": [
       "<div>\n",
       "<table border=\"1\" class=\"dataframe\">\n",
       "  <thead>\n",
       "    <tr style=\"text-align: right;\">\n",
       "      <th></th>\n",
       "      <th>Node</th>\n",
       "      <th>0</th>\n",
       "    </tr>\n",
       "  </thead>\n",
       "  <tbody>\n",
       "    <tr>\n",
       "      <th>0</th>\n",
       "      <td>8</td>\n",
       "      <td>7</td>\n",
       "    </tr>\n",
       "    <tr>\n",
       "      <th>1</th>\n",
       "      <td>13</td>\n",
       "      <td>21</td>\n",
       "    </tr>\n",
       "    <tr>\n",
       "      <th>2</th>\n",
       "      <td>15</td>\n",
       "      <td>50</td>\n",
       "    </tr>\n",
       "    <tr>\n",
       "      <th>3</th>\n",
       "      <td>18</td>\n",
       "      <td>7</td>\n",
       "    </tr>\n",
       "    <tr>\n",
       "      <th>4</th>\n",
       "      <td>19</td>\n",
       "      <td>59</td>\n",
       "    </tr>\n",
       "    <tr>\n",
       "      <th>5</th>\n",
       "      <td>22</td>\n",
       "      <td>7</td>\n",
       "    </tr>\n",
       "    <tr>\n",
       "      <th>6</th>\n",
       "      <td>24</td>\n",
       "      <td>21</td>\n",
       "    </tr>\n",
       "    <tr>\n",
       "      <th>7</th>\n",
       "      <td>26</td>\n",
       "      <td>18</td>\n",
       "    </tr>\n",
       "    <tr>\n",
       "      <th>8</th>\n",
       "      <td>27</td>\n",
       "      <td>35</td>\n",
       "    </tr>\n",
       "    <tr>\n",
       "      <th>9</th>\n",
       "      <td>30</td>\n",
       "      <td>59</td>\n",
       "    </tr>\n",
       "    <tr>\n",
       "      <th>10</th>\n",
       "      <td>38</td>\n",
       "      <td>35</td>\n",
       "    </tr>\n",
       "    <tr>\n",
       "      <th>11</th>\n",
       "      <td>43</td>\n",
       "      <td>7</td>\n",
       "    </tr>\n",
       "    <tr>\n",
       "      <th>12</th>\n",
       "      <td>47</td>\n",
       "      <td>6</td>\n",
       "    </tr>\n",
       "    <tr>\n",
       "      <th>13</th>\n",
       "      <td>48</td>\n",
       "      <td>40</td>\n",
       "    </tr>\n",
       "    <tr>\n",
       "      <th>14</th>\n",
       "      <td>52</td>\n",
       "      <td>59</td>\n",
       "    </tr>\n",
       "    <tr>\n",
       "      <th>15</th>\n",
       "      <td>55</td>\n",
       "      <td>7</td>\n",
       "    </tr>\n",
       "    <tr>\n",
       "      <th>16</th>\n",
       "      <td>58</td>\n",
       "      <td>35</td>\n",
       "    </tr>\n",
       "    <tr>\n",
       "      <th>17</th>\n",
       "      <td>60</td>\n",
       "      <td>7</td>\n",
       "    </tr>\n",
       "    <tr>\n",
       "      <th>18</th>\n",
       "      <td>61</td>\n",
       "      <td>35</td>\n",
       "    </tr>\n",
       "    <tr>\n",
       "      <th>19</th>\n",
       "      <td>62</td>\n",
       "      <td>50</td>\n",
       "    </tr>\n",
       "    <tr>\n",
       "      <th>20</th>\n",
       "      <td>72</td>\n",
       "      <td>35</td>\n",
       "    </tr>\n",
       "    <tr>\n",
       "      <th>21</th>\n",
       "      <td>74</td>\n",
       "      <td>40</td>\n",
       "    </tr>\n",
       "    <tr>\n",
       "      <th>22</th>\n",
       "      <td>80</td>\n",
       "      <td>35</td>\n",
       "    </tr>\n",
       "    <tr>\n",
       "      <th>23</th>\n",
       "      <td>84</td>\n",
       "      <td>59</td>\n",
       "    </tr>\n",
       "    <tr>\n",
       "      <th>24</th>\n",
       "      <td>103</td>\n",
       "      <td>21</td>\n",
       "    </tr>\n",
       "    <tr>\n",
       "      <th>25</th>\n",
       "      <td>106</td>\n",
       "      <td>34</td>\n",
       "    </tr>\n",
       "    <tr>\n",
       "      <th>26</th>\n",
       "      <td>110</td>\n",
       "      <td>35</td>\n",
       "    </tr>\n",
       "    <tr>\n",
       "      <th>27</th>\n",
       "      <td>117</td>\n",
       "      <td>35</td>\n",
       "    </tr>\n",
       "    <tr>\n",
       "      <th>28</th>\n",
       "      <td>118</td>\n",
       "      <td>34</td>\n",
       "    </tr>\n",
       "    <tr>\n",
       "      <th>29</th>\n",
       "      <td>122</td>\n",
       "      <td>40</td>\n",
       "    </tr>\n",
       "    <tr>\n",
       "      <th>...</th>\n",
       "      <td>...</td>\n",
       "      <td>...</td>\n",
       "    </tr>\n",
       "    <tr>\n",
       "      <th>19970</th>\n",
       "      <td>106596</td>\n",
       "      <td>4</td>\n",
       "    </tr>\n",
       "    <tr>\n",
       "      <th>19971</th>\n",
       "      <td>106602</td>\n",
       "      <td>4</td>\n",
       "    </tr>\n",
       "    <tr>\n",
       "      <th>19972</th>\n",
       "      <td>106611</td>\n",
       "      <td>35</td>\n",
       "    </tr>\n",
       "    <tr>\n",
       "      <th>19973</th>\n",
       "      <td>106616</td>\n",
       "      <td>4</td>\n",
       "    </tr>\n",
       "    <tr>\n",
       "      <th>19974</th>\n",
       "      <td>106621</td>\n",
       "      <td>35</td>\n",
       "    </tr>\n",
       "    <tr>\n",
       "      <th>19975</th>\n",
       "      <td>106622</td>\n",
       "      <td>14</td>\n",
       "    </tr>\n",
       "    <tr>\n",
       "      <th>19976</th>\n",
       "      <td>106626</td>\n",
       "      <td>4</td>\n",
       "    </tr>\n",
       "    <tr>\n",
       "      <th>19977</th>\n",
       "      <td>106632</td>\n",
       "      <td>14</td>\n",
       "    </tr>\n",
       "    <tr>\n",
       "      <th>19978</th>\n",
       "      <td>106638</td>\n",
       "      <td>35</td>\n",
       "    </tr>\n",
       "    <tr>\n",
       "      <th>19979</th>\n",
       "      <td>106642</td>\n",
       "      <td>59</td>\n",
       "    </tr>\n",
       "    <tr>\n",
       "      <th>19980</th>\n",
       "      <td>106644</td>\n",
       "      <td>34</td>\n",
       "    </tr>\n",
       "    <tr>\n",
       "      <th>19981</th>\n",
       "      <td>106664</td>\n",
       "      <td>34</td>\n",
       "    </tr>\n",
       "    <tr>\n",
       "      <th>19982</th>\n",
       "      <td>106665</td>\n",
       "      <td>34</td>\n",
       "    </tr>\n",
       "    <tr>\n",
       "      <th>19983</th>\n",
       "      <td>106669</td>\n",
       "      <td>34</td>\n",
       "    </tr>\n",
       "    <tr>\n",
       "      <th>19984</th>\n",
       "      <td>106670</td>\n",
       "      <td>34</td>\n",
       "    </tr>\n",
       "    <tr>\n",
       "      <th>19985</th>\n",
       "      <td>106672</td>\n",
       "      <td>34</td>\n",
       "    </tr>\n",
       "    <tr>\n",
       "      <th>19986</th>\n",
       "      <td>106678</td>\n",
       "      <td>7</td>\n",
       "    </tr>\n",
       "    <tr>\n",
       "      <th>19987</th>\n",
       "      <td>106679</td>\n",
       "      <td>34</td>\n",
       "    </tr>\n",
       "    <tr>\n",
       "      <th>19988</th>\n",
       "      <td>106680</td>\n",
       "      <td>35</td>\n",
       "    </tr>\n",
       "    <tr>\n",
       "      <th>19989</th>\n",
       "      <td>106681</td>\n",
       "      <td>31</td>\n",
       "    </tr>\n",
       "    <tr>\n",
       "      <th>19990</th>\n",
       "      <td>106683</td>\n",
       "      <td>34</td>\n",
       "    </tr>\n",
       "    <tr>\n",
       "      <th>19991</th>\n",
       "      <td>106686</td>\n",
       "      <td>35</td>\n",
       "    </tr>\n",
       "    <tr>\n",
       "      <th>19992</th>\n",
       "      <td>106694</td>\n",
       "      <td>35</td>\n",
       "    </tr>\n",
       "    <tr>\n",
       "      <th>19993</th>\n",
       "      <td>106696</td>\n",
       "      <td>14</td>\n",
       "    </tr>\n",
       "    <tr>\n",
       "      <th>19994</th>\n",
       "      <td>106698</td>\n",
       "      <td>14</td>\n",
       "    </tr>\n",
       "    <tr>\n",
       "      <th>19995</th>\n",
       "      <td>106703</td>\n",
       "      <td>35</td>\n",
       "    </tr>\n",
       "    <tr>\n",
       "      <th>19996</th>\n",
       "      <td>106724</td>\n",
       "      <td>34</td>\n",
       "    </tr>\n",
       "    <tr>\n",
       "      <th>19997</th>\n",
       "      <td>106752</td>\n",
       "      <td>34</td>\n",
       "    </tr>\n",
       "    <tr>\n",
       "      <th>19998</th>\n",
       "      <td>106760</td>\n",
       "      <td>35</td>\n",
       "    </tr>\n",
       "    <tr>\n",
       "      <th>19999</th>\n",
       "      <td>106764</td>\n",
       "      <td>35</td>\n",
       "    </tr>\n",
       "  </tbody>\n",
       "</table>\n",
       "<p>20000 rows × 2 columns</p>\n",
       "</div>"
      ],
      "text/plain": [
       "         Node   0\n",
       "0           8   7\n",
       "1          13  21\n",
       "2          15  50\n",
       "3          18   7\n",
       "4          19  59\n",
       "5          22   7\n",
       "6          24  21\n",
       "7          26  18\n",
       "8          27  35\n",
       "9          30  59\n",
       "10         38  35\n",
       "11         43   7\n",
       "12         47   6\n",
       "13         48  40\n",
       "14         52  59\n",
       "15         55   7\n",
       "16         58  35\n",
       "17         60   7\n",
       "18         61  35\n",
       "19         62  50\n",
       "20         72  35\n",
       "21         74  40\n",
       "22         80  35\n",
       "23         84  59\n",
       "24        103  21\n",
       "25        106  34\n",
       "26        110  35\n",
       "27        117  35\n",
       "28        118  34\n",
       "29        122  40\n",
       "...       ...  ..\n",
       "19970  106596   4\n",
       "19971  106602   4\n",
       "19972  106611  35\n",
       "19973  106616   4\n",
       "19974  106621  35\n",
       "19975  106622  14\n",
       "19976  106626   4\n",
       "19977  106632  14\n",
       "19978  106638  35\n",
       "19979  106642  59\n",
       "19980  106644  34\n",
       "19981  106664  34\n",
       "19982  106665  34\n",
       "19983  106669  34\n",
       "19984  106670  34\n",
       "19985  106672  34\n",
       "19986  106678   7\n",
       "19987  106679  34\n",
       "19988  106680  35\n",
       "19989  106681  31\n",
       "19990  106683  34\n",
       "19991  106686  35\n",
       "19992  106694  35\n",
       "19993  106696  14\n",
       "19994  106698  14\n",
       "19995  106703  35\n",
       "19996  106724  34\n",
       "19997  106752  34\n",
       "19998  106760  35\n",
       "19999  106764  35\n",
       "\n",
       "[20000 rows x 2 columns]"
      ]
     },
     "execution_count": 237,
     "metadata": {},
     "output_type": "execute_result"
    }
   ],
   "source": [
    "ans=pd.concat([test2[\"Node\"],ans], axis=1)\n",
    "ans.to_csv(\"answer.csv\")"
   ]
  }
 ],
 "metadata": {
  "anaconda-cloud": {},
  "kernelspec": {
   "display_name": "Python 3",
   "language": "python",
   "name": "python3"
  },
  "language_info": {
   "codemirror_mode": {
    "name": "ipython",
    "version": 3
   },
   "file_extension": ".py",
   "mimetype": "text/x-python",
   "name": "python",
   "nbconvert_exporter": "python",
   "pygments_lexer": "ipython3",
   "version": "3.5.2"
  }
 },
 "nbformat": 4,
 "nbformat_minor": 1
}
